{
 "cells": [
  {
   "cell_type": "markdown",
   "metadata": {},
   "source": [
    "# MNIST\n",
    "\n",
    "This set of problems builds on 04-knn. We will use the knn function to classify images of handwritten digits. If you had trouble implementing KNN and would like working KNN code, please let me know! I will provide some. You will need to either copy and paste this code to the bottom of your KNN notebook or copy your KNN functions into the top of this notebook. Either way is fine."
   ]
  },
  {
   "cell_type": "markdown",
   "metadata": {},
   "source": [
    "## Problem 14\n",
    "\n",
    "Now, let's load the `mnist` dataset. This is one of the most common datasets in machine learning research. It is a collection of 70,000 handwritten digits, \"0\" through \"9\". 60,000 of these are \"training data\" and 10,000 are \"test data\". We know the labels of the training data - we use it to traing a statistical model or, in our case, a KNN classifier. The test data are not shown to the algorithm. We use the test data to evaluate how well our algorithm can classify each image.\n",
    "\n",
    "In a terminal, run the following:\n",
    "```\n",
    "conda install -c conda-forge mnist\n",
    "```\n",
    "\n",
    "Then, run the following code:\n",
    "```\n",
    "import matplotlib.pyplot as plt\n",
    "import mnist\n",
    "\n",
    "images_train = mnist.train_images()\n",
    "images_train_labels = mnist.train_labels()\n",
    "images_test = mnist.test_images()\n",
    "images_test_labels = mnist.test_labels()\n",
    "```\n",
    "\n",
    "You can find more information about MNIST here: http://yann.lecun.com/exdb/mnist/. This website even includes a running list of the best algorithms and how well they perform! You'll see there's an entire category for k-NN algorithms. The error rate is 1-accuracy. We are implementing the algorithm described in the first two rows of the k-NN section."
   ]
  },
  {
   "cell_type": "code",
   "execution_count": 154,
   "metadata": {},
   "outputs": [],
   "source": [
    "import matplotlib.pyplot as plt\n",
    "import mnist\n",
    "images_train = mnist.train_images()\n",
    "images_train_labels = mnist.train_labels()\n",
    "images_test = mnist.test_images()\n",
    "images_test_labels = mnist.test_labels()"
   ]
  },
  {
   "cell_type": "markdown",
   "metadata": {},
   "source": [
    "## Problem 15\n",
    "\n",
    "Let's visualize the first digit. First, confirm that our `images_train` array is a 3 dimensional tensor. It is a numpy array, so you can use the `.shape` attribute. \n"
   ]
  },
  {
   "cell_type": "code",
   "execution_count": 155,
   "metadata": {},
   "outputs": [
    {
     "data": {
      "text/plain": [
       "(60000, 28, 28)"
      ]
     },
     "execution_count": 155,
     "metadata": {},
     "output_type": "execute_result"
    }
   ],
   "source": [
    "images_train.shape"
   ]
  },
  {
   "cell_type": "markdown",
   "metadata": {},
   "source": [
    "If you did that correctly, you'll see that the array is 60,000 by 28 by 28 elements in size. Therefore, our first dimension (rows) is probably the images. So, to plot the first digit, run the following code:\n",
    "\n",
    "```\n",
    "plt.imshow(images_train[0,:,:])\n",
    "```"
   ]
  },
  {
   "cell_type": "code",
   "execution_count": 156,
   "metadata": {},
   "outputs": [
    {
     "data": {
      "text/plain": [
       "<matplotlib.image.AxesImage at 0x7fce9effb910>"
      ]
     },
     "execution_count": 156,
     "metadata": {},
     "output_type": "execute_result"
    },
    {
     "data": {
      "image/png": "[encoded data removed]",
      "text/plain": [
       "<Figure size 432x288 with 1 Axes>"
      ]
     },
     "metadata": {
      "needs_background": "light"
     },
     "output_type": "display_data"
    }
   ],
   "source": [
    "plt.imshow(images_train[0,:,:])"
   ]
  },
  {
   "cell_type": "markdown",
   "metadata": {},
   "source": [
    "## Problem 16\n",
    "\n",
    "Now, let's see what our labels look like. Go ahead and print the `images_train_labels` array. Does the first label match the image you just plotted?"
   ]
  },
  {
   "cell_type": "markdown",
   "metadata": {},
   "source": [
    "## Problem 17\n",
    "\n",
    "The MNIST data are not scaled properly. Right now the background of an image is 0 (black) and the foreground is 255 (white). Divide `images_test` and `images_train` by 255 and save the results back in `images_test` and `images_train`. "
   ]
  },
  {
   "cell_type": "code",
   "execution_count": 157,
   "metadata": {},
   "outputs": [],
   "source": [
    "images_test = images_test/255\n",
    "images_train = images_train/255"
   ]
  },
  {
   "cell_type": "markdown",
   "metadata": {},
   "source": [
    "## Problem 16\n",
    "\n",
    "Now, you are all set to use your KNN classifier to classify these handwritten digits. Use your knn function and the following datasets to classify the first 200 images in the images_test dataset:\n",
    "\n",
    "* `images_test[0:200,:,:]`\n",
    "* `images_train\n",
    "* `images_train_labels`\n",
    "\n",
    "This may take several minutes because you are computing 200 x 60,000 distances. That's 12 million computations.\n",
    "\n",
    "Save your results (predicted classes) in a new object called `test_predictions`. \n"
   ]
  },
  {
   "cell_type": "code",
   "execution_count": 158,
   "metadata": {},
   "outputs": [],
   "source": [
    "images_test = images_test[0:200,:,:]"
   ]
  },
  {
   "cell_type": "code",
   "execution_count": 159,
   "metadata": {},
   "outputs": [],
   "source": [
    "import numpy as np\n",
    "import logging\n",
    "\n",
    "class RetrieveDistances(object):\n",
    "    @staticmethod   \n",
    "    def euclidean(x,y):\n",
    "        \"\"\"\n",
    "        Inputput\n",
    "            x: a 1-dimensional numpy array\n",
    "            y: a 1-dimensional numpy array\n",
    "        Output\n",
    "            A single number, the euclidean distance between x and y\n",
    "        \"\"\"      \n",
    "\n",
    "        return(np.sqrt(np.sum((x - y)**2)))\n",
    "    \n",
    "    @staticmethod\n",
    "    def many_distances(x,Y):\n",
    "\n",
    "        \"\"\"\n",
    "        Input\n",
    "            x: a single point as a numpy array\n",
    "            Y: a 2-dimensional numpy array\n",
    "        Output\n",
    "            a numpy array of euclidean distances\n",
    "        \"\"\"\n",
    "        result = np.zeros(Y.shape[0])\n",
    "        for idx in range(0, Y.shape[0]):            \n",
    "            dist = RetrieveDistances.euclidean(x, Y[idx])          \n",
    "            result[idx] = dist  \n",
    "        return(result)\n",
    "    \n",
    "    @staticmethod\n",
    "    def closest_indices(dists, n):\n",
    "\n",
    "        \"\"\"\n",
    "        Input\n",
    "            dists: a numpy array of distances (1 dimensional)\n",
    "            n: the number of lowest values to find\n",
    "        Output\n",
    "            a numpy array with the indexes in dists where the\n",
    "            n lowest values are located.\n",
    "        \"\"\"\n",
    "\n",
    "        arrIndexes = np.argsort(dists)   \n",
    "        return(arrIndexes[0:n])\n",
    "    \n",
    "    @staticmethod\n",
    "    def get_values_by_index(indices, values):\n",
    "        \"\"\"\n",
    "        Input\n",
    "            indices: a numpy array of indices\n",
    "            values: a list of values\n",
    "        Output\n",
    "            a list of elements from values whose indexes\n",
    "            are the values in indices\n",
    "        \"\"\"\n",
    "        arr = np.array(values)\n",
    "        return(arr[indices])\n",
    "    \n",
    "    @staticmethod\n",
    "    def get_mode(values):\n",
    "        \"\"\"\n",
    "        Input\n",
    "            values: a lists of values\n",
    "        Output\n",
    "            the most common value in the list.\n",
    "            If there's a tie, break it any way you want to.\n",
    "        \"\"\"\n",
    "\n",
    "        counts = np.unique(values, return_counts=True)\n",
    "        cnt = np.argsort(counts[1])   \n",
    "        colorIndex = cnt[len(cnt) -1]\n",
    "        label = counts[0][colorIndex]   \n",
    "        return(label)\n",
    "    \n",
    "    @staticmethod\n",
    "    def knn(ind, test_pts, train_pts, labels, k):\n",
    "        \"\"\"\n",
    "        Input\n",
    "            test: A 2-D numpy array of points (rows) and features (cols)\n",
    "            train: A 2-D numpy array of points (rows) and features (cols)\n",
    "            labels: A list of labels associated with train points\n",
    "        Output\n",
    "            A list of best guesses for the test labels\n",
    "        \"\"\"      \n",
    "        output = []    \n",
    "        startIdx = ind[0]\n",
    "        endIdx = ind[1]\n",
    "        subsetOfPoints = test_pts[startIdx:endIdx]\n",
    "       \n",
    "        for i in range(0,subsetOfPoints.shape[0]):                     \n",
    "            dists = RetrieveDistances.many_distances(subsetOfPoints[i],train_pts)              \n",
    "            label_indices = RetrieveDistances.closest_indices(dists, k)           \n",
    "            labelSet = RetrieveDistances.get_values_by_index(label_indices, labels)          \n",
    "            predictedLabel = RetrieveDistances.get_mode(labelSet)\n",
    "            output.append(predictedLabel)      \n",
    "            \n",
    "        \n",
    "        return output\n",
    "    \n",
    "    @staticmethod    \n",
    "    def multiclass_accuracy(truth,predictions):\n",
    "        \"\"\"\n",
    "        Input\n",
    "        truth: a list of true labels\n",
    "        predictions: a list of predicted labels\n",
    "        Output\n",
    "        a single value - the multiclass accuracy\n",
    "        \"\"\"\n",
    "        cmp = np.array(truth) == np.array(predictions)\n",
    "        wrong = len(cmp[cmp == False])\n",
    "        right = len(cmp[cmp == True])\n",
    "        accuracy = right/(wrong + right)\n",
    "        return(accuracy)"
   ]
  },
  {
   "cell_type": "code",
   "execution_count": 168,
   "metadata": {},
   "outputs": [
    {
     "name": "stdout",
     "output_type": "stream",
     "text": [
      "[7, 2, 1, 0, 4, 1, 4, 9, 5, 9, 0, 6, 9, 0, 1, 5, 9, 7, 3, 4, 9, 6, 6, 5, 4, 0, 7, 4, 0, 1, 3, 1, 3, 4, 7, 2, 7, 1, 2, 1, 1, 7, 4, 2, 3, 5, 1, 2, 4, 4, 6, 3, 5, 5, 6, 0, 4, 1, 9, 5, 7, 8, 9, 3, 7, 4, 6, 4, 3, 0, 7, 0, 2, 9, 1, 7, 3, 2, 9, 7, 7, 6, 2, 7, 8, 4, 7, 3, 6, 1, 3, 6, 9, 3, 1, 4, 1, 7, 6, 9, 6, 0, 5, 4, 9, 9, 2, 1, 9, 4, 8, 7, 3, 9, 7, 9, 4, 4, 9, 2, 5, 4, 7, 6, 7, 9, 0, 5, 8, 5, 6, 6, 5, 7, 8, 1, 0, 1, 6, 4, 6, 7, 3, 1, 7, 1, 8, 2, 0, 2, 9, 9, 5, 5, 1, 5, 6, 0, 3, 4, 4, 6, 5, 4, 6, 5, 4, 5, 1, 4, 4, 7, 2, 3, 2, 7, 1, 8, 1, 8, 1, 8, 5, 0, 8, 9, 2, 5, 0, 1, 1, 1, 0, 9, 0, 5, 1, 6, 4, 2]\n",
      "Test Image Set Size:  200\n",
      "Number of Processes: 4\n",
      "Start Time = 08:03:29.310493 \n",
      "End Time = 08:04:38.519541 \n",
      "Total Run Time (Seconds) = 69.209048\n"
     ]
    }
   ],
   "source": [
    "import concurrent.futures\n",
    "import math\n",
    "\n",
    "def testMethod(item):     \n",
    "    result = RetrieveDistances.knn(item, images_test_set, images_train, images_train_labels, k)\n",
    "    return result\n",
    "\n",
    "def main(tupList, numProcesses):\n",
    "    result = []\n",
    "    with concurrent.futures.ProcessPoolExecutor(max_workers = numProcesses) as executor:\n",
    "        for tupRange, label in zip(tupList, executor.map(testMethod, tupList)):\n",
    "            for item in label:\n",
    "                result.append(item)\n",
    "    return result\n",
    "            \n",
    "def getInput(size, interval):    \n",
    "    arr = []    \n",
    "    iterations = int(size/interval)\n",
    "    for i in range(0,iterations):\n",
    "        start = i*interval\n",
    "        end = start + interval        \n",
    "        arr.append((start, end))       \n",
    "    return arr\n",
    "\n",
    "\n",
    "if __name__ == '__main__':\n",
    "    k = 1\n",
    "    testSize = 200\n",
    "    numProcesses = 4   \n",
    "    interval = 2  \n",
    "    images_test_set = images_test[:testSize]\n",
    "    maxNum = images_test_set.shape[0]    \n",
    "   \n",
    "   \n",
    "    tupList = getInput(maxNum, interval) \n",
    "    start_time = datetime.now()\n",
    "    \n",
    "    predictedLabels = main(tupList, numProcesses)\n",
    "    print(predictedLabels)  \n",
    "    \n",
    "    end_time = datetime.now()\n",
    "    diff = end_time - start_time\n",
    "    print(\"Test Image Set Size: \", maxNum)\n",
    "    print(\"Number of Processes:\", numProcesses)\n",
    "    print(\"Start Time =\", start_time.strftime('%H:%M:%S.%f'), \"\\nEnd Time =\", end_time.strftime('%H:%M:%S.%f'), \"\\nTotal Run Time (Seconds) =\", diff.total_seconds())\n"
   ]
  },
  {
   "cell_type": "markdown",
   "metadata": {},
   "source": [
    "## Problem 17\n",
    "\n",
    "Compute your classifier's accuracy. Remember to compare your output `test_predictions` against only the first 200 elements of `images_test_labels`. Multiclass accuracy is just the proportion of cases that are correctly predicted. In other words, it is the average of the vector that is `[0,1,0,1,1,1,...]` where 0 represent \"not equal to the true label\" and 1 represents \"equal to the true label.\""
   ]
  },
  {
   "cell_type": "code",
   "execution_count": 167,
   "metadata": {},
   "outputs": [
    {
     "name": "stdout",
     "output_type": "stream",
     "text": [
      "Classifier Accuracy (k = 1): 99.0%\n"
     ]
    }
   ],
   "source": [
    "accuracy = RetrieveDistances.multiclass_accuracy(images_test_labels[:testSize], predictedLabels)\n",
    "print(\"Classifier Accuracy (k = 1):\",'{:.1%}'.format(accuracy))"
   ]
  }
 ],
 "metadata": {
  "kernelspec": {
   "display_name": "Python 3",
   "language": "python",
   "name": "python3"
  },
  "language_info": {
   "codemirror_mode": {
    "name": "ipython",
    "version": 3
   },
   "file_extension": ".py",
   "mimetype": "text/x-python",
   "name": "python",
   "nbconvert_exporter": "python",
   "pygments_lexer": "ipython3",
   "version": "3.7.4"
  }
 },
 "nbformat": 4,
 "nbformat_minor": 2
}
