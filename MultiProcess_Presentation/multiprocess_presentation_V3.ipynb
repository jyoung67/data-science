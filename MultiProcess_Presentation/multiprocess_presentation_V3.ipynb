{
 "cells": [
  {
   "cell_type": "markdown",
   "metadata": {},
   "source": [
    "#  <font color='blue'> Object-Oriented Multiprocessing Using MNIST Dataset </font> \n",
    "   <font color='green'> by Jack Young </font>"
   ]
  },
  {
   "cell_type": "markdown",
   "metadata": {},
   "source": [
    "# <font color='blue'>ProcessPoolExecutor Class for Multiprocessing</font>\n",
    "<img src=\"ProcessPoolExecutor.jpg\" /> \n",
    "Source:  https://docs.python.org/3/library/concurrent.futures.html"
   ]
  },
  {
   "cell_type": "markdown",
   "metadata": {},
   "source": [
    "## <font color='blue'> Import MNIST Data </font>\n",
    "Source:  http://yann.lecun.com/exdb/mnist/"
   ]
  },
  {
   "cell_type": "code",
   "execution_count": 46,
   "metadata": {},
   "outputs": [
    {
     "name": "stdout",
     "output_type": "stream",
     "text": [
      "Dimensions of training data: (60000, 28, 28)\n",
      "Dimensions of training labels: (60000,) \n",
      "\n",
      "Dimensions of test images: (10000, 28, 28)\n",
      "Dimensions of test labels: (10000,)\n"
     ]
    }
   ],
   "source": [
    "import numpy as np\n",
    "import matplotlib.pyplot as plt\n",
    "import mnist\n",
    "from datetime import datetime\n",
    "\n",
    "# Import images and labels\n",
    "images_train = mnist.train_images()\n",
    "images_train_labels = mnist.train_labels()\n",
    "images_test = mnist.test_images()\n",
    "images_test_labels = mnist.test_labels()\n",
    "\n",
    "# Scale testing and training images\n",
    "images_test = images_test/255\n",
    "images_train = images_train/255\n",
    "\n",
    "print(\"Dimensions of training data:\", images_train.shape)\n",
    "print(\"Dimensions of training labels:\", images_train_labels.shape, \"\\n\")\n",
    "print(\"Dimensions of test images:\", images_test.shape)\n",
    "print(\"Dimensions of test labels:\", images_test_labels.shape)"
   ]
  },
  {
   "cell_type": "markdown",
   "metadata": {},
   "source": [
    "# <font color='blue'> Create Custom Multiprocessing Class </font>"
   ]
  },
  {
   "cell_type": "code",
   "execution_count": 47,
   "metadata": {},
   "outputs": [],
   "source": [
    "import concurrent.futures\n",
    "\n",
    "# Reuse an existing custom class stored in a separate file\n",
    "import KnnClassifier as Classifier\n",
    "\n",
    "class MultiProcess(object):\n",
    "    \n",
    "    # class constructor method\n",
    "    def __init__(self, testingImages, testingLabels, trainingImages, trainingLabels, kSize):\n",
    "        self.start_time = None\n",
    "        MultiProcess.testingImages = testingImages\n",
    "        MultiProcess.testingLabels = testingLabels\n",
    "        MultiProcess.trainingImages = trainingImages\n",
    "        MultiProcess.trainingLabels = trainingLabels\n",
    "        MultiProcess.kSize = kSize     \n",
    "    \n",
    "    # Public facing method to predict labels for MNIST data\n",
    "    def invokeMultiProcessMethod(self, numProcesses, intervalSize):       \n",
    "        maxNum = MultiProcess.testingImages.shape[0]       \n",
    "        tupList = self.__getInput(maxNum, intervalSize)\n",
    "        print(\"Input work items:  \", tupList)        \n",
    "        predictedLabels = self.__main(tupList, numProcesses)\n",
    "        self.__reportResults(predictedLabels, maxNum, numProcesses)          \n",
    "    \n",
    "    # Invoke KNN classifier (class file KnnClassifier.py )\n",
    "    @staticmethod \n",
    "    def _testMethod(item):       \n",
    "        intermediateResult = Classifier.KnnClassifier.knn(item, \n",
    "                                                   MultiProcess.testingImages, \n",
    "                                                   MultiProcess.trainingImages, \n",
    "                                                   MultiProcess.trainingLabels, \n",
    "                                                   MultiProcess.kSize)\n",
    "        return intermediateResult\n",
    "    \n",
    "     # Method to invoke multiple processes for asynchronous processing\n",
    "    def __main(self, tupList, numProcesses):       \n",
    "        self.start_time = datetime.now()\n",
    "        finalResult = []        \n",
    "        with concurrent.futures.ProcessPoolExecutor(max_workers = numProcesses) as executor:\n",
    "            for tupRange, label in zip(tupList, executor.map(MultiProcess._testMethod, tupList, timeout=None, chunksize=1)):               \n",
    "                for item in label:                    \n",
    "                    finalResult.append(item)\n",
    "        return finalResult\n",
    "    \n",
    "    # Generate work item tuples\n",
    "    def __getInput(self, size, interval):    \n",
    "        arr = []       \n",
    "        remainder = size % interval\n",
    "        iterations = int(size/interval)\n",
    "        for i in range(0,iterations):\n",
    "            start = i*interval\n",
    "            end = start + interval        \n",
    "            arr.append((start, end)) \n",
    "        if(remainder != 0):\n",
    "            arr.append((end, end + remainder))       \n",
    "        return arr    \n",
    "    \n",
    "    # Print process parameters, total run time and classifier accuracy\n",
    "    def __reportResults(self, predictedLabels, maxNum, numProcesses):\n",
    "        print(\"Predicted Labels:  \", predictedLabels)\n",
    "        end_time = datetime.now()\n",
    "        diff = end_time - self.start_time\n",
    "        print(\"Test Image Set Size: \", maxNum)\n",
    "        print(\"Number of Processes:\", numProcesses)\n",
    "        print(\"Start Time =\", \n",
    "              self.start_time.strftime('%H:%M:%S.%f'), \n",
    "              \"\\nEnd Time =\", end_time.strftime('%H:%M:%S.%f'), \n",
    "              \"\\nTotal Run Time (Seconds) =\", \n",
    "              diff.total_seconds())\n",
    "        accuracy = Classifier.KnnClassifier.multiclass_accuracy(MultiProcess.testingLabels, predictedLabels)\n",
    "        print(\"Classifier Accuracy (k = 1):\",'{:.1%}'.format(accuracy), \"\\n\")        "
   ]
  },
  {
   "cell_type": "markdown",
   "metadata": {},
   "source": [
    "# <font color='blue'> Invoke MultiProcess Class </font>"
   ]
  },
  {
   "cell_type": "code",
   "execution_count": 48,
   "metadata": {},
   "outputs": [
    {
     "name": "stdout",
     "output_type": "stream",
     "text": [
      "Input work items:   [(0, 2), (2, 4), (4, 6), (6, 8), (8, 10), (10, 12), (12, 14), (14, 16), (16, 18), (18, 20), (20, 22), (22, 24), (24, 26), (26, 28), (28, 30)]\n",
      "Predicted Labels:   [7, 2, 1, 0, 4, 1, 4, 9, 5, 9, 0, 6, 9, 0, 1, 5, 9, 7, 3, 4, 9, 6, 6, 5, 4, 0, 7, 4, 0, 1]\n",
      "Test Image Set Size:  30\n",
      "Number of Processes: 2\n",
      "Start Time = 03:22:43.466845 \n",
      "End Time = 03:23:08.686938 \n",
      "Total Run Time (Seconds) = 25.220093\n",
      "Classifier Accuracy (k = 1): 100.0% \n",
      "\n"
     ]
    }
   ],
   "source": [
    "myTestSize = 30\n",
    "multiProcess1 = MultiProcess(testingImages=images_test[:myTestSize], \n",
    "                            testingLabels=images_test_labels[:myTestSize],\n",
    "                            trainingImages=images_train, \n",
    "                            trainingLabels=images_train_labels, \n",
    "                            kSize = 1)\n",
    "multiProcess1.invokeMultiProcessMethod(numProcesses=2, intervalSize=2)"
   ]
  },
  {
   "cell_type": "markdown",
   "metadata": {},
   "source": [
    "# <font color='blue'> MNIST Processing Times (test size = 200 images) </font>"
   ]
  },
  {
   "cell_type": "code",
   "execution_count": 43,
   "metadata": {},
   "outputs": [
    {
     "data": {
      "image/png": "[encoded data removed]",
      "text/plain": [
       "<Figure size 576x576 with 1 Axes>"
      ]
     },
     "metadata": {
      "needs_background": "light"
     },
     "output_type": "display_data"
    }
   ],
   "source": [
    "import matplotlib.pyplot as plt\n",
    "import numpy as np\n",
    "\n",
    "x = np.array([1,2,3,4,5,6,7,8])\n",
    "y = np.array([319.344205, 169.17312, 120.814834, 108.900603, 104.297465, 88.207259, 77.768724, 68.507207])\n",
    "plt.figure(figsize=(8,8));\n",
    "plt.plot(x, y, '-ok')\n",
    "plt.xlabel('number of processes', fontsize=16);\n",
    "plt.ylabel('total run time (seconds)', fontsize=16);\n",
    "plt.title(label=\"MNIST Processing Run Times\", fontsize=16);\n",
    "plt.yticks([50, 75, 100, 150, 200, 250, 300, 325]);"
   ]
  }
 ],
 "metadata": {
  "kernelspec": {
   "display_name": "Python 3",
   "language": "python",
   "name": "python3"
  },
  "language_info": {
   "codemirror_mode": {
    "name": "ipython",
    "version": 3
   },
   "file_extension": ".py",
   "mimetype": "text/x-python",
   "name": "python",
   "nbconvert_exporter": "python",
   "pygments_lexer": "ipython3",
   "version": "3.7.4"
  }
 },
 "nbformat": 4,
 "nbformat_minor": 2
}
