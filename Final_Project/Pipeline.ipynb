{
 "cells": [
  {
   "cell_type": "code",
   "execution_count": 14,
   "metadata": {},
   "outputs": [
    {
     "data": {
      "text/plain": [
       "'/home/youngjb/Final_Project'"
      ]
     },
     "execution_count": 14,
     "metadata": {},
     "output_type": "execute_result"
    }
   ],
   "source": [
    "pwd\n"
   ]
  },
  {
   "cell_type": "markdown",
   "metadata": {},
   "source": [
    "<img src=\"cultivars.jpg\"  />\n",
    "<img src=\"PipelineFlowchart.jpg\"  />"
   ]
  },
  {
   "cell_type": "code",
   "execution_count": 2,
   "metadata": {},
   "outputs": [],
   "source": [
    "import pandas as pd\n",
    "import numpy as np\n",
    "import matplotlib.pyplot as plt\n",
    "import os\n",
    "import igv\n",
    "sequenceDirectoryFilePath = os.path.join(os.getcwd(), \"Pipeline\")"
   ]
  },
  {
   "cell_type": "code",
   "execution_count": 3,
   "metadata": {},
   "outputs": [
    {
     "name": "stdout",
     "output_type": "stream",
     "text": [
      "Creating new directory at ./Pipeline for sequence reads.\n",
      "Read 120678 spots for SRR1763770\n",
      "Written 120678 spots for SRR1763770\n",
      "Read 153385 spots for SRR1763771\n",
      "Written 153385 spots for SRR1763771\n",
      "Read 69657 spots for SRR1763772\n",
      "Written 69657 spots for SRR1763772\n",
      "Read 213112 spots for SRR1763773\n",
      "Written 213112 spots for SRR1763773\n",
      "Read 61625 spots for SRR1763774\n",
      "Written 61625 spots for SRR1763774\n",
      "Read 150218 spots for SRR1763775\n",
      "Written 150218 spots for SRR1763775\n",
      "Read 71393 spots for SRR1763776\n",
      "Written 71393 spots for SRR1763776\n",
      "Read 143622 spots for SRR1763777\n",
      "Written 143622 spots for SRR1763777\n",
      "Read 71952 spots for SRR1763778\n",
      "Written 71952 spots for SRR1763778\n",
      "Read 55330 spots for SRR1763779\n",
      "Written 55330 spots for SRR1763779\n",
      "Read 155683 spots for SRR1763780\n",
      "Written 155683 spots for SRR1763780\n",
      "Read 68825 spots for SRR1763781\n",
      "Written 68825 spots for SRR1763781\n"
     ]
    }
   ],
   "source": [
    "%%bash\n",
    "chmod +x ./getChloroplastReads.sh\n",
    "./getChloroplastReads.sh ./Pipeline"
   ]
  },
  {
   "cell_type": "code",
   "execution_count": 4,
   "metadata": {},
   "outputs": [
    {
     "name": "stdout",
     "output_type": "stream",
     "text": [
      "BC_17.fastq  BC_20.fastq  BC_22.fastq  BC_24.fastq  BC_26.fastq  BC_29.fastq\r\n",
      "BC_19.fastq  BC_21.fastq  BC_23.fastq  BC_25.fastq  BC_28.fastq  BC_30.fastq\r\n"
     ]
    }
   ],
   "source": [
    "ls ./Pipeline"
   ]
  },
  {
   "cell_type": "code",
   "execution_count": 5,
   "metadata": {},
   "outputs": [
    {
     "name": "stdout",
     "output_type": "stream",
     "text": [
      "Processing fastq files within directory ./Pipeline/.\n",
      "File -> BC_17.fastq\n",
      "Working on -> BC_17\n",
      "File -> BC_19.fastq\n",
      "Working on -> BC_19\n",
      "File -> BC_20.fastq\n",
      "Working on -> BC_20\n",
      "File -> BC_21.fastq\n",
      "Working on -> BC_21\n",
      "File -> BC_22.fastq\n",
      "Working on -> BC_22\n",
      "File -> BC_23.fastq\n",
      "Working on -> BC_23\n",
      "File -> BC_24.fastq\n",
      "Working on -> BC_24\n",
      "File -> BC_25.fastq\n",
      "Working on -> BC_25\n",
      "File -> BC_26.fastq\n",
      "Working on -> BC_26\n",
      "File -> BC_28.fastq\n",
      "Working on -> BC_28\n",
      "File -> BC_29.fastq\n",
      "Working on -> BC_29\n",
      "File -> BC_30.fastq\n",
      "Working on -> BC_30\n"
     ]
    },
    {
     "name": "stderr",
     "output_type": "stream",
     "text": [
      "TrimmomaticSE: Started with arguments:\n",
      " BC_17.fastq BC_17.trim.fastq ILLUMINACLIP:/home/youngjb/Final_Project/ION_Adaptors.fa:4:10:3 SLIDINGWINDOW:30:20 MINLEN:25\n",
      "Automatically using 4 threads\n",
      "Using Medium Clipping Sequence: 'CCTCTCTATGGGCAGTCGGTGAT'\n",
      "Using Long Clipping Sequence: 'CCATATCATCCCTGCGTGTCTCCCACTCAG'\n",
      "ILLUMINACLIP: Using 0 prefix pairs, 2 forward/reverse sequences, 0 forward only sequences, 0 reverse only sequences\n",
      "Quality encoding detected as phred33\n",
      "Input Reads: 150218 Surviving: 112654 (74.99%) Dropped: 37564 (25.01%)\n",
      "TrimmomaticSE: Completed successfully\n",
      "TrimmomaticSE: Started with arguments:\n",
      " BC_19.fastq BC_19.trim.fastq ILLUMINACLIP:/home/youngjb/Final_Project/ION_Adaptors.fa:4:10:3 SLIDINGWINDOW:30:20 MINLEN:25\n",
      "Automatically using 4 threads\n",
      "Using Medium Clipping Sequence: 'CCTCTCTATGGGCAGTCGGTGAT'\n",
      "Using Long Clipping Sequence: 'CCATATCATCCCTGCGTGTCTCCCACTCAG'\n",
      "ILLUMINACLIP: Using 0 prefix pairs, 2 forward/reverse sequences, 0 forward only sequences, 0 reverse only sequences\n",
      "Quality encoding detected as phred33\n",
      "Input Reads: 55330 Surviving: 42038 (75.98%) Dropped: 13292 (24.02%)\n",
      "TrimmomaticSE: Completed successfully\n",
      "TrimmomaticSE: Started with arguments:\n",
      " BC_20.fastq BC_20.trim.fastq ILLUMINACLIP:/home/youngjb/Final_Project/ION_Adaptors.fa:4:10:3 SLIDINGWINDOW:30:20 MINLEN:25\n",
      "Automatically using 4 threads\n",
      "Using Medium Clipping Sequence: 'CCTCTCTATGGGCAGTCGGTGAT'\n",
      "Using Long Clipping Sequence: 'CCATATCATCCCTGCGTGTCTCCCACTCAG'\n",
      "ILLUMINACLIP: Using 0 prefix pairs, 2 forward/reverse sequences, 0 forward only sequences, 0 reverse only sequences\n",
      "Quality encoding detected as phred33\n",
      "Input Reads: 153385 Surviving: 118838 (77.48%) Dropped: 34547 (22.52%)\n",
      "TrimmomaticSE: Completed successfully\n",
      "TrimmomaticSE: Started with arguments:\n",
      " BC_21.fastq BC_21.trim.fastq ILLUMINACLIP:/home/youngjb/Final_Project/ION_Adaptors.fa:4:10:3 SLIDINGWINDOW:30:20 MINLEN:25\n",
      "Automatically using 4 threads\n",
      "Using Medium Clipping Sequence: 'CCTCTCTATGGGCAGTCGGTGAT'\n",
      "Using Long Clipping Sequence: 'CCATATCATCCCTGCGTGTCTCCCACTCAG'\n",
      "ILLUMINACLIP: Using 0 prefix pairs, 2 forward/reverse sequences, 0 forward only sequences, 0 reverse only sequences\n",
      "Quality encoding detected as phred33\n",
      "Input Reads: 213112 Surviving: 173352 (81.34%) Dropped: 39760 (18.66%)\n",
      "TrimmomaticSE: Completed successfully\n",
      "TrimmomaticSE: Started with arguments:\n",
      " BC_22.fastq BC_22.trim.fastq ILLUMINACLIP:/home/youngjb/Final_Project/ION_Adaptors.fa:4:10:3 SLIDINGWINDOW:30:20 MINLEN:25\n",
      "Automatically using 4 threads\n",
      "Using Medium Clipping Sequence: 'CCTCTCTATGGGCAGTCGGTGAT'\n",
      "Using Long Clipping Sequence: 'CCATATCATCCCTGCGTGTCTCCCACTCAG'\n",
      "ILLUMINACLIP: Using 0 prefix pairs, 2 forward/reverse sequences, 0 forward only sequences, 0 reverse only sequences\n",
      "Quality encoding detected as phred33\n",
      "Input Reads: 71952 Surviving: 56073 (77.93%) Dropped: 15879 (22.07%)\n",
      "TrimmomaticSE: Completed successfully\n",
      "TrimmomaticSE: Started with arguments:\n",
      " BC_23.fastq BC_23.trim.fastq ILLUMINACLIP:/home/youngjb/Final_Project/ION_Adaptors.fa:4:10:3 SLIDINGWINDOW:30:20 MINLEN:25\n",
      "Automatically using 4 threads\n",
      "Using Medium Clipping Sequence: 'CCTCTCTATGGGCAGTCGGTGAT'\n",
      "Using Long Clipping Sequence: 'CCATATCATCCCTGCGTGTCTCCCACTCAG'\n",
      "ILLUMINACLIP: Using 0 prefix pairs, 2 forward/reverse sequences, 0 forward only sequences, 0 reverse only sequences\n",
      "Quality encoding detected as phred33\n",
      "Input Reads: 143622 Surviving: 107867 (75.10%) Dropped: 35755 (24.90%)\n",
      "TrimmomaticSE: Completed successfully\n",
      "TrimmomaticSE: Started with arguments:\n",
      " BC_24.fastq BC_24.trim.fastq ILLUMINACLIP:/home/youngjb/Final_Project/ION_Adaptors.fa:4:10:3 SLIDINGWINDOW:30:20 MINLEN:25\n",
      "Automatically using 4 threads\n",
      "Using Medium Clipping Sequence: 'CCTCTCTATGGGCAGTCGGTGAT'\n",
      "Using Long Clipping Sequence: 'CCATATCATCCCTGCGTGTCTCCCACTCAG'\n",
      "ILLUMINACLIP: Using 0 prefix pairs, 2 forward/reverse sequences, 0 forward only sequences, 0 reverse only sequences\n",
      "Quality encoding detected as phred33\n",
      "Input Reads: 61625 Surviving: 46847 (76.02%) Dropped: 14778 (23.98%)\n",
      "TrimmomaticSE: Completed successfully\n",
      "TrimmomaticSE: Started with arguments:\n",
      " BC_25.fastq BC_25.trim.fastq ILLUMINACLIP:/home/youngjb/Final_Project/ION_Adaptors.fa:4:10:3 SLIDINGWINDOW:30:20 MINLEN:25\n",
      "Automatically using 4 threads\n",
      "Using Medium Clipping Sequence: 'CCTCTCTATGGGCAGTCGGTGAT'\n",
      "Using Long Clipping Sequence: 'CCATATCATCCCTGCGTGTCTCCCACTCAG'\n",
      "ILLUMINACLIP: Using 0 prefix pairs, 2 forward/reverse sequences, 0 forward only sequences, 0 reverse only sequences\n",
      "Quality encoding detected as phred33\n",
      "Input Reads: 69657 Surviving: 51760 (74.31%) Dropped: 17897 (25.69%)\n",
      "TrimmomaticSE: Completed successfully\n",
      "TrimmomaticSE: Started with arguments:\n",
      " BC_26.fastq BC_26.trim.fastq ILLUMINACLIP:/home/youngjb/Final_Project/ION_Adaptors.fa:4:10:3 SLIDINGWINDOW:30:20 MINLEN:25\n",
      "Automatically using 4 threads\n",
      "Using Medium Clipping Sequence: 'CCTCTCTATGGGCAGTCGGTGAT'\n",
      "Using Long Clipping Sequence: 'CCATATCATCCCTGCGTGTCTCCCACTCAG'\n",
      "ILLUMINACLIP: Using 0 prefix pairs, 2 forward/reverse sequences, 0 forward only sequences, 0 reverse only sequences\n",
      "Quality encoding detected as phred33\n",
      "Input Reads: 68825 Surviving: 50448 (73.30%) Dropped: 18377 (26.70%)\n",
      "TrimmomaticSE: Completed successfully\n",
      "TrimmomaticSE: Started with arguments:\n",
      " BC_28.fastq BC_28.trim.fastq ILLUMINACLIP:/home/youngjb/Final_Project/ION_Adaptors.fa:4:10:3 SLIDINGWINDOW:30:20 MINLEN:25\n",
      "Automatically using 4 threads\n",
      "Using Medium Clipping Sequence: 'CCTCTCTATGGGCAGTCGGTGAT'\n",
      "Using Long Clipping Sequence: 'CCATATCATCCCTGCGTGTCTCCCACTCAG'\n",
      "ILLUMINACLIP: Using 0 prefix pairs, 2 forward/reverse sequences, 0 forward only sequences, 0 reverse only sequences\n",
      "Quality encoding detected as phred33\n",
      "Input Reads: 71393 Surviving: 53566 (75.03%) Dropped: 17827 (24.97%)\n",
      "TrimmomaticSE: Completed successfully\n",
      "TrimmomaticSE: Started with arguments:\n",
      " BC_29.fastq BC_29.trim.fastq ILLUMINACLIP:/home/youngjb/Final_Project/ION_Adaptors.fa:4:10:3 SLIDINGWINDOW:30:20 MINLEN:25\n",
      "Automatically using 4 threads\n",
      "Using Medium Clipping Sequence: 'CCTCTCTATGGGCAGTCGGTGAT'\n",
      "Using Long Clipping Sequence: 'CCATATCATCCCTGCGTGTCTCCCACTCAG'\n",
      "ILLUMINACLIP: Using 0 prefix pairs, 2 forward/reverse sequences, 0 forward only sequences, 0 reverse only sequences\n",
      "Quality encoding detected as phred33\n",
      "Input Reads: 120678 Surviving: 89684 (74.32%) Dropped: 30994 (25.68%)\n",
      "TrimmomaticSE: Completed successfully\n",
      "TrimmomaticSE: Started with arguments:\n",
      " BC_30.fastq BC_30.trim.fastq ILLUMINACLIP:/home/youngjb/Final_Project/ION_Adaptors.fa:4:10:3 SLIDINGWINDOW:30:20 MINLEN:25\n",
      "Automatically using 4 threads\n",
      "Using Medium Clipping Sequence: 'CCTCTCTATGGGCAGTCGGTGAT'\n",
      "Using Long Clipping Sequence: 'CCATATCATCCCTGCGTGTCTCCCACTCAG'\n",
      "ILLUMINACLIP: Using 0 prefix pairs, 2 forward/reverse sequences, 0 forward only sequences, 0 reverse only sequences\n",
      "Quality encoding detected as phred33\n",
      "Input Reads: 155683 Surviving: 121582 (78.10%) Dropped: 34101 (21.90%)\n",
      "TrimmomaticSE: Completed successfully\n"
     ]
    }
   ],
   "source": [
    "%%bash\n",
    "chmod +x ./trimReads.sh\n",
    "./trimReads.sh ./Pipeline/ /home/youngjb/Final_Project/ION_Adaptors.fa"
   ]
  },
  {
   "cell_type": "code",
   "execution_count": 8,
   "metadata": {},
   "outputs": [
    {
     "name": "stdout",
     "output_type": "stream",
     "text": [
      "BC_17.trim.bam      BC_21.trim.sam      BC_25.trim.bam      BC_29.trim.sam\r\n",
      "BC_17.trim.bam.bai  BC_21.trim.vcf      BC_25.trim.bam.bai  BC_29.trim.vcf\r\n",
      "BC_17.trim.fastq    BC_21.trim.vcf.idx  BC_25.trim.fastq    BC_29.trim.vcf.idx\r\n",
      "BC_17.trim.sam      BC_22.trim.bam      BC_25.trim.sam      BC_30.trim.bam\r\n",
      "BC_17.trim.vcf      BC_22.trim.bam.bai  BC_25.trim.vcf      BC_30.trim.bam.bai\r\n",
      "BC_17.trim.vcf.idx  BC_22.trim.fastq    BC_25.trim.vcf.idx  BC_30.trim.fastq\r\n",
      "BC_19.trim.bam      BC_22.trim.sam      BC_26.trim.bam      BC_30.trim.sam\r\n",
      "BC_19.trim.bam.bai  BC_22.trim.vcf      BC_26.trim.bam.bai  BC_30.trim.vcf\r\n",
      "BC_19.trim.fastq    BC_22.trim.vcf.idx  BC_26.trim.fastq    BC_30.trim.vcf.idx\r\n",
      "BC_19.trim.sam      BC_23.trim.bam      BC_26.trim.sam      NC_007898.1.bt2\r\n",
      "BC_19.trim.vcf      BC_23.trim.bam.bai  BC_26.trim.vcf      NC_007898.2.bt2\r\n",
      "BC_19.trim.vcf.idx  BC_23.trim.fastq    BC_26.trim.vcf.idx  NC_007898.3.bt2\r\n",
      "BC_20.trim.bam      BC_23.trim.sam      BC_28.trim.bam      NC_007898.4.bt2\r\n",
      "BC_20.trim.bam.bai  BC_23.trim.vcf      BC_28.trim.bam.bai  NC_007898.fasta\r\n",
      "BC_20.trim.fastq    BC_23.trim.vcf.idx  BC_28.trim.fastq    NC_007898.fasta.fai\r\n",
      "BC_20.trim.sam      BC_24.trim.bam      BC_28.trim.sam      NC_007898.gff\r\n",
      "BC_20.trim.vcf      BC_24.trim.bam.bai  BC_28.trim.vcf      NC_007898.rev.1.bt2\r\n",
      "BC_20.trim.vcf.idx  BC_24.trim.fastq    BC_28.trim.vcf.idx  NC_007898.rev.2.bt2\r\n",
      "BC_21.trim.bam      BC_24.trim.sam      BC_29.trim.bam\r\n",
      "BC_21.trim.bam.bai  BC_24.trim.vcf      BC_29.trim.bam.bai\r\n",
      "BC_21.trim.fastq    BC_24.trim.vcf.idx  BC_29.trim.fastq\r\n"
     ]
    }
   ],
   "source": [
    "ls ./Pipeline"
   ]
  },
  {
   "cell_type": "code",
   "execution_count": 9,
   "metadata": {},
   "outputs": [
    {
     "name": "stdout",
     "output_type": "stream",
     "text": [
      "Unable to generate .vcf associated files, because they have already been created.\n"
     ]
    }
   ],
   "source": [
    "%%bash\n",
    "chmod +x ./variants.sh\n",
    "./variants.sh NC_007898 /home/youngjb/Final_Project/Pipeline /home/youngjb/Final_Project"
   ]
  },
  {
   "cell_type": "code",
   "execution_count": 10,
   "metadata": {},
   "outputs": [
    {
     "name": "stdout",
     "output_type": "stream",
     "text": [
      "BC_17.trim.bam      BC_21.trim.sam      BC_25.trim.bam      BC_29.trim.sam\r\n",
      "BC_17.trim.bam.bai  BC_21.trim.vcf      BC_25.trim.bam.bai  BC_29.trim.vcf\r\n",
      "BC_17.trim.fastq    BC_21.trim.vcf.idx  BC_25.trim.fastq    BC_29.trim.vcf.idx\r\n",
      "BC_17.trim.sam      BC_22.trim.bam      BC_25.trim.sam      BC_30.trim.bam\r\n",
      "BC_17.trim.vcf      BC_22.trim.bam.bai  BC_25.trim.vcf      BC_30.trim.bam.bai\r\n",
      "BC_17.trim.vcf.idx  BC_22.trim.fastq    BC_25.trim.vcf.idx  BC_30.trim.fastq\r\n",
      "BC_19.trim.bam      BC_22.trim.sam      BC_26.trim.bam      BC_30.trim.sam\r\n",
      "BC_19.trim.bam.bai  BC_22.trim.vcf      BC_26.trim.bam.bai  BC_30.trim.vcf\r\n",
      "BC_19.trim.fastq    BC_22.trim.vcf.idx  BC_26.trim.fastq    BC_30.trim.vcf.idx\r\n",
      "BC_19.trim.sam      BC_23.trim.bam      BC_26.trim.sam      NC_007898.1.bt2\r\n",
      "BC_19.trim.vcf      BC_23.trim.bam.bai  BC_26.trim.vcf      NC_007898.2.bt2\r\n",
      "BC_19.trim.vcf.idx  BC_23.trim.fastq    BC_26.trim.vcf.idx  NC_007898.3.bt2\r\n",
      "BC_20.trim.bam      BC_23.trim.sam      BC_28.trim.bam      NC_007898.4.bt2\r\n",
      "BC_20.trim.bam.bai  BC_23.trim.vcf      BC_28.trim.bam.bai  NC_007898.fasta\r\n",
      "BC_20.trim.fastq    BC_23.trim.vcf.idx  BC_28.trim.fastq    NC_007898.fasta.fai\r\n",
      "BC_20.trim.sam      BC_24.trim.bam      BC_28.trim.sam      NC_007898.gff\r\n",
      "BC_20.trim.vcf      BC_24.trim.bam.bai  BC_28.trim.vcf      NC_007898.rev.1.bt2\r\n",
      "BC_20.trim.vcf.idx  BC_24.trim.fastq    BC_28.trim.vcf.idx  NC_007898.rev.2.bt2\r\n",
      "BC_21.trim.bam      BC_24.trim.sam      BC_29.trim.bam\r\n",
      "BC_21.trim.bam.bai  BC_24.trim.vcf      BC_29.trim.bam.bai\r\n",
      "BC_21.trim.fastq    BC_24.trim.vcf.idx  BC_29.trim.fastq\r\n"
     ]
    }
   ],
   "source": [
    "ls ./Pipeline"
   ]
  },
  {
   "cell_type": "code",
   "execution_count": 11,
   "metadata": {},
   "outputs": [],
   "source": [
    "def getFileTypesWithSuffix(directoryPath, suffix):\n",
    "    result = []\n",
    "    for entry in os.listdir(directoryPath):\n",
    "        if os.path.isfile(os.path.join(directoryPath, entry)):\n",
    "            if(entry.endswith(suffix)):\n",
    "                result.append(entry)\n",
    "    return result \n",
    "\n",
    "def addTrack(directoryPath, suffix, trackFormat, trackType, browser):\n",
    "    directory = directoryPath.split(\"/\")[len(directoryPath.split(\"/\"))-1]\n",
    "   \n",
    "    fileNames = getFileTypesWithSuffix(directoryPath, suffix)    \n",
    "    for fileName in fileNames:\n",
    "        browser.load_track({\"name\": fileName.split(\".\")[0], \"url\": os.path.join(\"files\", directory, fileName), \"format\": trackFormat, \"type\": trackType, \"indexed\": False })"
   ]
  },
  {
   "cell_type": "code",
   "execution_count": 12,
   "metadata": {},
   "outputs": [
    {
     "data": {
      "text/html": [
       "<div id=\"igv_3248207\"></div>"
      ],
      "text/plain": [
       "<IPython.core.display.HTML object>"
      ]
     },
     "metadata": {},
     "output_type": "display_data"
    }
   ],
   "source": [
    "igvBrowser = igv.Browser({\"reference\": {\n",
    "   \n",
    "    \"name\":  \"NC_007898\",\n",
    "    \"fastaURL\": \"files/Pipeline/NC_007898.fasta\",\n",
    "    \"indexed\": False}})\n",
    "\n",
    "addTrack(sequenceDirectoryFilePath, \".vcf\",  \"vcf\", \"variant\", igvBrowser)\n",
    "addTrack(sequenceDirectoryFilePath, \".gff\",  \"gff\", \"annotation\", igvBrowser)\n",
    "\n",
    "igvBrowser.show()"
   ]
  },
  {
   "cell_type": "code",
   "execution_count": null,
   "metadata": {},
   "outputs": [],
   "source": [
    "#%%bash\n",
    "#rm -rf /mnt/c/Users/young/Documents/GitHub/data-science/Final_Project/*\n",
    "#find /home/youngjb/Final_Project/ -maxdepth 1 -type f | xargs cp -t /mnt/c/Users/young/Documents/GitHub/data-science/Final_Project"
   ]
  }
 ],
 "metadata": {
  "kernelspec": {
   "display_name": "Python 3",
   "language": "python",
   "name": "python3"
  },
  "language_info": {
   "codemirror_mode": {
    "name": "ipython",
    "version": 3
   },
   "file_extension": ".py",
   "mimetype": "text/x-python",
   "name": "python",
   "nbconvert_exporter": "python",
   "pygments_lexer": "ipython3",
   "version": "3.7.4"
  }
 },
 "nbformat": 4,
 "nbformat_minor": 2
}
