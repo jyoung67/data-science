{
 "cells": [
  {
   "cell_type": "code",
   "execution_count": 1,
   "metadata": {},
   "outputs": [],
   "source": [
    "import pandas as pd\n",
    "import numpy as np\n",
    "import matplotlib.pyplot as plt\n",
    "import os\n",
    "import igv\n",
    "sequenceDirectoryFilePath = os.path.join(os.getcwd(), \"Pipeline\")"
   ]
  },
  {
   "cell_type": "code",
   "execution_count": null,
   "metadata": {},
   "outputs": [],
   "source": [
    "%%bash\n",
    "chmod +x getChloroplastReads.sh\n",
    "./getChloroplastReads.sh ./Pipeline/"
   ]
  },
  {
   "cell_type": "code",
   "execution_count": null,
   "metadata": {},
   "outputs": [],
   "source": [
    "%%bash\n",
    "chmod +x trimReads.sh\n",
    "./trimReads.sh ./Pipeline/ /home/youngjb/Final_Project/ION_Adaptors.fa\n"
   ]
  },
  {
   "cell_type": "code",
   "execution_count": null,
   "metadata": {},
   "outputs": [],
   "source": [
    "%%bash\n",
    "chmod +x variants.sh\n",
    "b=\"/home/youngjb/Final_Project/Pipeline/\"\n",
    "./variants.sh NC_007898 $b"
   ]
  },
  {
   "cell_type": "code",
   "execution_count": 2,
   "metadata": {},
   "outputs": [],
   "source": [
    "def getFileTypesWithSuffix(directoryPath, suffix):\n",
    "    result = []\n",
    "    for entry in os.listdir(directoryPath):\n",
    "        if os.path.isfile(os.path.join(directoryPath, entry)):\n",
    "            if(entry.endswith(suffix)):\n",
    "                result.append(entry)\n",
    "    return result \n",
    "\n",
    "def addTrack(directoryPath, suffix, trackFormat, trackType, browser):\n",
    "    directory = directoryPath.split(\"/\")[len(directoryPath.split(\"/\"))-1]\n",
    "   \n",
    "    fileNames = getFileTypesWithSuffix(directoryPath, suffix)    \n",
    "    for fileName in fileNames:\n",
    "        browser.load_track({\"name\": fileName.split(\".\")[0], \"url\": os.path.join(\"files\", directory, fileName), \"format\": trackFormat, \"type\": trackType, \"indexed\": False })"
   ]
  },
  {
   "cell_type": "code",
   "execution_count": 4,
   "metadata": {},
   "outputs": [
    {
     "data": {
      "text/html": [
       "<div id=\"igv_7599193\"></div>"
      ],
      "text/plain": [
       "<IPython.core.display.HTML object>"
      ]
     },
     "metadata": {},
     "output_type": "display_data"
    }
   ],
   "source": [
    "igvBrowser = igv.Browser({\"reference\": {\n",
    "   \n",
    "    \"name\":  \"NC_007898\",\n",
    "    \"fastaURL\": \"files/Pipeline/NC_007898.fasta\",\n",
    "    \"indexed\": False}})\n",
    "\n",
    "addTrack(sequenceDirectoryFilePath, \".vcf\",  \"vcf\", \"variant\", igvBrowser)\n",
    "addTrack(sequenceDirectoryFilePath, \".gff\",  \"gff\", \"annotation\", igvBrowser)\n",
    "\n",
    "igvBrowser.show()"
   ]
  },
  {
   "cell_type": "code",
   "execution_count": null,
   "metadata": {},
   "outputs": [],
   "source": [
    "#%%bash\n",
    "#rm -rf /mnt/c/Users/young/Documents/GitHub/data-science/Final_Project/*\n",
    "#find /home/youngjb/Final_Project/ -maxdepth 1 -type f | xargs cp -t /mnt/c/Users/young/Documents/GitHub/data-science/Final_Project"
   ]
  }
 ],
 "metadata": {
  "kernelspec": {
   "display_name": "Python 3",
   "language": "python",
   "name": "python3"
  },
  "language_info": {
   "codemirror_mode": {
    "name": "ipython",
    "version": 3
   },
   "file_extension": ".py",
   "mimetype": "text/x-python",
   "name": "python",
   "nbconvert_exporter": "python",
   "pygments_lexer": "ipython3",
   "version": "3.7.4"
  }
 },
 "nbformat": 4,
 "nbformat_minor": 2
}
