{
 "cells": [
  {
   "cell_type": "code",
   "execution_count": 14,
   "metadata": {},
   "outputs": [],
   "source": [
    "import pandas as pd\n",
    "import numpy as np\n",
    "import matplotlib.pyplot as plt\n",
    "import os\n",
    "import igv\n",
    "sequenceDirectoryFilePath = os.path.join(os.getcwd(), \"Pipeline\")"
   ]
  },
  {
   "cell_type": "code",
   "execution_count": 15,
   "metadata": {},
   "outputs": [
    {
     "name": "stdout",
     "output_type": "stream",
     "text": [
      "Unable to download sequence reads, because directory ./Pipeline already exists.\n"
     ]
    }
   ],
   "source": [
    "%%bash\n",
    "chmod +x ./getChloroplastReads.sh\n",
    "./getChloroplastReads.sh ./Pipeline"
   ]
  },
  {
   "cell_type": "code",
   "execution_count": 16,
   "metadata": {},
   "outputs": [
    {
     "name": "stdout",
     "output_type": "stream",
     "text": [
      "BC_17.trim.bam      BC_21.trim.sam      BC_25.trim.bam      BC_29.trim.sam\r\n",
      "BC_17.trim.bam.bai  BC_21.trim.vcf      BC_25.trim.bam.bai  BC_29.trim.vcf\r\n",
      "BC_17.trim.fastq    BC_21.trim.vcf.idx  BC_25.trim.fastq    BC_29.trim.vcf.idx\r\n",
      "BC_17.trim.sam      BC_22.trim.bam      BC_25.trim.sam      BC_30.trim.bam\r\n",
      "BC_17.trim.vcf      BC_22.trim.bam.bai  BC_25.trim.vcf      BC_30.trim.bam.bai\r\n",
      "BC_17.trim.vcf.idx  BC_22.trim.fastq    BC_25.trim.vcf.idx  BC_30.trim.fastq\r\n",
      "BC_19.trim.bam      BC_22.trim.sam      BC_26.trim.bam      BC_30.trim.sam\r\n",
      "BC_19.trim.bam.bai  BC_22.trim.vcf      BC_26.trim.bam.bai  BC_30.trim.vcf\r\n",
      "BC_19.trim.fastq    BC_22.trim.vcf.idx  BC_26.trim.fastq    BC_30.trim.vcf.idx\r\n",
      "BC_19.trim.sam      BC_23.trim.bam      BC_26.trim.sam      NC_007898.1.bt2\r\n",
      "BC_19.trim.vcf      BC_23.trim.bam.bai  BC_26.trim.vcf      NC_007898.2.bt2\r\n",
      "BC_19.trim.vcf.idx  BC_23.trim.fastq    BC_26.trim.vcf.idx  NC_007898.3.bt2\r\n",
      "BC_20.trim.bam      BC_23.trim.sam      BC_28.trim.bam      NC_007898.4.bt2\r\n",
      "BC_20.trim.bam.bai  BC_23.trim.vcf      BC_28.trim.bam.bai  NC_007898.fasta\r\n",
      "BC_20.trim.fastq    BC_23.trim.vcf.idx  BC_28.trim.fastq    NC_007898.fasta.fai\r\n",
      "BC_20.trim.sam      BC_24.trim.bam      BC_28.trim.sam      NC_007898.gff\r\n",
      "BC_20.trim.vcf      BC_24.trim.bam.bai  BC_28.trim.vcf      NC_007898.rev.1.bt2\r\n",
      "BC_20.trim.vcf.idx  BC_24.trim.fastq    BC_28.trim.vcf.idx  NC_007898.rev.2.bt2\r\n",
      "BC_21.trim.bam      BC_24.trim.sam      BC_29.trim.bam\r\n",
      "BC_21.trim.bam.bai  BC_24.trim.vcf      BC_29.trim.bam.bai\r\n",
      "BC_21.trim.fastq    BC_24.trim.vcf.idx  BC_29.trim.fastq\r\n"
     ]
    }
   ],
   "source": [
    "ls ./Pipeline"
   ]
  },
  {
   "cell_type": "code",
   "execution_count": 17,
   "metadata": {},
   "outputs": [
    {
     "name": "stdout",
     "output_type": "stream",
     "text": [
      "Unable to process fastq files within direct ./Pipeline/, because they have already been processed.\n"
     ]
    }
   ],
   "source": [
    "%%bash\n",
    "chmod +x ./trimReads.sh\n",
    "./trimReads.sh ./Pipeline/ /home/youngjb/Final_Project/ION_Adaptors.fa"
   ]
  },
  {
   "cell_type": "code",
   "execution_count": 18,
   "metadata": {},
   "outputs": [
    {
     "name": "stdout",
     "output_type": "stream",
     "text": [
      "BC_17.trim.bam      BC_21.trim.sam      BC_25.trim.bam      BC_29.trim.sam\r\n",
      "BC_17.trim.bam.bai  BC_21.trim.vcf      BC_25.trim.bam.bai  BC_29.trim.vcf\r\n",
      "BC_17.trim.fastq    BC_21.trim.vcf.idx  BC_25.trim.fastq    BC_29.trim.vcf.idx\r\n",
      "BC_17.trim.sam      BC_22.trim.bam      BC_25.trim.sam      BC_30.trim.bam\r\n",
      "BC_17.trim.vcf      BC_22.trim.bam.bai  BC_25.trim.vcf      BC_30.trim.bam.bai\r\n",
      "BC_17.trim.vcf.idx  BC_22.trim.fastq    BC_25.trim.vcf.idx  BC_30.trim.fastq\r\n",
      "BC_19.trim.bam      BC_22.trim.sam      BC_26.trim.bam      BC_30.trim.sam\r\n",
      "BC_19.trim.bam.bai  BC_22.trim.vcf      BC_26.trim.bam.bai  BC_30.trim.vcf\r\n",
      "BC_19.trim.fastq    BC_22.trim.vcf.idx  BC_26.trim.fastq    BC_30.trim.vcf.idx\r\n",
      "BC_19.trim.sam      BC_23.trim.bam      BC_26.trim.sam      NC_007898.1.bt2\r\n",
      "BC_19.trim.vcf      BC_23.trim.bam.bai  BC_26.trim.vcf      NC_007898.2.bt2\r\n",
      "BC_19.trim.vcf.idx  BC_23.trim.fastq    BC_26.trim.vcf.idx  NC_007898.3.bt2\r\n",
      "BC_20.trim.bam      BC_23.trim.sam      BC_28.trim.bam      NC_007898.4.bt2\r\n",
      "BC_20.trim.bam.bai  BC_23.trim.vcf      BC_28.trim.bam.bai  NC_007898.fasta\r\n",
      "BC_20.trim.fastq    BC_23.trim.vcf.idx  BC_28.trim.fastq    NC_007898.fasta.fai\r\n",
      "BC_20.trim.sam      BC_24.trim.bam      BC_28.trim.sam      NC_007898.gff\r\n",
      "BC_20.trim.vcf      BC_24.trim.bam.bai  BC_28.trim.vcf      NC_007898.rev.1.bt2\r\n",
      "BC_20.trim.vcf.idx  BC_24.trim.fastq    BC_28.trim.vcf.idx  NC_007898.rev.2.bt2\r\n",
      "BC_21.trim.bam      BC_24.trim.sam      BC_29.trim.bam\r\n",
      "BC_21.trim.bam.bai  BC_24.trim.vcf      BC_29.trim.bam.bai\r\n",
      "BC_21.trim.fastq    BC_24.trim.vcf.idx  BC_29.trim.fastq\r\n"
     ]
    }
   ],
   "source": [
    "ls ./Pipeline"
   ]
  },
  {
   "cell_type": "code",
   "execution_count": 19,
   "metadata": {},
   "outputs": [
    {
     "name": "stdout",
     "output_type": "stream",
     "text": [
      "Unable to generate .vcf associated files, because they have already been created.\n"
     ]
    }
   ],
   "source": [
    "%%bash\n",
    "chmod +x ./variants.sh\n",
    "./variants.sh NC_007898 /home/youngjb/Final_Project/Pipeline /home/youngjb/Final_Project"
   ]
  },
  {
   "cell_type": "code",
   "execution_count": 20,
   "metadata": {},
   "outputs": [
    {
     "name": "stdout",
     "output_type": "stream",
     "text": [
      "BC_17.trim.bam      BC_21.trim.sam      BC_25.trim.bam      BC_29.trim.sam\r\n",
      "BC_17.trim.bam.bai  BC_21.trim.vcf      BC_25.trim.bam.bai  BC_29.trim.vcf\r\n",
      "BC_17.trim.fastq    BC_21.trim.vcf.idx  BC_25.trim.fastq    BC_29.trim.vcf.idx\r\n",
      "BC_17.trim.sam      BC_22.trim.bam      BC_25.trim.sam      BC_30.trim.bam\r\n",
      "BC_17.trim.vcf      BC_22.trim.bam.bai  BC_25.trim.vcf      BC_30.trim.bam.bai\r\n",
      "BC_17.trim.vcf.idx  BC_22.trim.fastq    BC_25.trim.vcf.idx  BC_30.trim.fastq\r\n",
      "BC_19.trim.bam      BC_22.trim.sam      BC_26.trim.bam      BC_30.trim.sam\r\n",
      "BC_19.trim.bam.bai  BC_22.trim.vcf      BC_26.trim.bam.bai  BC_30.trim.vcf\r\n",
      "BC_19.trim.fastq    BC_22.trim.vcf.idx  BC_26.trim.fastq    BC_30.trim.vcf.idx\r\n",
      "BC_19.trim.sam      BC_23.trim.bam      BC_26.trim.sam      NC_007898.1.bt2\r\n",
      "BC_19.trim.vcf      BC_23.trim.bam.bai  BC_26.trim.vcf      NC_007898.2.bt2\r\n",
      "BC_19.trim.vcf.idx  BC_23.trim.fastq    BC_26.trim.vcf.idx  NC_007898.3.bt2\r\n",
      "BC_20.trim.bam      BC_23.trim.sam      BC_28.trim.bam      NC_007898.4.bt2\r\n",
      "BC_20.trim.bam.bai  BC_23.trim.vcf      BC_28.trim.bam.bai  NC_007898.fasta\r\n",
      "BC_20.trim.fastq    BC_23.trim.vcf.idx  BC_28.trim.fastq    NC_007898.fasta.fai\r\n",
      "BC_20.trim.sam      BC_24.trim.bam      BC_28.trim.sam      NC_007898.gff\r\n",
      "BC_20.trim.vcf      BC_24.trim.bam.bai  BC_28.trim.vcf      NC_007898.rev.1.bt2\r\n",
      "BC_20.trim.vcf.idx  BC_24.trim.fastq    BC_28.trim.vcf.idx  NC_007898.rev.2.bt2\r\n",
      "BC_21.trim.bam      BC_24.trim.sam      BC_29.trim.bam\r\n",
      "BC_21.trim.bam.bai  BC_24.trim.vcf      BC_29.trim.bam.bai\r\n",
      "BC_21.trim.fastq    BC_24.trim.vcf.idx  BC_29.trim.fastq\r\n"
     ]
    }
   ],
   "source": [
    "ls ./Pipeline"
   ]
  },
  {
   "cell_type": "code",
   "execution_count": 21,
   "metadata": {},
   "outputs": [],
   "source": [
    "def getFileTypesWithSuffix(directoryPath, suffix):\n",
    "    result = []\n",
    "    for entry in os.listdir(directoryPath):\n",
    "        if os.path.isfile(os.path.join(directoryPath, entry)):\n",
    "            if(entry.endswith(suffix)):\n",
    "                result.append(entry)\n",
    "    return result \n",
    "\n",
    "def addTrack(directoryPath, suffix, trackFormat, trackType, browser):\n",
    "    directory = directoryPath.split(\"/\")[len(directoryPath.split(\"/\"))-1]\n",
    "   \n",
    "    fileNames = getFileTypesWithSuffix(directoryPath, suffix)    \n",
    "    for fileName in fileNames:\n",
    "        browser.load_track({\"name\": fileName.split(\".\")[0], \"url\": os.path.join(\"files\", directory, fileName), \"format\": trackFormat, \"type\": trackType, \"indexed\": False })"
   ]
  },
  {
   "cell_type": "code",
   "execution_count": 22,
   "metadata": {},
   "outputs": [
    {
     "data": {
      "text/html": [
       "<div id=\"igv_4194796\"></div>"
      ],
      "text/plain": [
       "<IPython.core.display.HTML object>"
      ]
     },
     "metadata": {},
     "output_type": "display_data"
    }
   ],
   "source": [
    "igvBrowser = igv.Browser({\"reference\": {\n",
    "   \n",
    "    \"name\":  \"NC_007898\",\n",
    "    \"fastaURL\": \"files/Pipeline/NC_007898.fasta\",\n",
    "    \"indexed\": False}})\n",
    "\n",
    "addTrack(sequenceDirectoryFilePath, \".vcf\",  \"vcf\", \"variant\", igvBrowser)\n",
    "addTrack(sequenceDirectoryFilePath, \".gff\",  \"gff\", \"annotation\", igvBrowser)\n",
    "\n",
    "igvBrowser.show()"
   ]
  },
  {
   "cell_type": "code",
   "execution_count": null,
   "metadata": {},
   "outputs": [],
   "source": [
    "#%%bash\n",
    "#rm -rf /mnt/c/Users/young/Documents/GitHub/data-science/Final_Project/*\n",
    "#find /home/youngjb/Final_Project/ -maxdepth 1 -type f | xargs cp -t /mnt/c/Users/young/Documents/GitHub/data-science/Final_Project"
   ]
  }
 ],
 "metadata": {
  "kernelspec": {
   "display_name": "Python 3",
   "language": "python",
   "name": "python3"
  },
  "language_info": {
   "codemirror_mode": {
    "name": "ipython",
    "version": 3
   },
   "file_extension": ".py",
   "mimetype": "text/x-python",
   "name": "python",
   "nbconvert_exporter": "python",
   "pygments_lexer": "ipython3",
   "version": "3.7.4"
  }
 },
 "nbformat": 4,
 "nbformat_minor": 2
}
