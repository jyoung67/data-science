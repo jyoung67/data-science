{
 "cells": [
  {
   "cell_type": "markdown",
   "metadata": {},
   "source": [
    "# Fearon & Laitin Replication\n",
    "\n",
    "Today, we're going to see if we can do a better job than Fearon & Laitin do in predicting the onset of civil wars. You may use any method you like, but I will get you started using their method (logistic regression) and also random forests.\n",
    "\n",
    "To evaluate how well we do, we will use out-of-sample testing. I will help you divide the data into 3 sets: Training, Validation, and Testing. You should fit a model on the training data _only_ and evaluate how well it performs out-of-sample on the _validation_ data. Only once you have selected a _final_ model should you evaluate it's performance on the _test_ set. Once you've \"peeked\" at the test set, you should no longer continue to alter your model"
   ]
  },
  {
   "cell_type": "code",
   "execution_count": 1,
   "metadata": {},
   "outputs": [],
   "source": [
    "import pandas as pd\n",
    "import numpy as np\n",
    "np.random.seed(1234)\n",
    "\n",
    "import matplotlib.pyplot as plt\n",
    "import seaborn as sns; sns.set()\n",
    "\n",
    "from sklearn.linear_model import LogisticRegression\n",
    "from sklearn.ensemble import RandomForestClassifier\n",
    "from sklearn.metrics import classification_report, confusion_matrix\n",
    "from sklearn.model_selection import train_test_split"
   ]
  },
  {
   "cell_type": "code",
   "execution_count": 2,
   "metadata": {},
   "outputs": [
    {
     "data": {
      "text/html": [
       "<div>\n",
       "<style scoped>\n",
       "    .dataframe tbody tr th:only-of-type {\n",
       "        vertical-align: middle;\n",
       "    }\n",
       "\n",
       "    .dataframe tbody tr th {\n",
       "        vertical-align: top;\n",
       "    }\n",
       "\n",
       "    .dataframe thead th {\n",
       "        text-align: right;\n",
       "    }\n",
       "</style>\n",
       "<table border=\"1\" class=\"dataframe\">\n",
       "  <thead>\n",
       "    <tr style=\"text-align: right;\">\n",
       "      <th></th>\n",
       "      <th>Unnamed: 0</th>\n",
       "      <th>ccode</th>\n",
       "      <th>country</th>\n",
       "      <th>cname</th>\n",
       "      <th>cmark</th>\n",
       "      <th>year</th>\n",
       "      <th>wars</th>\n",
       "      <th>war</th>\n",
       "      <th>warl</th>\n",
       "      <th>onset</th>\n",
       "      <th>...</th>\n",
       "      <th>empolity2l</th>\n",
       "      <th>sdwars</th>\n",
       "      <th>sdonset</th>\n",
       "      <th>colwars</th>\n",
       "      <th>colonset</th>\n",
       "      <th>cowwars</th>\n",
       "      <th>cowonset</th>\n",
       "      <th>cowwarl</th>\n",
       "      <th>sdwarl</th>\n",
       "      <th>colwarl</th>\n",
       "    </tr>\n",
       "  </thead>\n",
       "  <tbody>\n",
       "    <tr>\n",
       "      <td>0</td>\n",
       "      <td>1</td>\n",
       "      <td>2</td>\n",
       "      <td>USA</td>\n",
       "      <td>USA</td>\n",
       "      <td>1</td>\n",
       "      <td>1945</td>\n",
       "      <td>0</td>\n",
       "      <td>0</td>\n",
       "      <td>0</td>\n",
       "      <td>0</td>\n",
       "      <td>...</td>\n",
       "      <td>7.68712</td>\n",
       "      <td>0</td>\n",
       "      <td>0</td>\n",
       "      <td>NaN</td>\n",
       "      <td>NaN</td>\n",
       "      <td>0.0</td>\n",
       "      <td>0.0</td>\n",
       "      <td>0.0</td>\n",
       "      <td>0</td>\n",
       "      <td>NaN</td>\n",
       "    </tr>\n",
       "    <tr>\n",
       "      <td>1</td>\n",
       "      <td>2</td>\n",
       "      <td>2</td>\n",
       "      <td>USA</td>\n",
       "      <td>USA</td>\n",
       "      <td>0</td>\n",
       "      <td>1946</td>\n",
       "      <td>0</td>\n",
       "      <td>0</td>\n",
       "      <td>0</td>\n",
       "      <td>0</td>\n",
       "      <td>...</td>\n",
       "      <td>10.00000</td>\n",
       "      <td>0</td>\n",
       "      <td>0</td>\n",
       "      <td>NaN</td>\n",
       "      <td>NaN</td>\n",
       "      <td>0.0</td>\n",
       "      <td>0.0</td>\n",
       "      <td>0.0</td>\n",
       "      <td>0</td>\n",
       "      <td>NaN</td>\n",
       "    </tr>\n",
       "    <tr>\n",
       "      <td>2</td>\n",
       "      <td>3</td>\n",
       "      <td>2</td>\n",
       "      <td>USA</td>\n",
       "      <td>USA</td>\n",
       "      <td>0</td>\n",
       "      <td>1947</td>\n",
       "      <td>0</td>\n",
       "      <td>0</td>\n",
       "      <td>0</td>\n",
       "      <td>0</td>\n",
       "      <td>...</td>\n",
       "      <td>10.00000</td>\n",
       "      <td>0</td>\n",
       "      <td>0</td>\n",
       "      <td>NaN</td>\n",
       "      <td>NaN</td>\n",
       "      <td>0.0</td>\n",
       "      <td>0.0</td>\n",
       "      <td>0.0</td>\n",
       "      <td>0</td>\n",
       "      <td>NaN</td>\n",
       "    </tr>\n",
       "    <tr>\n",
       "      <td>3</td>\n",
       "      <td>4</td>\n",
       "      <td>2</td>\n",
       "      <td>USA</td>\n",
       "      <td>USA</td>\n",
       "      <td>0</td>\n",
       "      <td>1948</td>\n",
       "      <td>0</td>\n",
       "      <td>0</td>\n",
       "      <td>0</td>\n",
       "      <td>0</td>\n",
       "      <td>...</td>\n",
       "      <td>10.00000</td>\n",
       "      <td>0</td>\n",
       "      <td>0</td>\n",
       "      <td>NaN</td>\n",
       "      <td>NaN</td>\n",
       "      <td>0.0</td>\n",
       "      <td>0.0</td>\n",
       "      <td>0.0</td>\n",
       "      <td>0</td>\n",
       "      <td>NaN</td>\n",
       "    </tr>\n",
       "    <tr>\n",
       "      <td>4</td>\n",
       "      <td>5</td>\n",
       "      <td>2</td>\n",
       "      <td>USA</td>\n",
       "      <td>USA</td>\n",
       "      <td>0</td>\n",
       "      <td>1949</td>\n",
       "      <td>0</td>\n",
       "      <td>0</td>\n",
       "      <td>0</td>\n",
       "      <td>0</td>\n",
       "      <td>...</td>\n",
       "      <td>10.00000</td>\n",
       "      <td>0</td>\n",
       "      <td>0</td>\n",
       "      <td>NaN</td>\n",
       "      <td>NaN</td>\n",
       "      <td>0.0</td>\n",
       "      <td>0.0</td>\n",
       "      <td>0.0</td>\n",
       "      <td>0</td>\n",
       "      <td>NaN</td>\n",
       "    </tr>\n",
       "  </tbody>\n",
       "</table>\n",
       "<p>5 rows × 70 columns</p>\n",
       "</div>"
      ],
      "text/plain": [
       "   Unnamed: 0  ccode country cname  cmark  year  wars  war  warl  onset  ...  \\\n",
       "0           1      2     USA   USA      1  1945     0    0     0      0  ...   \n",
       "1           2      2     USA   USA      0  1946     0    0     0      0  ...   \n",
       "2           3      2     USA   USA      0  1947     0    0     0      0  ...   \n",
       "3           4      2     USA   USA      0  1948     0    0     0      0  ...   \n",
       "4           5      2     USA   USA      0  1949     0    0     0      0  ...   \n",
       "\n",
       "   empolity2l  sdwars  sdonset colwars  colonset  cowwars cowonset  cowwarl  \\\n",
       "0     7.68712       0        0     NaN       NaN      0.0      0.0      0.0   \n",
       "1    10.00000       0        0     NaN       NaN      0.0      0.0      0.0   \n",
       "2    10.00000       0        0     NaN       NaN      0.0      0.0      0.0   \n",
       "3    10.00000       0        0     NaN       NaN      0.0      0.0      0.0   \n",
       "4    10.00000       0        0     NaN       NaN      0.0      0.0      0.0   \n",
       "\n",
       "   sdwarl  colwarl  \n",
       "0       0      NaN  \n",
       "1       0      NaN  \n",
       "2       0      NaN  \n",
       "3       0      NaN  \n",
       "4       0      NaN  \n",
       "\n",
       "[5 rows x 70 columns]"
      ]
     },
     "execution_count": 2,
     "metadata": {},
     "output_type": "execute_result"
    }
   ],
   "source": [
    "data = pd.read_csv(\"FearonLaitin.csv\")\n",
    "\n",
    "data.head()"
   ]
  },
  {
   "cell_type": "markdown",
   "metadata": {},
   "source": [
    "## Problem 1\n",
    "\n",
    "Scikit learn likes to fit models to data in the form of two numpy arrays or pandas matrices. The first one, `X`, is a matrix of all your predictor variables (also known as independent variables). The second one, `y`, is the column vector of your dependent variables. If `X` is $(n \\times k)$ dimensions, `y` is $(n \\times 1)$. "
   ]
  },
  {
   "cell_type": "code",
   "execution_count": 3,
   "metadata": {},
   "outputs": [
    {
     "name": "stdout",
     "output_type": "stream",
     "text": [
      "<class 'pandas.core.frame.DataFrame'>\n",
      "Int64Index: 6191 entries, 0 to 6608\n",
      "Data columns (total 12 columns):\n",
      "onset       6191 non-null int64\n",
      "warl        6191 non-null int64\n",
      "gdpenl      6191 non-null float64\n",
      "lpop        6191 non-null float64\n",
      "lmtnest     6191 non-null float64\n",
      "ncontig     6191 non-null int64\n",
      "Oil         6191 non-null int64\n",
      "nwstate     6191 non-null int64\n",
      "instab      6191 non-null float64\n",
      "polity2l    6191 non-null float64\n",
      "ethfrac     6191 non-null float64\n",
      "relfrac     6191 non-null float64\n",
      "dtypes: float64(7), int64(5)\n",
      "memory usage: 628.8 KB\n"
     ]
    },
    {
     "data": {
      "text/html": [
       "<div>\n",
       "<style scoped>\n",
       "    .dataframe tbody tr th:only-of-type {\n",
       "        vertical-align: middle;\n",
       "    }\n",
       "\n",
       "    .dataframe tbody tr th {\n",
       "        vertical-align: top;\n",
       "    }\n",
       "\n",
       "    .dataframe thead th {\n",
       "        text-align: right;\n",
       "    }\n",
       "</style>\n",
       "<table border=\"1\" class=\"dataframe\">\n",
       "  <thead>\n",
       "    <tr style=\"text-align: right;\">\n",
       "      <th></th>\n",
       "      <th>onset</th>\n",
       "      <th>warl</th>\n",
       "      <th>gdpenl</th>\n",
       "      <th>lpop</th>\n",
       "      <th>lmtnest</th>\n",
       "      <th>ncontig</th>\n",
       "      <th>Oil</th>\n",
       "      <th>nwstate</th>\n",
       "      <th>instab</th>\n",
       "      <th>polity2l</th>\n",
       "      <th>ethfrac</th>\n",
       "      <th>relfrac</th>\n",
       "    </tr>\n",
       "  </thead>\n",
       "  <tbody>\n",
       "    <tr>\n",
       "      <td>0</td>\n",
       "      <td>0</td>\n",
       "      <td>0</td>\n",
       "      <td>7.626</td>\n",
       "      <td>11.856296</td>\n",
       "      <td>3.214868</td>\n",
       "      <td>1</td>\n",
       "      <td>0</td>\n",
       "      <td>0</td>\n",
       "      <td>0.0</td>\n",
       "      <td>10.0</td>\n",
       "      <td>0.35695</td>\n",
       "      <td>0.596</td>\n",
       "    </tr>\n",
       "    <tr>\n",
       "      <td>1</td>\n",
       "      <td>0</td>\n",
       "      <td>0</td>\n",
       "      <td>7.626</td>\n",
       "      <td>11.863132</td>\n",
       "      <td>3.214868</td>\n",
       "      <td>1</td>\n",
       "      <td>0</td>\n",
       "      <td>0</td>\n",
       "      <td>0.0</td>\n",
       "      <td>10.0</td>\n",
       "      <td>0.35695</td>\n",
       "      <td>0.596</td>\n",
       "    </tr>\n",
       "    <tr>\n",
       "      <td>2</td>\n",
       "      <td>0</td>\n",
       "      <td>0</td>\n",
       "      <td>7.654</td>\n",
       "      <td>11.868591</td>\n",
       "      <td>3.214868</td>\n",
       "      <td>1</td>\n",
       "      <td>0</td>\n",
       "      <td>0</td>\n",
       "      <td>0.0</td>\n",
       "      <td>10.0</td>\n",
       "      <td>0.35695</td>\n",
       "      <td>0.596</td>\n",
       "    </tr>\n",
       "    <tr>\n",
       "      <td>3</td>\n",
       "      <td>0</td>\n",
       "      <td>0</td>\n",
       "      <td>8.025</td>\n",
       "      <td>11.886735</td>\n",
       "      <td>3.214868</td>\n",
       "      <td>1</td>\n",
       "      <td>0</td>\n",
       "      <td>0</td>\n",
       "      <td>0.0</td>\n",
       "      <td>10.0</td>\n",
       "      <td>0.35695</td>\n",
       "      <td>0.596</td>\n",
       "    </tr>\n",
       "    <tr>\n",
       "      <td>4</td>\n",
       "      <td>0</td>\n",
       "      <td>0</td>\n",
       "      <td>8.270</td>\n",
       "      <td>11.904880</td>\n",
       "      <td>3.214868</td>\n",
       "      <td>1</td>\n",
       "      <td>0</td>\n",
       "      <td>0</td>\n",
       "      <td>0.0</td>\n",
       "      <td>10.0</td>\n",
       "      <td>0.35695</td>\n",
       "      <td>0.596</td>\n",
       "    </tr>\n",
       "  </tbody>\n",
       "</table>\n",
       "</div>"
      ],
      "text/plain": [
       "   onset  warl  gdpenl       lpop   lmtnest  ncontig  Oil  nwstate  instab  \\\n",
       "0      0     0   7.626  11.856296  3.214868        1    0        0     0.0   \n",
       "1      0     0   7.626  11.863132  3.214868        1    0        0     0.0   \n",
       "2      0     0   7.654  11.868591  3.214868        1    0        0     0.0   \n",
       "3      0     0   8.025  11.886735  3.214868        1    0        0     0.0   \n",
       "4      0     0   8.270  11.904880  3.214868        1    0        0     0.0   \n",
       "\n",
       "   polity2l  ethfrac  relfrac  \n",
       "0      10.0  0.35695    0.596  \n",
       "1      10.0  0.35695    0.596  \n",
       "2      10.0  0.35695    0.596  \n",
       "3      10.0  0.35695    0.596  \n",
       "4      10.0  0.35695    0.596  "
      ]
     },
     "execution_count": 3,
     "metadata": {},
     "output_type": "execute_result"
    }
   ],
   "source": [
    "# First, I subset the data to just thos variables we need.\n",
    "# Then I drop all rows with NA values.\n",
    "all_variables = [\"onset\",\"warl\",\"gdpenl\",\"lpop\",\"lmtnest\",\"ncontig\",\"Oil\",\"nwstate\",\"instab\",\"polity2l\",\"ethfrac\",\"relfrac\"]\n",
    "data = data[all_variables].dropna()\n",
    "data = data[data.onset != 4]\n",
    "data.info()\n",
    "data.head()"
   ]
  },
  {
   "cell_type": "markdown",
   "metadata": {},
   "source": [
    "Make two new dataframes. One called `X_matrix` with only the `x_variables` and one called `Y_matrix` with only the `y_variables`. "
   ]
  },
  {
   "cell_type": "code",
   "execution_count": 4,
   "metadata": {},
   "outputs": [
    {
     "name": "stdout",
     "output_type": "stream",
     "text": [
      "***********X_matrix***********\n",
      "<class 'pandas.core.frame.DataFrame'>\n",
      "Int64Index: 6191 entries, 0 to 6608\n",
      "Data columns (total 11 columns):\n",
      "warl        6191 non-null int64\n",
      "gdpenl      6191 non-null float64\n",
      "lpop        6191 non-null float64\n",
      "lmtnest     6191 non-null float64\n",
      "ncontig     6191 non-null int64\n",
      "Oil         6191 non-null int64\n",
      "nwstate     6191 non-null int64\n",
      "instab      6191 non-null float64\n",
      "polity2l    6191 non-null float64\n",
      "ethfrac     6191 non-null float64\n",
      "relfrac     6191 non-null float64\n",
      "dtypes: float64(7), int64(4)\n",
      "memory usage: 580.4 KB\n",
      "None\n",
      "***********Y_matrix***********\n",
      "<class 'pandas.core.frame.DataFrame'>\n",
      "Int64Index: 6191 entries, 0 to 6608\n",
      "Data columns (total 1 columns):\n",
      "onset    6191 non-null int64\n",
      "dtypes: int64(1)\n",
      "memory usage: 96.7 KB\n",
      "None\n"
     ]
    }
   ],
   "source": [
    "x_variables = [\"warl\",\"gdpenl\",\"lpop\",\"lmtnest\",\"ncontig\",\"Oil\",\"nwstate\",\"instab\",\"polity2l\",\"ethfrac\",\"relfrac\"]\n",
    "y_variables = \"onset\"\n",
    "X_matrix = pd.DataFrame(data, columns=x_variables)\n",
    "Y_matrix = pd.DataFrame(data, columns=[y_variables])\n",
    "print(\"***********X_matrix***********\")\n",
    "print(X_matrix.info())\n",
    "print(\"***********Y_matrix***********\")\n",
    "print(Y_matrix.info())"
   ]
  },
  {
   "cell_type": "markdown",
   "metadata": {},
   "source": [
    "## Problem 2\n",
    "\n",
    "Use scikit learn's `model_selection.train_test_split` function to create a training set (called `train_X` and `train_Y`) and a hold-out set (called `holdout_X` and `holdout_Y`). You can find the documentation for this function here: https://scikit-learn.org/stable/modules/generated/sklearn.model_selection.train_test_split.html\n",
    "\n",
    "Both the test set and the training set should be one half of the overall data. Set the random state for your split as `1234`. "
   ]
  },
  {
   "cell_type": "code",
   "execution_count": 5,
   "metadata": {},
   "outputs": [],
   "source": [
    "from sklearn.model_selection import train_test_split\n",
    "train_X, holdout_X, train_Y, holdout_Y = train_test_split(X_matrix, np.array(Y_matrix.iloc[:,0]), test_size=0.50, random_state=1234)"
   ]
  },
  {
   "cell_type": "markdown",
   "metadata": {},
   "source": [
    "## Problem 3\n",
    "\n",
    "Now, let's split the holdout data in half to produce `test_X`, `test_Y`, `valid_X`, and `valid_Y`. Use the same random state as above."
   ]
  },
  {
   "cell_type": "code",
   "execution_count": 6,
   "metadata": {},
   "outputs": [],
   "source": [
    "test_X, valid_X, test_Y, valid_Y = train_test_split(holdout_X, holdout_Y, test_size=0.50, random_state=1234)"
   ]
  },
  {
   "cell_type": "markdown",
   "metadata": {},
   "source": [
    "## Problem 4\n",
    "\n",
    "Let's see if we can (relatively closely) replicate the model from Fearon & Laitin. They used logistic regression. Let's start by using _all_ of our data (training, test, and validation) combined to replicate their exact Model 1 from Table 1 (p. 84). \n",
    "\n",
    "Use sckit learn's `LogisticRegression` function with the following parameters:\n",
    "\n",
    "* `penalty = \"none\"`\n",
    "* `random_state=0`\n",
    "* `max_iter=1000`\n",
    "* `class_weight=\"balanced\"`\n",
    "\n",
    "Name your model `logit_all`. You can then use the `.fit(X_matrix, Y_matrix)` method to estimate the model.\n",
    "\n",
    "Once you have an estimated model, use `print(logit_all.coef_)` to print the estimated coefficients. They should closely (but not exactly) match the results in model 1. "
   ]
  },
  {
   "cell_type": "code",
   "execution_count": 7,
   "metadata": {},
   "outputs": [
    {
     "name": "stdout",
     "output_type": "stream",
     "text": [
      "[[-0.79053105 -0.33159313  0.227191    0.24723309  0.11802521  0.75136804\n",
      "   1.57614109  0.60841823  0.01840325  0.35136008  0.22816365]]\n"
     ]
    }
   ],
   "source": [
    "from sklearn.linear_model import LogisticRegression\n",
    "logit_all = LogisticRegression(penalty=\"none\",random_state=0,max_iter=1000,class_weight=\"balanced\", solver=\"newton-cg\").fit(X_matrix, np.array(Y_matrix.iloc[:,0]))\n",
    "print(logit_all.coef_)"
   ]
  },
  {
   "cell_type": "markdown",
   "metadata": {},
   "source": [
    "## Problem 5\n",
    "\n",
    "Let's see how well the model predicts civil war onset in-sample. Remember, we haven't held any data out for model evaluation. We trained on the same data that we're evaluating with. \n",
    "\n",
    "Start by making a new variable called `logit_all_pred` that represents your class predictions for each example in `X_matrix`. You can use the `logit_all.predict(...)` method."
   ]
  },
  {
   "cell_type": "code",
   "execution_count": 8,
   "metadata": {},
   "outputs": [],
   "source": [
    "logit_all_pred = logit_all.predict(X_matrix)"
   ]
  },
  {
   "cell_type": "markdown",
   "metadata": {},
   "source": [
    "Now, use scikit learn's `classification_report()` function to evaluate how well the model predicts civil war onset. Use the `print()` function to make sure the report prints out nicely."
   ]
  },
  {
   "cell_type": "code",
   "execution_count": 9,
   "metadata": {},
   "outputs": [
    {
     "name": "stdout",
     "output_type": "stream",
     "text": [
      "              precision    recall  f1-score   support\n",
      "\n",
      "           0       0.66      0.99      0.79      4053\n",
      "           1       0.67      0.03      0.06      2138\n",
      "\n",
      "    accuracy                           0.66      6191\n",
      "   macro avg       0.67      0.51      0.43      6191\n",
      "weighted avg       0.66      0.66      0.54      6191\n",
      "\n"
     ]
    }
   ],
   "source": [
    "print(classification_report(logit_all_pred,np.array(Y_matrix.iloc[:,0])))"
   ]
  },
  {
   "cell_type": "markdown",
   "metadata": {},
   "source": [
    "Finally, follow along with the example given in block 16 of https://jakevdp.github.io/PythonDataScienceHandbook/05.08-random-forests.html to create a confusion matrix to visually represent predictive performance of the model."
   ]
  },
  {
   "cell_type": "code",
   "execution_count": 40,
   "metadata": {},
   "outputs": [
    {
     "data": {
      "image/png": "[encoded data removed]",
      "text/plain": [
       "<Figure size 576x576 with 2 Axes>"
      ]
     },
     "metadata": {
      "needs_background": "light"
     },
     "output_type": "display_data"
    },
    {
     "name": "stdout",
     "output_type": "stream",
     "text": [
      "[[4019   34]\n",
      " [2068   70]]\n"
     ]
    }
   ],
   "source": [
    "from sklearn.metrics import confusion_matrix\n",
    "y = Y_matrix.iloc[:,0]\n",
    "mat = confusion_matrix(y, logit_all_pred)\n",
    "f, ax = plt.subplots(figsize=(8, 8))\n",
    "sns.heatmap(mat.T, square=True, annot=True,fmt='d',  cbar=True, ax=ax)\n",
    "plt.xlabel('true label')\n",
    "plt.ylabel('predicted label');\n",
    "plt.xlim(-0.5, len(np.unique(y))+0.5)\n",
    "plt.ylim(len(np.unique(y))+0.5, -0.5)\n",
    "plt.show()\n",
    "print(mat.T)"
   ]
  },
  {
   "cell_type": "markdown",
   "metadata": {},
   "source": [
    "## Problem 6\n",
    "\n",
    "Let's repeat the above process the right way. Make a new logit model called `logit_model` using just the `train_X` and `train_Y`. Keep all other hyperparameters the same."
   ]
  },
  {
   "cell_type": "code",
   "execution_count": 15,
   "metadata": {},
   "outputs": [],
   "source": [
    "logit_model = LogisticRegression(penalty=\"none\",random_state=0,max_iter=1000,class_weight=\"balanced\", solver=\"newton-cg\").fit(train_X, np.array(train_Y))"
   ]
  },
  {
   "cell_type": "markdown",
   "metadata": {},
   "source": [
    "Create predictions for your new model, called `logit_pred`, using the `valid_X` data."
   ]
  },
  {
   "cell_type": "code",
   "execution_count": 12,
   "metadata": {},
   "outputs": [],
   "source": [
    "logit_pred = logit_model.predict(valid_X)"
   ]
  },
  {
   "cell_type": "markdown",
   "metadata": {},
   "source": [
    "Print the classification report for `logit_pred` compared to the true values, `valid_Y`. "
   ]
  },
  {
   "cell_type": "code",
   "execution_count": 16,
   "metadata": {},
   "outputs": [
    {
     "name": "stdout",
     "output_type": "stream",
     "text": [
      "              precision    recall  f1-score   support\n",
      "\n",
      "           0       0.67      0.99      0.80      1032\n",
      "           1       0.65      0.03      0.06       516\n",
      "\n",
      "    accuracy                           0.67      1548\n",
      "   macro avg       0.66      0.51      0.43      1548\n",
      "weighted avg       0.67      0.67      0.55      1548\n",
      "\n"
     ]
    }
   ],
   "source": [
    "print(classification_report(logit_pred,valid_Y))"
   ]
  },
  {
   "cell_type": "markdown",
   "metadata": {},
   "source": [
    "## Problem 7\n",
    "\n",
    "As you can see, the Fearon & Laitin model doesn't do a particularly great job predicting civil war onsets. If we've done everything right, the classification accuracy should be around 67%. That's not horrible, but the false positive rate is very high.\n",
    "\n",
    "Let's now try to model this using a random forest classifier. We will use the `RandomForestClassifier` function from scikit learn. Make a new object called `rf_model` with the following hyperparemeters:\n",
    "\n",
    "* `n_estimators=100`\n",
    "* `max_depth=3`\n",
    "* `random_state=1234`\n",
    "\n",
    "Then, fit your model to `train_X` and `train_Y`. "
   ]
  },
  {
   "cell_type": "code",
   "execution_count": 18,
   "metadata": {},
   "outputs": [
    {
     "data": {
      "text/plain": [
       "RandomForestClassifier(bootstrap=True, class_weight=None, criterion='gini',\n",
       "                       max_depth=3, max_features='auto', max_leaf_nodes=None,\n",
       "                       min_impurity_decrease=0.0, min_impurity_split=None,\n",
       "                       min_samples_leaf=1, min_samples_split=2,\n",
       "                       min_weight_fraction_leaf=0.0, n_estimators=1000,\n",
       "                       n_jobs=None, oob_score=False, random_state=1234,\n",
       "                       verbose=0, warm_start=False)"
      ]
     },
     "execution_count": 18,
     "metadata": {},
     "output_type": "execute_result"
    }
   ],
   "source": [
    "rf_model = RandomForestClassifier(n_estimators=1000, max_depth=3,random_state=1234)\n",
    "rf_model.fit(train_X, train_Y)"
   ]
  },
  {
   "cell_type": "markdown",
   "metadata": {},
   "source": [
    "## Problem 8\n",
    "\n",
    "We can check out which features contribute most to our predictive power. Use the `.feature_importances_` attribute to print the weights assigned to each feature. These should sum to 1, meaning they are proportions. If you want, you `zip(...)` them with `x_variables` so it is easy to see which variable is associated with which feature importance."
   ]
  },
  {
   "cell_type": "code",
   "execution_count": 25,
   "metadata": {},
   "outputs": [
    {
     "name": "stdout",
     "output_type": "stream",
     "text": [
      "Sum of feature_importances_: 0.9999999999999999 \n",
      "\n",
      "('warl', 0.0322428459598)\n",
      "('gdpenl', 0.20936159847803074)\n",
      "('lpop', 0.2828006470547031)\n",
      "('lmtnest', 0.10117348113401987)\n",
      "('ncontig', 0.021010034279262197)\n",
      "('Oil', 0.02205616333272554)\n",
      "('nwstate', 0.0587352294680228)\n",
      "('instab', 0.04750285174276676)\n",
      "('polity2l', 0.07423580985367105)\n",
      "('ethfrac', 0.06251458764483225)\n",
      "('relfrac', 0.08836675105216567)\n"
     ]
    }
   ],
   "source": [
    "print(\"Sum of feature_importances_:\", sum(rf_model.feature_importances_), \"\\n\")\n",
    "for val in zip(x_variables, rf_model.feature_importances_):\n",
    "    print(val)"
   ]
  },
  {
   "cell_type": "markdown",
   "metadata": {},
   "source": [
    "## Problem 9\n",
    "\n",
    "Use the `predict` method again to create `rf_pred`, the predictions for the validation set from your random forest model."
   ]
  },
  {
   "cell_type": "code",
   "execution_count": 28,
   "metadata": {},
   "outputs": [],
   "source": [
    "rf_pred = rf_model.predict(valid_X)"
   ]
  },
  {
   "cell_type": "markdown",
   "metadata": {},
   "source": [
    "## Problem 10\n",
    "\n",
    "Print both the classification report and the confusion matrix for your random forest model using the validation data."
   ]
  },
  {
   "cell_type": "code",
   "execution_count": 44,
   "metadata": {},
   "outputs": [
    {
     "name": "stdout",
     "output_type": "stream",
     "text": [
      "              precision    recall  f1-score   support\n",
      "\n",
      "           0       1.00      0.99      0.99      1548\n",
      "           1       0.00      0.00      0.00         0\n",
      "\n",
      "    accuracy                           0.99      1548\n",
      "   macro avg       0.50      0.49      0.50      1548\n",
      "weighted avg       1.00      0.99      0.99      1548\n",
      "\n",
      "(1548,)\n"
     ]
    },
    {
     "data": {
      "image/png": "[encoded data removed]",
      "text/plain": [
       "<Figure size 432x288 with 1 Axes>"
      ]
     },
     "metadata": {
      "needs_background": "light"
     },
     "output_type": "display_data"
    },
    {
     "name": "stdout",
     "output_type": "stream",
     "text": [
      "[[1525   23]\n",
      " [   0    0]]\n"
     ]
    }
   ],
   "source": [
    "print(classification_report(rf_pred,valid_Y))\n",
    "print(valid_Y.shape)\n",
    "mat = confusion_matrix(valid_Y, rf_pred)\n",
    "sns.heatmap(mat.T, square=True, annot=True,fmt='d',  cbar=False)\n",
    "plt.xlabel('true label')\n",
    "plt.ylabel('predicted label');\n",
    "plt.xlim(-0.5, len(np.unique(valid_Y))+0.5)\n",
    "plt.ylim(len(np.unique(valid_Y))+0.5, -0.5)\n",
    "plt.show()\n",
    "print(mat.T)"
   ]
  },
  {
   "cell_type": "markdown",
   "metadata": {},
   "source": [
    "## Problem 11\n",
    "\n",
    "Adjust the model as you feel necessary and evaluate its performance on the validation data. You can choose any evaluation metric you like. Once you are satisfied with your model's performance on the validation data, evaluate its performance on the test data. Report the performance of your model on the test data. If you'd like, you can use scikit learn's `GridSearchCV` or related functions to help you pick a \"best\" model. This is a hard problem. If you can't beat the above model, don't stress. It is really really really hard to predict civil war onsets."
   ]
  },
  {
   "cell_type": "code",
   "execution_count": null,
   "metadata": {},
   "outputs": [],
   "source": [
    "\n"
   ]
  },
  {
   "cell_type": "markdown",
   "metadata": {},
   "source": [
    "## Problem 12\n",
    "\n",
    "Pick a dataset of your choice (from your research or from Googling) and apply a random forest to it. Be prepared to describe the problem that you picked, your modeling choices, and the results of your model. Did it perform better or worse than you expected? Why? What could be done to improve it?"
   ]
  },
  {
   "cell_type": "code",
   "execution_count": null,
   "metadata": {},
   "outputs": [],
   "source": [
    "\n"
   ]
  }
 ],
 "metadata": {
  "kernelspec": {
   "display_name": "Python 3",
   "language": "python",
   "name": "python3"
  },
  "language_info": {
   "codemirror_mode": {
    "name": "ipython",
    "version": 3
   },
   "file_extension": ".py",
   "mimetype": "text/x-python",
   "name": "python",
   "nbconvert_exporter": "python",
   "pygments_lexer": "ipython3",
   "version": "3.7.4"
  }
 },
 "nbformat": 4,
 "nbformat_minor": 2
}
