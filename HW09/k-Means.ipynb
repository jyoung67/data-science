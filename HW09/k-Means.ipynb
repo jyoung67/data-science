{
 "cells": [
  {
   "cell_type": "markdown",
   "metadata": {},
   "source": [
    "# k-Means Clustering\n",
    "\n",
    "Today, we're going to implement our own k-Means clustering function. We will use this function, and another clustering model from scikit-learn, to replicate the results of Ahlquist & Breunig (2012). The data for this paper has been provided."
   ]
  },
  {
   "cell_type": "markdown",
   "metadata": {},
   "source": [
    "## Imports\n",
    "\n",
    "We'll need _at least_ the following modules. You may use additional modules if they are helpful."
   ]
  },
  {
   "cell_type": "code",
   "execution_count": 1,
   "metadata": {},
   "outputs": [],
   "source": [
    "import numpy as np\n",
    "import pandas as pd\n",
    "import matplotlib.pyplot as plt\n",
    "import seaborn as sns\n",
    "from sklearn.decomposition import PCA"
   ]
  },
  {
   "cell_type": "markdown",
   "metadata": {},
   "source": [
    "## First, let's implement k-Means\n",
    "\n",
    "Remember, the k-Means algorithm consists of the following steps:\n",
    "\n",
    "1. Randomly initialize k points within the range of your data.\n",
    "    * Hint: you can do this either by randomly sampling points from within the bounds of all the variables you'll be clustering _or_ you can randomly sample values from your actual data.\n",
    "2. Compute the distance from every cluster to every point in your data.\n",
    "3. Find the nearest cluster to every point.\n",
    "4. For all the points in each cluster, compute their mean value.\n",
    "5. Use the newly-found mean values as your new cluster centroids.\n",
    "6. Repeat X times (usually 10-20).\n",
    "\n",
    "## A note on notation\n",
    "\n",
    "* `data` is your dataset - an (n x p) numpy array\n",
    "* `centroids` are the means of each cluster, a (k x p) numpy array\n",
    "* `n` is the number of datapoints in your data\n",
    "* `k` is the number of clusters\n",
    "* `p` is the number of variables per data point\n",
    "* `x` and `y` represent two singular datapoints\n",
    "* `dists` represents an (n x k) numpy array of distances\n",
    "* `iterations` is the number of iterations to run the model\n",
    "\n",
    "## Problem 1\n",
    "\n",
    "Complete the below functions. The red \"docstrings\" at the top of each function tells you precisely what each function should input and output. It also describes what the function should accomplish."
   ]
  },
  {
   "cell_type": "code",
   "execution_count": 2,
   "metadata": {},
   "outputs": [],
   "source": [
    "def euclidean_distance(x,y):\n",
    "    \"\"\"\n",
    "    This function computes sqrt((x-y)^2) for two points, x and y.\n",
    "    Inputs\n",
    "        x: a (1 x p) numpy array\n",
    "        y: a (1 x p) numpy array\n",
    "    Outputs\n",
    "        A single numerical value, the distance between x and y.\n",
    "    \"\"\"\n",
    "    distance = np.sqrt(np.sum((x - y)**2))\n",
    "\n",
    "    return distance\n",
    "\n",
    "def get_distances(data, centroids):\n",
    "    \"\"\"\n",
    "    This function computes the distances from every point to every\n",
    "    cluster centroid.\n",
    "    Inputs\n",
    "        data: an (n x p) numpy array of data points\n",
    "        centroids: a (k x p) numpy array of cluster centers\n",
    "    Outputs\n",
    "        An (n x k) numpy array of distances from points to clusters.\n",
    "    \"\"\"\n",
    "    distance_matrix = np.empty((data.shape[0], centroids.shape[0]))\n",
    "    \n",
    "    for i in range(0,data.shape[0]):\n",
    "        for j in range(0,centroids.shape[0]):\n",
    "            distance_matrix[i,j] = euclidean_distance(data[i], centroids[j])\n",
    "\n",
    "    return distance_matrix\n",
    "    \n",
    "def get_clusters(dists):\n",
    "    \"\"\"\n",
    "    This function computes the cluster assignment for all points.\n",
    "    Inputs\n",
    "        dists: an (n x k) numpy array\n",
    "    Outputs\n",
    "        An (n x 1) numpy array of datapoints by cluster assignments.\n",
    "    \"\"\"\n",
    "    cluster_assignments = np.argmin(dists, axis = 1)\n",
    "    ## Hint: np.argmin will help...\n",
    "    \n",
    "    return cluster_assignments\n",
    "\n",
    "def compute_new_centroids(data, cluster_assignments):\n",
    "    \"\"\"\n",
    "    This function computes the new centroids (means) for each cluster.\n",
    "    Inputs\n",
    "        data: an (n x p) numpy array of your data points\n",
    "        cluster_assignments: an (n x 1) numpy array giving the nearest \n",
    "            cluster to each point in your dataset.\n",
    "    Outputs\n",
    "        A (k x p) numpy array of cluster centroids (means).\n",
    "    \"\"\"\n",
    "    uniqueClusterIndexes = np.unique(cluster_assignments)\n",
    "    sz = uniqueClusterIndexes.size    \n",
    "    centroids =  np.empty((sz, data.shape[1]))   \n",
    "    for i, idx in enumerate(uniqueClusterIndexes):\n",
    "        currentDataIndexes = np.argwhere(cluster_assignments == idx)\n",
    "        sh = currentDataIndexes.shape[0]      \n",
    "        if sh > 0:\n",
    "            centroids[i] = np.mean(data[currentDataIndexes.reshape(sh,)], axis=0)\n",
    "\n",
    "    return centroids\n",
    "\n",
    "def kmeans(data, k=3, iterations=10):\n",
    "    \"\"\"\n",
    "    Runs the k-Means algorithm.\n",
    "    Inputs\n",
    "        data: an (n x p) numpy array representing your data\n",
    "        k: the number of clusters to estimate (1 < k <= n)\n",
    "        iterations: the number of cycles to run the algorithm\n",
    "    Outputs\n",
    "        A tuple of (cluster_assignments, centroids) where:\n",
    "         * cluster_assignments is a numpy array of (n x 1)\n",
    "         * centroids is a numpy array of (k x p)\n",
    "    \"\"\"\n",
    "    \n",
    "    ## Initialize k randomly-selected points for centroids.\n",
    "    ## You might find np.random.choice to help here.   \n",
    "    \n",
    "    centroids = data[np.random.choice(data.shape[0], k, replace=False)].copy()\n",
    "    \n",
    "    print(\"K-means initial centroids:\\n\", centroids)\n",
    "    \n",
    "    ## Loop for _iterations_ times.\n",
    "    for ii in range(iterations):        \n",
    "        \n",
    "        ## 1. Compute distances between data and centroids\n",
    "        distances = get_distances(data, centroids)       \n",
    "        \n",
    "        ## 2. Get cluster assignment for each datapoint\n",
    "        cluster_assignments = get_clusters(distances)       \n",
    "        \n",
    "        ## 3. Compute new cluster centroids\n",
    "        tmpClusters = compute_new_centroids(data, cluster_assignments)\n",
    "        for i, newCentroidIndex in enumerate(np.unique(cluster_assignments)):\n",
    "            centroids[newCentroidIndex] = tmpClusters[i]\n",
    "            \n",
    "    return (cluster_assignments, centroids)"
   ]
  },
  {
   "cell_type": "markdown",
   "metadata": {},
   "source": [
    "## Problem 2\n",
    "\n",
    "Let's test our kmeans function with the Iris data we've used before. I've given you a plotting function to make it easy..."
   ]
  },
  {
   "cell_type": "code",
   "execution_count": 3,
   "metadata": {},
   "outputs": [],
   "source": [
    "def plot_categories(X, Y, category):\n",
    "    fig, ax = plt.subplots()\n",
    "    unique_categories = np.unique(category)\n",
    "    for cat in unique_categories:\n",
    "        ax.plot(X[category==cat], Y[category==cat], marker='o', linestyle='', label=cat)\n",
    "    return ax\n",
    "\n",
    "def plot_categories_with_labels(X, Y, category, labels):\n",
    "    fig, ax = plt.subplots()\n",
    "    unique_categories = np.unique(category)\n",
    "    for cat in unique_categories:\n",
    "        ax.plot(X[category==cat], Y[category==cat], marker='o', linestyle='', label=cat)\n",
    "    for i, txt in enumerate(labels):\n",
    "        ax.annotate(txt, (X[i], Y[i]))\n",
    "\n",
    "    return ax"
   ]
  },
  {
   "cell_type": "markdown",
   "metadata": {},
   "source": [
    "Now, we will read the Iris dataset and use just the `PetalLength` and `PetalWidth` features (columns). Below, I have provided code to plot these two features."
   ]
  },
  {
   "cell_type": "code",
   "execution_count": 4,
   "metadata": {},
   "outputs": [
    {
     "data": {
      "text/plain": [
       "<matplotlib.axes._subplots.AxesSubplot at 0x7f42b5e61910>"
      ]
     },
     "execution_count": 4,
     "metadata": {},
     "output_type": "execute_result"
    },
    {
     "data": {
      "image/png": "[encoded data removed]",
      "text/plain": [
       "<Figure size 432x288 with 1 Axes>"
      ]
     },
     "metadata": {
      "needs_background": "light"
     },
     "output_type": "display_data"
    }
   ],
   "source": [
    "iris = pd.read_csv(\"iris.csv\")\n",
    "features = np.array(iris[[\"PetalLength\",\"PetalWidth\"]])\n",
    "plot_categories(features[:,0], features[:,1], iris[\"Species\"])"
   ]
  },
  {
   "cell_type": "markdown",
   "metadata": {},
   "source": [
    "Finally, see how well your k-means algorithm does. First, let's use `k=3` and `iterations=1`. Compute the results and make a new plot colored by cluster assignment"
   ]
  },
  {
   "cell_type": "code",
   "execution_count": 5,
   "metadata": {},
   "outputs": [
    {
     "name": "stdout",
     "output_type": "stream",
     "text": [
      "K-means initial centroids:\n",
      " [[1.3 0.2]\n",
      " [4.9 2. ]\n",
      " [1.5 0.2]]\n"
     ]
    },
    {
     "data": {
      "text/plain": [
       "<matplotlib.axes._subplots.AxesSubplot at 0x7f42b5aa5d50>"
      ]
     },
     "execution_count": 5,
     "metadata": {},
     "output_type": "execute_result"
    },
    {
     "data": {
      "image/png": "[encoded data removed]",
      "text/plain": [
       "<Figure size 432x288 with 1 Axes>"
      ]
     },
     "metadata": {
      "needs_background": "light"
     },
     "output_type": "display_data"
    }
   ],
   "source": [
    "## Your code here...\n",
    "\n",
    "result_3_1 = kmeans(features, 3, 1)\n",
    "plot_categories(features[:,0], features[:,1],result_3_1[0])"
   ]
  },
  {
   "cell_type": "markdown",
   "metadata": {},
   "source": [
    "## Problem 3\n",
    "\n",
    "Now, increase `iterations` to 10 and plot the results. How do they compare to the true values from the Iris dataset?"
   ]
  },
  {
   "cell_type": "code",
   "execution_count": 6,
   "metadata": {},
   "outputs": [
    {
     "name": "stdout",
     "output_type": "stream",
     "text": [
      "K-means initial centroids:\n",
      " [[5.8 1.6]\n",
      " [5.6 2.2]\n",
      " [1.5 0.4]]\n"
     ]
    },
    {
     "data": {
      "text/plain": [
       "<matplotlib.axes._subplots.AxesSubplot at 0x7f42b5a43650>"
      ]
     },
     "execution_count": 6,
     "metadata": {},
     "output_type": "execute_result"
    },
    {
     "data": {
      "image/png": "[encoded data removed]",
      "text/plain": [
       "<Figure size 432x288 with 1 Axes>"
      ]
     },
     "metadata": {
      "needs_background": "light"
     },
     "output_type": "display_data"
    }
   ],
   "source": [
    "result_3_10 =kmeans(features, 3, 10)\n",
    "plot_categories(features[:,0], features[:,1],result_3_10[0])\n"
   ]
  },
  {
   "cell_type": "markdown",
   "metadata": {},
   "source": [
    "## Problem 4\n",
    "\n",
    "Just for fun, let's see what happens if we increase `k` to 6. Plot the results below."
   ]
  },
  {
   "cell_type": "code",
   "execution_count": 7,
   "metadata": {},
   "outputs": [
    {
     "name": "stdout",
     "output_type": "stream",
     "text": [
      "K-means initial centroids:\n",
      " [[5.6 2.4]\n",
      " [6.7 2.2]\n",
      " [3.5 1. ]\n",
      " [1.6 0.2]\n",
      " [3.3 1. ]\n",
      " [5.4 2.3]]\n"
     ]
    },
    {
     "data": {
      "text/plain": [
       "<matplotlib.axes._subplots.AxesSubplot at 0x7f42b59b3510>"
      ]
     },
     "execution_count": 7,
     "metadata": {},
     "output_type": "execute_result"
    },
    {
     "data": {
      "image/png": "[encoded data removed]",
      "text/plain": [
       "<Figure size 432x288 with 1 Axes>"
      ]
     },
     "metadata": {
      "needs_background": "light"
     },
     "output_type": "display_data"
    }
   ],
   "source": [
    "result_6_10 =kmeans(features, 6, 10)\n",
    "plot_categories(features[:,0], features[:,1],result_6_10[0])"
   ]
  },
  {
   "cell_type": "markdown",
   "metadata": {},
   "source": [
    "## Problem 5\n",
    "\n",
    "Let's replicate Ahlquist & Breunig (2012) Figure 3a. I've gotten you started (below) by loading the data and adding the \"ground truth\" VOC values."
   ]
  },
  {
   "cell_type": "code",
   "execution_count": 8,
   "metadata": {},
   "outputs": [
    {
     "name": "stdout",
     "output_type": "stream",
     "text": [
      "  wbcode    country  year  epl  cdp  cop  nurr  gb  dsj  voc\n",
      "0    AUS  Australia  1995  1.0  2.6    1    32  30    1  LME\n",
      "1    AUT    Austria  1995  2.6  3.3    3    43  78    3  CME\n",
      "2    BEL    Belgium  1995  1.5  4.1    2    57  99    2  CME\n",
      "3    CAN     Canada  1995  0.9  3.4    1    32  49    2  LME\n",
      "4    DNK    Denmark  1995  1.6  3.1    2    60  76    3  CME\n",
      "(18, 10)\n"
     ]
    }
   ],
   "source": [
    "from sklearn.decomposition import PCA\n",
    "from sklearn.preprocessing import StandardScaler\n",
    "from sklearn.mixture import GaussianMixture\n",
    "\n",
    "data = pd.read_csv(\"iversen.csv\")\n",
    "countries = [\"AUS\", \"CAN\",\"GBR\",\n",
    "            \"JPN\",\"CHE\",\"USA\",\n",
    "            \"AUT\",\"BEL\",\"DEU\",\n",
    "            \"FRA\",\"ITA\",\"DNK\",\n",
    "            \"FIN\",\"NLD\",\"NOR\",\n",
    "            \"SWE\",\"GRC\", \"IRL\", \n",
    "            \"NZL\",\"PRT\",\"ESP\"]\n",
    "VoC_class = [\"LME\",\"LME\",\"LME\",\n",
    "             \"CME\",\"CME\",\"LME\",\n",
    "             \"CME\",\"CME\",\"CME\",\n",
    "             \"NC\",\"NC\",\"CME\",\n",
    "             \"CME\",\"CME\",\"CME\",\n",
    "             \"CME\",\"NC\",\"LME\",\n",
    "             \"LME\",\"NC\", \"NC\"]\n",
    "VoC_color = {\"CME\":\"red\",\"LME\":\"black\",\"NC\":\"green\"}\n",
    "\n",
    "voc_data = pd.DataFrame(list(zip(countries,VoC_class)), columns=[\"wbcode\",\"voc\"])\n",
    "\n",
    "merged_data = pd.merge(data, voc_data, on=\"wbcode\")\n",
    "print(merged_data.head())\n",
    "print(merged_data.shape)"
   ]
  },
  {
   "cell_type": "markdown",
   "metadata": {},
   "source": [
    "Now, let's use sklearn's `StandardScaler` to scale our variables to have 0 mean and 1 variance. You can find the documentation for this at https://scikit-learn.org/stable/modules/generated/sklearn.preprocessing.StandardScaler.html."
   ]
  },
  {
   "cell_type": "code",
   "execution_count": 9,
   "metadata": {},
   "outputs": [],
   "source": [
    "scaler_employment = StandardScaler()\n",
    "scaled_employment_data = scaler_employment.fit_transform(merged_data[[\"epl\",\"cdp\",\"cop\"]])\n",
    "\n",
    "scaler_unemployment = StandardScaler()\n",
    "scaled_unemployment_data = scaler_unemployment.fit_transform(merged_data[[\"nurr\",\"gb\",\"dsj\"]])"
   ]
  },
  {
   "cell_type": "markdown",
   "metadata": {},
   "source": [
    "Next, we'll use sklearn's `PCA` to compute principal components that represent employment and unemployment variables. This process is described in section 4.1.1 of the paper. We stack these into an `X` matrix of size (n x 2)."
   ]
  },
  {
   "cell_type": "code",
   "execution_count": 10,
   "metadata": {},
   "outputs": [
    {
     "name": "stdout",
     "output_type": "stream",
     "text": [
      "(18, 2)\n"
     ]
    }
   ],
   "source": [
    "employment_pca = PCA(n_components=1)\n",
    "employment_pca_values = employment_pca.fit_transform(scaled_employment_data)\n",
    "\n",
    "unemployment_pca = PCA(n_components=1)\n",
    "unemployment_pca_values = unemployment_pca.fit_transform(scaled_unemployment_data)\n",
    "\n",
    "X = np.hstack([employment_pca_values, unemployment_pca_values])\n",
    "print(X.shape)"
   ]
  },
  {
   "cell_type": "markdown",
   "metadata": {},
   "source": [
    "Now, use both your k-means implementation and sklearn's `GaussianMixture` to reproduce Figure 3(a) of the paper. You do not need to draw the ellipses around the clusters, just color the points by cluster like we did above. For the Gaussian Mixture model, use `covariance_type='tied'`. Also, you should use `k=5` for your k-means and `n_components=5` for the Gaussian Mixture."
   ]
  },
  {
   "cell_type": "code",
   "execution_count": 11,
   "metadata": {},
   "outputs": [],
   "source": [
    "clf = GaussianMixture(n_components=5, covariance_type='tied')\n",
    "em = clf.fit(X)"
   ]
  },
  {
   "cell_type": "markdown",
   "metadata": {},
   "source": [
    "## Problem 6\n",
    "\n",
    "Now that you've estimated a Gaussian Mixture model, you will need to make predictions for each datapoint. That is, predict the cluster that every datapoint belongs to. You can use the `.predict(...)` method of your Gaussian Mixture object to do so. See the documentation if it is unclear."
   ]
  },
  {
   "cell_type": "code",
   "execution_count": 12,
   "metadata": {},
   "outputs": [
    {
     "name": "stdout",
     "output_type": "stream",
     "text": [
      "K-means initial centroids:\n",
      " [[ 0.09409683 -2.16557462]\n",
      " [-0.31824561 -0.24068914]\n",
      " [-1.04561028  2.07557617]\n",
      " [ 2.23475822  2.20462244]\n",
      " [ 1.62910326  1.40259831]]\n",
      "MBC clusters: [1 4 0 1 0 0 0 4 1 2 3 4 1 0 4 0 1 1]\n",
      "K-means clusters: [4 0 0 4 0 1 1 1 4 2 2 0 4 1 1 0 3 3]\n"
     ]
    }
   ],
   "source": [
    "clusters = em.predict(X)\n",
    "kmeans_clusters = kmeans(X, 5, 100)\n",
    "print(\"MBC clusters:\", clusters)\n",
    "print(\"K-means clusters:\", kmeans_clusters[0])    "
   ]
  },
  {
   "cell_type": "markdown",
   "metadata": {},
   "source": [
    "## Problem 7\n",
    "\n",
    "Plot your results for k-means and for the gaussian mixture model. You can use the same function we used for the iris data."
   ]
  },
  {
   "cell_type": "code",
   "execution_count": 13,
   "metadata": {},
   "outputs": [
    {
     "data": {
      "text/plain": [
       "<matplotlib.axes._subplots.AxesSubplot at 0x7f42b46d2510>"
      ]
     },
     "execution_count": 13,
     "metadata": {},
     "output_type": "execute_result"
    },
    {
     "data": {
      "image/png": "[encoded data removed]",
      "text/plain": [
       "<Figure size 432x288 with 1 Axes>"
      ]
     },
     "metadata": {
      "needs_background": "light"
     },
     "output_type": "display_data"
    },
    {
     "data": {
      "image/png": "[encoded data removed]",
      "text/plain": [
       "<Figure size 432x288 with 1 Axes>"
      ]
     },
     "metadata": {
      "needs_background": "light"
     },
     "output_type": "display_data"
    }
   ],
   "source": [
    "plot_categories_with_labels(X[:,0], X[:,1],clusters,merged_data[\"wbcode\"])\n",
    "plot_categories_with_labels(X[:,0], X[:,1],kmeans_clusters[0],merged_data[\"wbcode\"])"
   ]
  },
  {
   "cell_type": "markdown",
   "metadata": {},
   "source": [
    "## Problem 8\n",
    "\n",
    "Select a dataset of your choice (any...) and use clustering (either k-means or any of the clustering options available from [scikit-learn](https://scikit-learn.org/stable/modules/clustering.html)) to explore that dataset. Prepare to discuss your data, your clustering choices, and the results for approximately 5-10 minutes on March 24."
   ]
  },
  {
   "cell_type": "markdown",
   "metadata": {},
   "source": [
    "## Step 1:  Download [Heart Disease Dataset](https://archive.ics.uci.edu/ml/datasets/Heart+Disease) from UCI Machine Learning Repository"
   ]
  },
  {
   "cell_type": "code",
   "execution_count": 14,
   "metadata": {},
   "outputs": [
    {
     "name": "stdout",
     "output_type": "stream",
     "text": [
      "<class 'pandas.core.frame.DataFrame'>\n",
      "RangeIndex: 302 entries, 0 to 301\n",
      "Data columns (total 14 columns):\n",
      "age         302 non-null float64\n",
      "sex         302 non-null float64\n",
      "cp          302 non-null float64\n",
      "trestbps    302 non-null float64\n",
      "chol        302 non-null float64\n",
      "fbs         302 non-null float64\n",
      "restecg     302 non-null float64\n",
      "thalach     302 non-null float64\n",
      "exang       302 non-null float64\n",
      "oldpeak     302 non-null float64\n",
      "slope       302 non-null float64\n",
      "ca          302 non-null object\n",
      "thal        302 non-null object\n",
      "num         302 non-null int64\n",
      "dtypes: float64(11), int64(1), object(2)\n",
      "memory usage: 33.2+ KB\n",
      "None\n"
     ]
    },
    {
     "data": {
      "text/html": [
       "<div>\n",
       "<style scoped>\n",
       "    .dataframe tbody tr th:only-of-type {\n",
       "        vertical-align: middle;\n",
       "    }\n",
       "\n",
       "    .dataframe tbody tr th {\n",
       "        vertical-align: top;\n",
       "    }\n",
       "\n",
       "    .dataframe thead th {\n",
       "        text-align: right;\n",
       "    }\n",
       "</style>\n",
       "<table border=\"1\" class=\"dataframe\">\n",
       "  <thead>\n",
       "    <tr style=\"text-align: right;\">\n",
       "      <th></th>\n",
       "      <th>age</th>\n",
       "      <th>sex</th>\n",
       "      <th>cp</th>\n",
       "      <th>trestbps</th>\n",
       "      <th>chol</th>\n",
       "      <th>fbs</th>\n",
       "      <th>restecg</th>\n",
       "      <th>thalach</th>\n",
       "      <th>exang</th>\n",
       "      <th>oldpeak</th>\n",
       "      <th>slope</th>\n",
       "      <th>ca</th>\n",
       "      <th>thal</th>\n",
       "      <th>num</th>\n",
       "    </tr>\n",
       "  </thead>\n",
       "  <tbody>\n",
       "    <tr>\n",
       "      <td>0</td>\n",
       "      <td>67.0</td>\n",
       "      <td>1.0</td>\n",
       "      <td>4.0</td>\n",
       "      <td>160.0</td>\n",
       "      <td>286.0</td>\n",
       "      <td>0.0</td>\n",
       "      <td>2.0</td>\n",
       "      <td>108.0</td>\n",
       "      <td>1.0</td>\n",
       "      <td>1.5</td>\n",
       "      <td>2.0</td>\n",
       "      <td>3.0</td>\n",
       "      <td>3.0</td>\n",
       "      <td>2</td>\n",
       "    </tr>\n",
       "    <tr>\n",
       "      <td>1</td>\n",
       "      <td>67.0</td>\n",
       "      <td>1.0</td>\n",
       "      <td>4.0</td>\n",
       "      <td>120.0</td>\n",
       "      <td>229.0</td>\n",
       "      <td>0.0</td>\n",
       "      <td>2.0</td>\n",
       "      <td>129.0</td>\n",
       "      <td>1.0</td>\n",
       "      <td>2.6</td>\n",
       "      <td>2.0</td>\n",
       "      <td>2.0</td>\n",
       "      <td>7.0</td>\n",
       "      <td>1</td>\n",
       "    </tr>\n",
       "    <tr>\n",
       "      <td>2</td>\n",
       "      <td>37.0</td>\n",
       "      <td>1.0</td>\n",
       "      <td>3.0</td>\n",
       "      <td>130.0</td>\n",
       "      <td>250.0</td>\n",
       "      <td>0.0</td>\n",
       "      <td>0.0</td>\n",
       "      <td>187.0</td>\n",
       "      <td>0.0</td>\n",
       "      <td>3.5</td>\n",
       "      <td>3.0</td>\n",
       "      <td>0.0</td>\n",
       "      <td>3.0</td>\n",
       "      <td>0</td>\n",
       "    </tr>\n",
       "    <tr>\n",
       "      <td>3</td>\n",
       "      <td>41.0</td>\n",
       "      <td>0.0</td>\n",
       "      <td>2.0</td>\n",
       "      <td>130.0</td>\n",
       "      <td>204.0</td>\n",
       "      <td>0.0</td>\n",
       "      <td>2.0</td>\n",
       "      <td>172.0</td>\n",
       "      <td>0.0</td>\n",
       "      <td>1.4</td>\n",
       "      <td>1.0</td>\n",
       "      <td>0.0</td>\n",
       "      <td>3.0</td>\n",
       "      <td>0</td>\n",
       "    </tr>\n",
       "    <tr>\n",
       "      <td>4</td>\n",
       "      <td>56.0</td>\n",
       "      <td>1.0</td>\n",
       "      <td>2.0</td>\n",
       "      <td>120.0</td>\n",
       "      <td>236.0</td>\n",
       "      <td>0.0</td>\n",
       "      <td>0.0</td>\n",
       "      <td>178.0</td>\n",
       "      <td>0.0</td>\n",
       "      <td>0.8</td>\n",
       "      <td>1.0</td>\n",
       "      <td>0.0</td>\n",
       "      <td>3.0</td>\n",
       "      <td>0</td>\n",
       "    </tr>\n",
       "  </tbody>\n",
       "</table>\n",
       "</div>"
      ],
      "text/plain": [
       "    age  sex   cp  trestbps   chol  fbs  restecg  thalach  exang  oldpeak  \\\n",
       "0  67.0  1.0  4.0     160.0  286.0  0.0      2.0    108.0    1.0      1.5   \n",
       "1  67.0  1.0  4.0     120.0  229.0  0.0      2.0    129.0    1.0      2.6   \n",
       "2  37.0  1.0  3.0     130.0  250.0  0.0      0.0    187.0    0.0      3.5   \n",
       "3  41.0  0.0  2.0     130.0  204.0  0.0      2.0    172.0    0.0      1.4   \n",
       "4  56.0  1.0  2.0     120.0  236.0  0.0      0.0    178.0    0.0      0.8   \n",
       "\n",
       "   slope   ca thal  num  \n",
       "0    2.0  3.0  3.0    2  \n",
       "1    2.0  2.0  7.0    1  \n",
       "2    3.0  0.0  3.0    0  \n",
       "3    1.0  0.0  3.0    0  \n",
       "4    1.0  0.0  3.0    0  "
      ]
     },
     "execution_count": 14,
     "metadata": {},
     "output_type": "execute_result"
    }
   ],
   "source": [
    "tdf = pd.read_csv('https://archive.ics.uci.edu/ml/machine-learning-databases/heart-disease/processed.cleveland.data', sep = ',')\n",
    "header = [\"age\", \"sex\", \"cp\", \"trestbps\", \"chol\", \"fbs\",\"restecg\", \"thalach\", \"exang\", \"oldpeak\", \"slope\", \"ca\", \"thal\", \"num\"]\n",
    "tdf.columns = header\n",
    "print(tdf.info())\n",
    "tdf.head()"
   ]
  },
  {
   "cell_type": "markdown",
   "metadata": {},
   "source": [
    "## Step 2:  Perform Initial Inspection of Dataset"
   ]
  },
  {
   "cell_type": "code",
   "execution_count": 15,
   "metadata": {},
   "outputs": [
    {
     "data": {
      "image/png": "[encoded data removed]",
      "text/plain": [
       "<Figure size 432x288 with 1 Axes>"
      ]
     },
     "metadata": {
      "needs_background": "light"
     },
     "output_type": "display_data"
    },
    {
     "data": {
      "image/png": "[encoded data removed]",
      "text/plain": [
       "<Figure size 432x288 with 1 Axes>"
      ]
     },
     "metadata": {
      "needs_background": "light"
     },
     "output_type": "display_data"
    },
    {
     "data": {
      "image/png": "[encoded data removed]",
      "text/plain": [
       "<Figure size 432x288 with 1 Axes>"
      ]
     },
     "metadata": {
      "needs_background": "light"
     },
     "output_type": "display_data"
    }
   ],
   "source": [
    "sns.countplot(x=\"num\", data=tdf, palette=\"bwr\").set_title('Diagnosis of Heart Disease')\n",
    "plt.show()\n",
    "sns.countplot(x='sex', data=tdf, palette=\"mako_r\").set_title('Gender Counts')\n",
    "plt.xlabel(\"Gender (0.0 = female, 1.0= male)\")\n",
    "plt.show()\n",
    "plt.scatter(x=tdf.age[tdf.num >= 1], y=tdf.thalach[(tdf.num >= 1)], c=\"green\")\n",
    "plt.scatter(x=tdf.age[tdf.num == 0], y=tdf.thalach[(tdf.num == 0)], c = 'black')\n",
    "plt.legend([\"Disease\", \"Not Disease\"])\n",
    "plt.xlabel(\"Age\")\n",
    "plt.ylabel(\"Maximum Heart Rate\")\n",
    "plt.title(\"Categorized Data Points\")\n",
    "plt.show()"
   ]
  },
  {
   "cell_type": "markdown",
   "metadata": {},
   "source": [
    "## Step 3:  Trim, Modify & Scale Dataset"
   ]
  },
  {
   "cell_type": "code",
   "execution_count": 16,
   "metadata": {},
   "outputs": [
    {
     "name": "stdout",
     "output_type": "stream",
     "text": [
      "************missing ca values************\n",
      "      age  sex   cp  trestbps   chol  fbs  restecg  thalach  exang  oldpeak  \\\n",
      "165  52.0  1.0  3.0     138.0  223.0  0.0      0.0    169.0    0.0      0.0   \n",
      "191  43.0  1.0  4.0     132.0  247.0  1.0      2.0    143.0    1.0      0.1   \n",
      "286  58.0  1.0  2.0     125.0  220.0  0.0      0.0    144.0    0.0      0.4   \n",
      "301  38.0  1.0  3.0     138.0  175.0  0.0      0.0    173.0    0.0      0.0   \n",
      "\n",
      "     slope ca thal  num  \n",
      "165    1.0  ?  3.0    0  \n",
      "191    2.0  ?  7.0    1  \n",
      "286    2.0  ?  7.0    0  \n",
      "301    1.0  ?  3.0    0  \n",
      "\n",
      "************missing thal values************\n",
      "      age  sex   cp  trestbps   chol  fbs  restecg  thalach  exang  oldpeak  \\\n",
      "86   53.0  0.0  3.0     128.0  216.0  0.0      2.0    115.0    0.0      0.0   \n",
      "265  52.0  1.0  4.0     128.0  204.0  1.0      0.0    156.0    1.0      1.0   \n",
      "\n",
      "     slope   ca thal  num  \n",
      "86     1.0  0.0    ?    0  \n",
      "265    2.0  0.0    ?    2  \n"
     ]
    },
    {
     "data": {
      "image/png": "[encoded data removed]",
      "text/plain": [
       "<Figure size 432x288 with 1 Axes>"
      ]
     },
     "metadata": {
      "needs_background": "light"
     },
     "output_type": "display_data"
    },
    {
     "name": "stdout",
     "output_type": "stream",
     "text": [
      "<class 'pandas.core.frame.DataFrame'>\n",
      "Int64Index: 296 entries, 0 to 300\n",
      "Data columns (total 13 columns):\n",
      "age         296 non-null float64\n",
      "sex         296 non-null float64\n",
      "cp          296 non-null float64\n",
      "trestbps    296 non-null float64\n",
      "chol        296 non-null float64\n",
      "fbs         296 non-null float64\n",
      "restecg     296 non-null float64\n",
      "thalach     296 non-null float64\n",
      "exang       296 non-null float64\n",
      "oldpeak     296 non-null float64\n",
      "slope       296 non-null float64\n",
      "ca          296 non-null float64\n",
      "thal        296 non-null float64\n",
      "dtypes: float64(13)\n",
      "memory usage: 42.4 KB\n",
      "None\n"
     ]
    }
   ],
   "source": [
    "# Display rows of missing data\n",
    "print(\"************missing ca values************\")\n",
    "print(tdf[(tdf[\"ca\"] == \"?\")])\n",
    "print()\n",
    "print(\"************missing thal values************\")\n",
    "print(tdf[(tdf[\"thal\"] == \"?\")])\n",
    "\n",
    "# Remove rows with missing values for \"ca\" field\n",
    "tdf = tdf.loc[lambda df: df[\"ca\"] != \"?\", :]\n",
    "# Remove rows with missing values for \"ca\" field\n",
    "tdf = tdf.loc[lambda df: df[\"thal\"] != \"?\", :]\n",
    "\n",
    "# Set \"num\" field = 1 when value > 1\n",
    "tdf.loc[tdf.num > 1, 'num'] = 1\n",
    "\n",
    "# Change type of \"ca\" and \"thal\" fields to \"float64\"\n",
    "tdf[\"ca\"] = tdf[\"ca\"].astype(\"float64\")\n",
    "tdf[\"thal\"] = tdf[\"thal\"].astype(\"float64\")\n",
    "\n",
    "# Remove diagnosis column (num)\n",
    "heartData = tdf.iloc[:, :-1]\n",
    "\n",
    "# Store diagnosis labels separately\n",
    "heartLabels = tdf.iloc[:, 13]\n",
    "\n",
    "sns.countplot(x=\"num\", data=tdf, palette=\"bwr\").set_title('Diagnosis of Heart Disease')\n",
    "plt.show()\n",
    "\n",
    "print(heartData.info())\n",
    "\n",
    "# Scale data set\n",
    "scaler_heart = StandardScaler()\n",
    "heartData = scaler_heart.fit_transform(heartData)"
   ]
  },
  {
   "cell_type": "markdown",
   "metadata": {},
   "source": [
    "## Step 4:  Execute K-Means Clustering Algorithm"
   ]
  },
  {
   "cell_type": "code",
   "execution_count": 17,
   "metadata": {},
   "outputs": [
    {
     "name": "stdout",
     "output_type": "stream",
     "text": [
      "K-means initial centroids:\n",
      " [[-0.49948536 -1.44337567 -1.21836649 -0.65641339 -0.06537011 -0.40663784\n",
      "  -1.00004628  0.54059237 -0.69816702  0.04179905 -0.9757881  -0.72383218\n",
      "  -0.8911491 ]\n",
      " [-0.27815652  0.69282032  0.87227977 -1.33262579 -0.27694572  2.45919073\n",
      "  -1.00004628 -0.11324313 -0.69816702 -0.81740363 -0.9757881   2.47399359\n",
      "   1.17366604]]\n"
     ]
    }
   ],
   "source": [
    "# Invoke K-Means clustering algorithm\n",
    "kmeans_clusters_heart = kmeans(heartData, 2, 100)\n",
    "\n",
    "# Partion results into two different variables\n",
    "noDisease = np.argwhere(kmeans_clusters_heart[0] == 0)\n",
    "withDisease = np.argwhere(kmeans_clusters_heart[0] == 1)\n",
    "s1 = noDisease.shape[0]\n",
    "s2 = withDisease.shape[0]\n",
    "d0 = heartData[noDisease.reshape(s1,)]\n",
    "d1 = heartData[withDisease.reshape(s2,)]"
   ]
  },
  {
   "cell_type": "markdown",
   "metadata": {},
   "source": [
    "## Step 5:  Assess Clustering Accuracy via [Fowlkes-Mallows Score](https://scikit-learn.org/stable/modules/generated/sklearn.metrics.fowlkes_mallows_score.html#sklearn.metrics.fowlkes_mallows_score)"
   ]
  },
  {
   "cell_type": "code",
   "execution_count": 18,
   "metadata": {},
   "outputs": [
    {
     "name": "stdout",
     "output_type": "stream",
     "text": [
      "Accuracy: 0.73\n"
     ]
    },
    {
     "data": {
      "image/png": "[encoded data removed]",
      "text/plain": [
       "<Figure size 432x288 with 1 Axes>"
      ]
     },
     "metadata": {
      "needs_background": "light"
     },
     "output_type": "display_data"
    }
   ],
   "source": [
    "from sklearn.metrics.cluster import fowlkes_mallows_score\n",
    "tResult = kmeans_clusters_heart[0]\n",
    "accuracy = fowlkes_mallows_score(heartLabels, tResult)\n",
    "print('Accuracy: {:.2f}'.format(accuracy))\n",
    "\n",
    "plt.scatter(x=d1[:, 0], y=d1[:, 7], c=\"green\")\n",
    "plt.scatter(x=d0[:, 0], y=d0[:, 7], c = 'black')\n",
    "plt.legend([\"Cluster_0\", \"Cluster_1\"])\n",
    "plt.xlabel(\"Age\")\n",
    "plt.ylabel(\"Maximum Heart Rate\")\n",
    "plt.show()"
   ]
  }
 ],
 "metadata": {
  "kernelspec": {
   "display_name": "Python 3",
   "language": "python",
   "name": "python3"
  },
  "language_info": {
   "codemirror_mode": {
    "name": "ipython",
    "version": 3
   },
   "file_extension": ".py",
   "mimetype": "text/x-python",
   "name": "python",
   "nbconvert_exporter": "python",
   "pygments_lexer": "ipython3",
   "version": "3.7.4"
  }
 },
 "nbformat": 4,
 "nbformat_minor": 4
}
