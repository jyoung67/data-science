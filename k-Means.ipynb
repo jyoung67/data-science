{
 "cells": [
  {
   "cell_type": "markdown",
   "metadata": {},
   "source": [
    "# k-Means Clustering\n",
    "\n",
    "Today, we're going to implement our own k-Means clustering function. We will use this function, and another clustering model from scikit-learn, to replicate the results of Ahlquist & Breunig (2012). The data for this paper has been provided."
   ]
  },
  {
   "cell_type": "markdown",
   "metadata": {},
   "source": [
    "## Imports\n",
    "\n",
    "We'll need _at least_ the following modules. You may use additional modules if they are helpful."
   ]
  },
  {
   "cell_type": "code",
   "execution_count": 325,
   "metadata": {},
   "outputs": [],
   "source": [
    "import numpy as np\n",
    "import pandas as pd\n",
    "import matplotlib.pyplot as plt"
   ]
  },
  {
   "cell_type": "markdown",
   "metadata": {},
   "source": [
    "## First, let's implement k-Means\n",
    "\n",
    "Remember, the k-Means algorithm consists of the following steps:\n",
    "\n",
    "1. Randomly initialize k points within the range of your data.\n",
    "    * Hint: you can do this either by randomly sampling points from within the bounds of all the variables you'll be clustering _or_ you can randomly sample values from your actual data.\n",
    "2. Compute the distance from every cluster to every point in your data.\n",
    "3. Find the nearest cluster to every point.\n",
    "4. For all the points in each cluster, compute their mean value.\n",
    "5. Use the newly-found mean values as your new cluster centroids.\n",
    "6. Repeat X times (usually 10-20).\n",
    "\n",
    "## A note on notation\n",
    "\n",
    "* `data` is your dataset - an (n x p) numpy array\n",
    "* `centroids` are the means of each cluster, a (k x p) numpy array\n",
    "* `n` is the number of datapoints in your data\n",
    "* `k` is the number of clusters\n",
    "* `p` is the number of variables per data point\n",
    "* `x` and `y` represent two singular datapoints\n",
    "* `dists` represents an (n x k) numpy array of distances\n",
    "* `iterations` is the number of iterations to run the model\n",
    "\n",
    "## Problem 1\n",
    "\n",
    "Complete the below functions. The red \"docstrings\" at the top of each function tells you precisely what each function should input and output. It also describes what the function should accomplish."
   ]
  },
  {
   "cell_type": "code",
   "execution_count": 327,
   "metadata": {},
   "outputs": [],
   "source": [
    "def euclidean_distance(x,y):\n",
    "    \"\"\"\n",
    "    This function computes sqrt((x-y)^2) for two points, x and y.\n",
    "    Inputs\n",
    "        x: a (1 x p) numpy array\n",
    "        y: a (1 x p) numpy array\n",
    "    Outputs\n",
    "        A single numerical value, the distance between x and y.\n",
    "    \"\"\"\n",
    "    distance = np.sqrt(np.sum((x - y)**2))\n",
    "\n",
    "    return distance\n",
    "\n",
    "def get_distances(data, centroids):\n",
    "    \"\"\"\n",
    "    This function computes the distances from every point to every\n",
    "    cluster centroid.\n",
    "    Inputs\n",
    "        data: an (n x p) numpy array of data points\n",
    "        centroids: a (k x p) numpy array of cluster centers\n",
    "    Outputs\n",
    "        An (n x k) numpy array of distances from points to clusters.\n",
    "    \"\"\"\n",
    "    distance_matrix = np.empty((data.shape[0], centroids.shape[0]))\n",
    "    \n",
    "    for i in range(0,data.shape[0]):\n",
    "        for j in range(0,centroids.shape[0]):\n",
    "            distance_matrix[i,j] = euclidean_distance(data[i], centroids[j])\n",
    "\n",
    "    return distance_matrix\n",
    "    \n",
    "def get_clusters(dists):\n",
    "    \"\"\"\n",
    "    This function computes the cluster assignment for all points.\n",
    "    Inputs\n",
    "        dists: an (n x k) numpy array\n",
    "    Outputs\n",
    "        An (n x 1) numpy array of datapoints by cluster assignments.\n",
    "    \"\"\"\n",
    "    cluster_assignments = np.argmin(dists, axis = 1)\n",
    "    ## Hint: np.argmin will help...\n",
    "    \n",
    "    return cluster_assignments\n",
    "\n",
    "def compute_new_centroids(data, cluster_assignments):\n",
    "    \"\"\"\n",
    "    This function computes the new centroids (means) for each cluster.\n",
    "    Inputs\n",
    "        data: an (n x p) numpy array of your data points\n",
    "        cluster_assignments: an (n x 1) numpy array giving the nearest \n",
    "            cluster to each point in your dataset.\n",
    "    Outputs\n",
    "        A (k x p) numpy array of cluster centroids (means).\n",
    "    \"\"\"\n",
    "    uniqueClusterIndexes = np.unique(cluster_assignments)\n",
    "    sz = uniqueClusterIndexes.size\n",
    "    centroids = np.repeat([np.NaN,np.NaN], sz, axis = 0).reshape(sz,2)\n",
    "    for i, idx in enumerate(uniqueClusterIndexes):\n",
    "        currentDataIndexes = np.argwhere(cluster_assignments == idx)\n",
    "        sh = currentDataIndexes.shape[0]\n",
    "        if sh > 0:\n",
    "            x = np.mean(data[currentDataIndexes.reshape(sh,)][:,0])\n",
    "            y = np.mean(data[currentDataIndexes.reshape(sh,)][:,1])\n",
    "            centroids[i] = [x,y]  \n",
    "\n",
    "    return centroids\n",
    "\n",
    "def kmeans(data, k=3, iterations=10):\n",
    "    \"\"\"\n",
    "    Runs the k-Means algorithm.\n",
    "    Inputs\n",
    "        data: an (n x p) numpy array representing your data\n",
    "        k: the number of clusters to estimate (1 < k <= n)\n",
    "        iterations: the number of cycles to run the algorithm\n",
    "    Outputs\n",
    "        A tuple of (cluster_assignments, centroids) where:\n",
    "         * cluster_assignments is a numpy array of (n x 1)\n",
    "         * centroids is a numpy array of (k x p)\n",
    "    \"\"\"\n",
    "    \n",
    "    ## Initialize k randomly-selected points for centroids.\n",
    "    ## You might find np.random.choice to help here.   \n",
    "    \n",
    "    centroids = data[np.random.choice(data.shape[0], k, replace=False)].copy()\n",
    "    # The following inital centroids will produce a result that matches MBC\n",
    "    # centroids = np.array([[ 1.04561028, -2.07557617], [ 0.51155813,  0.50625743], [-1.58321785, -0.26394724], [ 1.85129786,  1.25663541],[ 0.10332699, -0.46100142]])   \n",
    "    print(\"K-means initial centroids:\\n\", centroids)\n",
    "    \n",
    "    ## Loop for _iterations_ times.\n",
    "    for ii in range(iterations):        \n",
    "        \n",
    "        ## 1. Compute distances between data and centroids\n",
    "        distances = get_distances(data, centroids)\n",
    "        \n",
    "        ## 2. Get cluster assignment for each datapoint\n",
    "        cluster_assignments = get_clusters(distances)       \n",
    "        \n",
    "        ## 3. Compute new cluster centroids\n",
    "        tmpClusters = compute_new_centroids(data, cluster_assignments)\n",
    "        for i, newCentroidIndex in enumerate(np.unique(cluster_assignments)):\n",
    "            centroids[newCentroidIndex] = tmpClusters[i]\n",
    "            \n",
    "    return (cluster_assignments, centroids)"
   ]
  },
  {
   "cell_type": "code",
   "execution_count": 332,
   "metadata": {},
   "outputs": [
    {
     "name": "stdout",
     "output_type": "stream",
     "text": [
      "[3.34, 2.9]\n",
      "[5.0, 10.833333333333334]\n",
      "[10.7, 8.05]\n",
      "K-means initial centroids:\n",
      " [[ 3.4  3.3]\n",
      " [ 4.5 11.3]\n",
      " [ 2.8  3.3]]\n",
      "Predicted clusters: [0 2 0 0 2 1 1 1 1 1]\n"
     ]
    }
   ],
   "source": [
    "# Method Testing\n",
    "data_input = np.array([[3.7, 2.4], [3.0, 2.5], [3.4, 3.3], [3.8,3.0],[2.8,3.3],[5.0, 10.3],[5.5,10.9],[4.5,11.3],[10.2,7.5], [11.2,8.6]])\n",
    "print([np.mean(data_input[:5, 0]), np.mean(data_input[:5, 1])])\n",
    "print([np.mean(data_input[5:8, 0]), np.mean(data_input[5:8, 1])])\n",
    "print([np.mean(data_input[8:10, 0]), np.mean(data_input[8:10, 1])])\n",
    "result_test = kmeans(data_input, 3, 1000)\n",
    "print(\"Predicted clusters:\", result_test[0])"
   ]
  },
  {
   "cell_type": "markdown",
   "metadata": {},
   "source": [
    "## Problem 2\n",
    "\n",
    "Let's test our kmeans function with the Iris data we've used before. I've given you a plotting function to make it easy..."
   ]
  },
  {
   "cell_type": "code",
   "execution_count": 333,
   "metadata": {},
   "outputs": [],
   "source": [
    "def plot_categories(X, Y, category):\n",
    "    fig, ax = plt.subplots()\n",
    "    unique_categories = np.unique(category)\n",
    "    for cat in unique_categories:\n",
    "        ax.plot(X[category==cat], Y[category==cat], marker='o', linestyle='', label=cat)\n",
    "    return ax\n",
    "\n",
    "def plot_categories_with_labels(X, Y, category, labels):\n",
    "    fig, ax = plt.subplots()\n",
    "    unique_categories = np.unique(category)\n",
    "    for cat in unique_categories:\n",
    "        ax.plot(X[category==cat], Y[category==cat], marker='o', linestyle='', label=cat)\n",
    "    for i, txt in enumerate(labels):\n",
    "        ax.annotate(txt, (X[i], Y[i]))\n",
    "\n",
    "    return ax"
   ]
  },
  {
   "cell_type": "markdown",
   "metadata": {},
   "source": [
    "Now, we will read the Iris dataset and use just the `PetalLength` and `PetalWidth` features (columns). Below, I have provided code to plot these two features."
   ]
  },
  {
   "cell_type": "code",
   "execution_count": 334,
   "metadata": {},
   "outputs": [
    {
     "data": {
      "text/plain": [
       "<matplotlib.axes._subplots.AxesSubplot at 0x7fa40d30d350>"
      ]
     },
     "execution_count": 334,
     "metadata": {},
     "output_type": "execute_result"
    },
    {
     "data": {
      "image/png": "[encoded data removed]",
      "text/plain": [
       "<Figure size 432x288 with 1 Axes>"
      ]
     },
     "metadata": {
      "needs_background": "light"
     },
     "output_type": "display_data"
    }
   ],
   "source": [
    "iris = pd.read_csv(\"iris.csv\")\n",
    "features = np.array(iris[[\"PetalLength\",\"PetalWidth\"]])\n",
    "plot_categories(features[:,0], features[:,1], iris[\"Species\"])"
   ]
  },
  {
   "cell_type": "markdown",
   "metadata": {},
   "source": [
    "Finally, see how well your k-means algorithm does. First, let's use `k=3` and `iterations=1`. Compute the results and make a new plot colored by cluster assignment"
   ]
  },
  {
   "cell_type": "code",
   "execution_count": 335,
   "metadata": {},
   "outputs": [
    {
     "name": "stdout",
     "output_type": "stream",
     "text": [
      "K-means initial centroids:\n",
      " [[4.5 1.5]\n",
      " [5.6 1.8]\n",
      " [5.1 1.9]]\n"
     ]
    },
    {
     "data": {
      "text/plain": [
       "<matplotlib.axes._subplots.AxesSubplot at 0x7fa40d226b50>"
      ]
     },
     "execution_count": 335,
     "metadata": {},
     "output_type": "execute_result"
    },
    {
     "data": {
      "image/png": "[encoded data removed]",
      "text/plain": [
       "<Figure size 432x288 with 1 Axes>"
      ]
     },
     "metadata": {
      "needs_background": "light"
     },
     "output_type": "display_data"
    }
   ],
   "source": [
    "## Your code here...\n",
    "\n",
    "result_3_1 = kmeans(features, 3, 1)\n",
    "plot_categories(features[:,0], features[:,1],result_3_1[0])"
   ]
  },
  {
   "cell_type": "markdown",
   "metadata": {},
   "source": [
    "## Problem 3\n",
    "\n",
    "Now, increase `iterations` to 10 and plot the results. How do they compare to the true values from the Iris dataset?"
   ]
  },
  {
   "cell_type": "code",
   "execution_count": 336,
   "metadata": {},
   "outputs": [
    {
     "name": "stdout",
     "output_type": "stream",
     "text": [
      "K-means initial centroids:\n",
      " [[4.5 1.5]\n",
      " [6.4 2. ]\n",
      " [1.6 0.4]]\n"
     ]
    },
    {
     "data": {
      "text/plain": [
       "<matplotlib.axes._subplots.AxesSubplot at 0x7fa40d1b7690>"
      ]
     },
     "execution_count": 336,
     "metadata": {},
     "output_type": "execute_result"
    },
    {
     "data": {
      "image/png": "[encoded data removed]",
      "text/plain": [
       "<Figure size 432x288 with 1 Axes>"
      ]
     },
     "metadata": {
      "needs_background": "light"
     },
     "output_type": "display_data"
    }
   ],
   "source": [
    "result_3_10 =kmeans(features, 3, 10)\n",
    "plot_categories(features[:,0], features[:,1],result_3_10[0])\n"
   ]
  },
  {
   "cell_type": "markdown",
   "metadata": {},
   "source": [
    "## Problem 4\n",
    "\n",
    "Just for fun, let's see what happens if we increase `k` to 6. Plot the results below."
   ]
  },
  {
   "cell_type": "code",
   "execution_count": 337,
   "metadata": {},
   "outputs": [
    {
     "name": "stdout",
     "output_type": "stream",
     "text": [
      "K-means initial centroids:\n",
      " [[6.6 2.1]\n",
      " [1.3 0.3]\n",
      " [1.5 0.1]\n",
      " [3.5 1. ]\n",
      " [5.9 2.3]\n",
      " [1.5 0.3]]\n"
     ]
    },
    {
     "data": {
      "text/plain": [
       "<matplotlib.axes._subplots.AxesSubplot at 0x7fa40d1210d0>"
      ]
     },
     "execution_count": 337,
     "metadata": {},
     "output_type": "execute_result"
    },
    {
     "data": {
      "image/png": "[encoded data removed]",
      "text/plain": [
       "<Figure size 432x288 with 1 Axes>"
      ]
     },
     "metadata": {
      "needs_background": "light"
     },
     "output_type": "display_data"
    }
   ],
   "source": [
    "result_6_10 =kmeans(features, 6, 10)\n",
    "plot_categories(features[:,0], features[:,1],result_6_10[0])"
   ]
  },
  {
   "cell_type": "markdown",
   "metadata": {},
   "source": [
    "## Problem 5\n",
    "\n",
    "Let's replicate Ahlquist & Breunig (2012) Figure 3a. I've gotten you started (below) by loading the data and adding the \"ground truth\" VOC values."
   ]
  },
  {
   "cell_type": "code",
   "execution_count": 338,
   "metadata": {},
   "outputs": [
    {
     "data": {
      "text/html": [
       "<div>\n",
       "<style scoped>\n",
       "    .dataframe tbody tr th:only-of-type {\n",
       "        vertical-align: middle;\n",
       "    }\n",
       "\n",
       "    .dataframe tbody tr th {\n",
       "        vertical-align: top;\n",
       "    }\n",
       "\n",
       "    .dataframe thead th {\n",
       "        text-align: right;\n",
       "    }\n",
       "</style>\n",
       "<table border=\"1\" class=\"dataframe\">\n",
       "  <thead>\n",
       "    <tr style=\"text-align: right;\">\n",
       "      <th></th>\n",
       "      <th>wbcode</th>\n",
       "      <th>country</th>\n",
       "      <th>year</th>\n",
       "      <th>epl</th>\n",
       "      <th>cdp</th>\n",
       "      <th>cop</th>\n",
       "      <th>nurr</th>\n",
       "      <th>gb</th>\n",
       "      <th>dsj</th>\n",
       "      <th>voc</th>\n",
       "    </tr>\n",
       "  </thead>\n",
       "  <tbody>\n",
       "    <tr>\n",
       "      <td>0</td>\n",
       "      <td>AUS</td>\n",
       "      <td>Australia</td>\n",
       "      <td>1995</td>\n",
       "      <td>1.0</td>\n",
       "      <td>2.6</td>\n",
       "      <td>1</td>\n",
       "      <td>32</td>\n",
       "      <td>30</td>\n",
       "      <td>1</td>\n",
       "      <td>LME</td>\n",
       "    </tr>\n",
       "    <tr>\n",
       "      <td>1</td>\n",
       "      <td>AUT</td>\n",
       "      <td>Austria</td>\n",
       "      <td>1995</td>\n",
       "      <td>2.6</td>\n",
       "      <td>3.3</td>\n",
       "      <td>3</td>\n",
       "      <td>43</td>\n",
       "      <td>78</td>\n",
       "      <td>3</td>\n",
       "      <td>CME</td>\n",
       "    </tr>\n",
       "    <tr>\n",
       "      <td>2</td>\n",
       "      <td>BEL</td>\n",
       "      <td>Belgium</td>\n",
       "      <td>1995</td>\n",
       "      <td>1.5</td>\n",
       "      <td>4.1</td>\n",
       "      <td>2</td>\n",
       "      <td>57</td>\n",
       "      <td>99</td>\n",
       "      <td>2</td>\n",
       "      <td>CME</td>\n",
       "    </tr>\n",
       "    <tr>\n",
       "      <td>3</td>\n",
       "      <td>CAN</td>\n",
       "      <td>Canada</td>\n",
       "      <td>1995</td>\n",
       "      <td>0.9</td>\n",
       "      <td>3.4</td>\n",
       "      <td>1</td>\n",
       "      <td>32</td>\n",
       "      <td>49</td>\n",
       "      <td>2</td>\n",
       "      <td>LME</td>\n",
       "    </tr>\n",
       "    <tr>\n",
       "      <td>4</td>\n",
       "      <td>DNK</td>\n",
       "      <td>Denmark</td>\n",
       "      <td>1995</td>\n",
       "      <td>1.6</td>\n",
       "      <td>3.1</td>\n",
       "      <td>2</td>\n",
       "      <td>60</td>\n",
       "      <td>76</td>\n",
       "      <td>3</td>\n",
       "      <td>CME</td>\n",
       "    </tr>\n",
       "  </tbody>\n",
       "</table>\n",
       "</div>"
      ],
      "text/plain": [
       "  wbcode    country  year  epl  cdp  cop  nurr  gb  dsj  voc\n",
       "0    AUS  Australia  1995  1.0  2.6    1    32  30    1  LME\n",
       "1    AUT    Austria  1995  2.6  3.3    3    43  78    3  CME\n",
       "2    BEL    Belgium  1995  1.5  4.1    2    57  99    2  CME\n",
       "3    CAN     Canada  1995  0.9  3.4    1    32  49    2  LME\n",
       "4    DNK    Denmark  1995  1.6  3.1    2    60  76    3  CME"
      ]
     },
     "execution_count": 338,
     "metadata": {},
     "output_type": "execute_result"
    }
   ],
   "source": [
    "from sklearn.decomposition import PCA\n",
    "from sklearn.preprocessing import StandardScaler\n",
    "from sklearn.mixture import GaussianMixture\n",
    "\n",
    "data = pd.read_csv(\"iversen.csv\")\n",
    "countries = [\"AUS\", \"CAN\",\"GBR\",\n",
    "            \"JPN\",\"CHE\",\"USA\",\n",
    "            \"AUT\",\"BEL\",\"DEU\",\n",
    "            \"FRA\",\"ITA\",\"DNK\",\n",
    "            \"FIN\",\"NLD\",\"NOR\",\n",
    "            \"SWE\",\"GRC\", \"IRL\", \n",
    "            \"NZL\",\"PRT\",\"ESP\"]\n",
    "VoC_class = [\"LME\",\"LME\",\"LME\",\n",
    "             \"CME\",\"CME\",\"LME\",\n",
    "             \"CME\",\"CME\",\"CME\",\n",
    "             \"NC\",\"NC\",\"CME\",\n",
    "             \"CME\",\"CME\",\"CME\",\n",
    "             \"CME\",\"NC\",\"LME\",\n",
    "             \"LME\",\"NC\", \"NC\"]\n",
    "VoC_color = {\"CME\":\"red\",\"LME\":\"black\",\"NC\":\"green\"}\n",
    "\n",
    "voc_data = pd.DataFrame(list(zip(countries,VoC_class)), columns=[\"wbcode\",\"voc\"])\n",
    "\n",
    "merged_data = pd.merge(data, voc_data, on=\"wbcode\")\n",
    "merged_data.head()"
   ]
  },
  {
   "cell_type": "markdown",
   "metadata": {},
   "source": [
    "Now, let's use sklearn's `StandardScaler` to scale our variables to have 0 mean and 1 variance. You can find the documentation for this at https://scikit-learn.org/stable/modules/generated/sklearn.preprocessing.StandardScaler.html."
   ]
  },
  {
   "cell_type": "code",
   "execution_count": 339,
   "metadata": {},
   "outputs": [],
   "source": [
    "scaler_employment = StandardScaler()\n",
    "scaled_employment_data = scaler_employment.fit_transform(merged_data[[\"epl\",\"cdp\",\"cop\"]])\n",
    "\n",
    "scaler_unemployment = StandardScaler()\n",
    "scaled_unemployment_data = scaler_unemployment.fit_transform(merged_data[[\"nurr\",\"gb\",\"dsj\"]])"
   ]
  },
  {
   "cell_type": "markdown",
   "metadata": {},
   "source": [
    "Next, we'll use sklearn's `PCA` to compute principal components that represent employment and unemployment variables. This process is described in section 4.1.1 of the paper. We stack these into an `X` matrix of size (n x 2)."
   ]
  },
  {
   "cell_type": "code",
   "execution_count": 341,
   "metadata": {},
   "outputs": [
    {
     "name": "stdout",
     "output_type": "stream",
     "text": [
      "[[-1.62910326 -1.40259831]\n",
      " [ 1.71981728  1.54875992]\n",
      " [-0.01631836  1.93191778]\n",
      " [-1.58321785 -0.26394724]\n",
      " [-0.09409683  2.16557462]\n",
      " [ 0.10332699 -0.46100142]\n",
      " [ 0.31824561  0.24068914]\n",
      " [ 1.85129786  1.25663541]\n",
      " [-1.21871499 -0.46174765]\n",
      " [ 1.04561028 -2.07557617]\n",
      " [ 1.51446658 -1.14952898]\n",
      " [ 1.08336586  2.03859283]\n",
      " [-1.40811916 -1.10093356]\n",
      " [ 0.51155813  0.50625743]\n",
      " [ 2.07454927  0.40691011]\n",
      " [-0.29327188  1.14469712]\n",
      " [-1.74463731 -2.12007859]\n",
      " [-2.23475822 -2.20462244]]\n"
     ]
    }
   ],
   "source": [
    "employment_pca = PCA(n_components=1)\n",
    "employment_pca_values = employment_pca.fit_transform(scaled_employment_data)\n",
    "\n",
    "unemployment_pca = PCA(n_components=1)\n",
    "unemployment_pca_values = unemployment_pca.fit_transform(scaled_unemployment_data)\n",
    "\n",
    "X = -np.hstack([employment_pca_values, unemployment_pca_values])\n",
    "print(X)"
   ]
  },
  {
   "cell_type": "markdown",
   "metadata": {},
   "source": [
    "Now, use both your k-means implementation and sklearn's `GaussianMixture` to reproduce Figure 3(a) of the paper. You do not need to draw the ellipses around the clusters, just color the points by cluster like we did above. For the Gaussian Mixture model, use `covariance_type='tied'`. Also, you should use `k=5` for your k-means and `n_components=5` for the Gaussian Mixture."
   ]
  },
  {
   "cell_type": "code",
   "execution_count": 342,
   "metadata": {},
   "outputs": [],
   "source": [
    "clf = GaussianMixture(n_components=5, covariance_type='tied')\n",
    "gmm = clf.fit(X)"
   ]
  },
  {
   "cell_type": "markdown",
   "metadata": {},
   "source": [
    "## Problem 6\n",
    "\n",
    "Now that you've estimated a Gaussian Mixture model, you will need to make predictions for each datapoint. That is, predict the cluster that every datapoint belongs to. You can use the `.predict(...)` method of your Gaussian Mixture object to do so. See the documentation if it is unclear."
   ]
  },
  {
   "cell_type": "code",
   "execution_count": 350,
   "metadata": {},
   "outputs": [
    {
     "name": "stdout",
     "output_type": "stream",
     "text": [
      "K-means initial centroids:\n",
      " [[ 1.04561028 -2.07557617]\n",
      " [-2.23475822 -2.20462244]\n",
      " [-0.29327188  1.14469712]\n",
      " [-1.74463731 -2.12007859]\n",
      " [ 1.08336586  2.03859283]]\n",
      "MBC clusters: [2 3 1 2 1 4 4 3 2 0 0 3 2 4 3 1 2 2]\n",
      "K-means clusters: [3 4 2 3 2 2 2 4 3 0 0 4 3 2 4 2 1 1]\n"
     ]
    }
   ],
   "source": [
    "clusters = em.predict(X)\n",
    "kmeans_clusters = kmeans(X, 5, 100)\n",
    "print(\"MBC clusters:\", clusters)\n",
    "print(\"K-means clusters:\", kmeans_clusters[0])    "
   ]
  },
  {
   "cell_type": "markdown",
   "metadata": {},
   "source": [
    "## Problem 7\n",
    "\n",
    "Plot your results for k-means and for the gaussian mixture model. You can use the same function we used for the iris data."
   ]
  },
  {
   "cell_type": "code",
   "execution_count": 351,
   "metadata": {},
   "outputs": [
    {
     "data": {
      "text/plain": [
       "<matplotlib.axes._subplots.AxesSubplot at 0x7fa40cf53e90>"
      ]
     },
     "execution_count": 351,
     "metadata": {},
     "output_type": "execute_result"
    },
    {
     "data": {
      "image/png": "[encoded data removed]",
      "text/plain": [
       "<Figure size 432x288 with 1 Axes>"
      ]
     },
     "metadata": {
      "needs_background": "light"
     },
     "output_type": "display_data"
    },
    {
     "data": {
      "image/png": "[encoded data removed]",
      "text/plain": [
       "<Figure size 432x288 with 1 Axes>"
      ]
     },
     "metadata": {
      "needs_background": "light"
     },
     "output_type": "display_data"
    }
   ],
   "source": [
    "plot_categories_with_labels(X[:,0], X[:,1],clusters,merged_data[\"wbcode\"])\n",
    "plot_categories_with_labels(X[:,0], X[:,1],kmeans_clusters[0],merged_data[\"wbcode\"])"
   ]
  },
  {
   "cell_type": "markdown",
   "metadata": {},
   "source": [
    "## Problem 8\n",
    "\n",
    "Select a dataset of your choice (any...) and use clustering (either k-means or any of the clustering options available from [scikit-learn](https://scikit-learn.org/stable/modules/clustering.html)) to explore that dataset. Prepare to discuss your data, your clustering choices, and the results for approximately 5-10 minutes on March 24."
   ]
  },
  {
   "cell_type": "code",
   "execution_count": null,
   "metadata": {},
   "outputs": [],
   "source": [
    "\n"
   ]
  }
 ],
 "metadata": {
  "kernelspec": {
   "display_name": "Python 3",
   "language": "python",
   "name": "python3"
  },
  "language_info": {
   "codemirror_mode": {
    "name": "ipython",
    "version": 3
   },
   "file_extension": ".py",
   "mimetype": "text/x-python",
   "name": "python",
   "nbconvert_exporter": "python",
   "pygments_lexer": "ipython3",
   "version": "3.7.4"
  }
 },
 "nbformat": 4,
 "nbformat_minor": 4
}
