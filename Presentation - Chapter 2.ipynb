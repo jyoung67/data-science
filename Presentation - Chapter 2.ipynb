{
 "cells": [
  {
   "cell_type": "markdown",
   "metadata": {},
   "source": [
    "# Chapter 2 Tutorial \n",
    "1. Tab Completion & Introspection \n",
    "1. %load and %run Magic Commands\n",
    "1. Matplotlib Integration \n",
    "1. Mutable and Immutable Objects\n",
    "1. Dates/Times\n",
    "1. Control Flow"
   ]
  },
  {
   "cell_type": "markdown",
   "metadata": {},
   "source": [
    "# Tab Completion & Introspection\n",
    "__Tab completion__ helps facilitate code generation (less typing). <br> __Introspection__ enables the user to retrieve general information for a target object.  <br> Perform the following four steps in order to practice using tab completion and introspection.<br> \n",
    "1. __Tab Completion__:  Type __'a.'__ at line 2 within the following cell and then press the tab button (a dropdown list should appear).\n",
    "1. Select __'split'__ from the drop down list.\n",
    "1. __Introspection__:  Type __'?'__ after __'split'__ (no space) and then run the code (information about the split method should appear).\n",
    "1. Replace __'?'__ with __(\",\")__ and then run the code again. <br>\n",
    "__Line 2:  a.split(\",\")__ <br> \n",
    "__Expected Output:  ['a', 'b', 'c']__\n"
   ]
  },
  {
   "cell_type": "code",
   "execution_count": 133,
   "metadata": {},
   "outputs": [],
   "source": [
    "a = \"a,b,c\""
   ]
  },
  {
   "cell_type": "markdown",
   "metadata": {},
   "source": [
    "# %load and %run Magic Commands\n",
    "- The %load command imports a script into the code cell\n",
    "    - Add __%load ~/fibo.py__ within the following cell and then run it.\n",
    "- The %run command enables the running of external code. \n",
    "    - Clear the following cell, add the following lines and then run it.\n",
    "        - __%run ~/fibo.py__\n",
    "        - __print(fibo(123))__ (expected output is [0, 1, 1, 2, 3, 5, 8, 13, 21, 34, 55, 89])"
   ]
  },
  {
   "cell_type": "code",
   "execution_count": null,
   "metadata": {},
   "outputs": [],
   "source": []
  },
  {
   "cell_type": "markdown",
   "metadata": {},
   "source": [
    "# Matplotlib Integration\n",
    "1. Matplotlib is a Python plotting library for data visualization.  <br>\n",
    "Input these five lines into the following cell and then run the code.<br>\n",
    "__%matplotlib inline <br>\n",
    "import matplotlib.pyplot as plt <br>\n",
    "plt.plot([1, 2, 3, 4], [1, 4, 9, 16], 'ro') <br>\n",
    "plt.axis([0, 6, 0, 20]) <br>\n",
    "plt.show()__\n",
    "2. Replace the cell contents with these lines and then run it.  <br>\n",
    "__%matplotlib inline <br>\n",
    "import matplotlib.pyplot as plt <br>\n",
    "plt.plot([1, 2, 3, 4], [1, 8, 27, 64]) <br>\n",
    "plt.axis([0, 6, 0, 70]) <br>\n",
    "plt.show()__"
   ]
  },
  {
   "cell_type": "code",
   "execution_count": null,
   "metadata": {},
   "outputs": [],
   "source": []
  },
  {
   "cell_type": "markdown",
   "metadata": {},
   "source": [
    "# Mutable and Immutable Objects\n",
    "The state of mutable objects can be changed.  However, the state of immutable objects cannot be changed."
   ]
  },
  {
   "cell_type": "code",
   "execution_count": 61,
   "metadata": {},
   "outputs": [
    {
     "name": "stdout",
     "output_type": "stream",
     "text": [
      "initial list = [1, 2, 3, 4]\n",
      "modified list = [0, 2, 3, 4]\n",
      "tuple = (1, 2, 3)\n"
     ]
    },
    {
     "ename": "TypeError",
     "evalue": "'tuple' object does not support item assignment",
     "output_type": "error",
     "traceback": [
      "\u001b[0;31m---------------------------------------------------------------------------\u001b[0m",
      "\u001b[0;31mTypeError\u001b[0m                                 Traceback (most recent call last)",
      "\u001b[0;32m<ipython-input-61-3cbc4fec949f>\u001b[0m in \u001b[0;36m<module>\u001b[0;34m\u001b[0m\n\u001b[1;32m      8\u001b[0m \u001b[0mtup\u001b[0m \u001b[0;34m=\u001b[0m \u001b[0;36m1\u001b[0m\u001b[0;34m,\u001b[0m\u001b[0;36m2\u001b[0m\u001b[0;34m,\u001b[0m\u001b[0;36m3\u001b[0m\u001b[0;34m\u001b[0m\u001b[0;34m\u001b[0m\u001b[0m\n\u001b[1;32m      9\u001b[0m \u001b[0mprint\u001b[0m\u001b[0;34m(\u001b[0m\u001b[0;34m\"tuple =\"\u001b[0m\u001b[0;34m,\u001b[0m\u001b[0mtup\u001b[0m\u001b[0;34m)\u001b[0m\u001b[0;34m\u001b[0m\u001b[0;34m\u001b[0m\u001b[0m\n\u001b[0;32m---> 10\u001b[0;31m \u001b[0mtup\u001b[0m\u001b[0;34m[\u001b[0m\u001b[0;36m1\u001b[0m\u001b[0;34m]\u001b[0m \u001b[0;34m=\u001b[0m \u001b[0;36m3\u001b[0m\u001b[0;34m\u001b[0m\u001b[0;34m\u001b[0m\u001b[0m\n\u001b[0m\u001b[1;32m     11\u001b[0m \u001b[0;34m\u001b[0m\u001b[0m\n",
      "\u001b[0;31mTypeError\u001b[0m: 'tuple' object does not support item assignment"
     ]
    }
   ],
   "source": [
    "# Mutable Object (list) \n",
    "ls = [1,2,3,4]\n",
    "print(\"initial list =\", ls)\n",
    "ls[0] = 0\n",
    "print(\"modified list =\", ls)\n",
    "\n",
    "# Immutable Object (Tuple)\n",
    "tup = 1,2,3\n",
    "print(\"tuple =\",tup)\n",
    "tup[1] = 3\n"
   ]
  },
  {
   "cell_type": "markdown",
   "metadata": {},
   "source": [
    "# Dates and Times\n",
    "Dates and times can be readily manipulated using the datetime object. <br>\n",
    "__How could you calculate and display the difference between two datetime objects?__"
   ]
  },
  {
   "cell_type": "code",
   "execution_count": 135,
   "metadata": {},
   "outputs": [
    {
     "name": "stdout",
     "output_type": "stream",
     "text": [
      "unformatted datetime: 2020-01-27 21:39:57.866474\n",
      "formatted datetime (month/day/year hr:min:sec): 01/27/2020 21:39:57\n",
      "added five days: 2020-02-01 21:39:57.866474\n"
     ]
    }
   ],
   "source": [
    "# import statement\n",
    "from datetime import datetime, date, time\n",
    "# Get current date and time\n",
    "dt = datetime.now()\n",
    "print(\"unformatted datetime:\", dt)\n",
    "print(\"formatted datetime (month/day/year hr:min:sec):\", dt.strftime('%m/%d/%Y %H:%M:%S'))\n",
    "print(\"added five days:\", dt + timedelta(days=5))\n"
   ]
  },
  {
   "cell_type": "markdown",
   "metadata": {},
   "source": [
    "# Control Flow\n",
    "- if, elif, and else\n",
    "- for loops\n",
    "- while loops"
   ]
  },
  {
   "cell_type": "code",
   "execution_count": 136,
   "metadata": {},
   "outputs": [
    {
     "name": "stdout",
     "output_type": "stream",
     "text": [
      "Thymine\n",
      "Adenine\n",
      "Guanine\n",
      "Cytosine\n",
      "Error:  Input letter was not A, T, G or C!\n"
     ]
    }
   ],
   "source": [
    "#  if, elif, and else\n",
    "\n",
    "def convertDNA(ltr):\n",
    "    if ltr == \"A\":\n",
    "        print(\"Adenine\")\n",
    "    elif ltr == \"T\":\n",
    "        print(\"Thymine\")\n",
    "    elif ltr == \"G\":\n",
    "        print(\"Guanine\")\n",
    "    elif ltr == \"C\":\n",
    "        print(\"Cytosine\")\n",
    "    else:\n",
    "        print(\"Error:  Input letter was not A, T, G or C!\")\n",
    "\n",
    "convertDNA(\"T\")\n",
    "convertDNA(\"A\")\n",
    "convertDNA(\"G\")\n",
    "convertDNA(\"C\")\n",
    "convertDNA(\"Z\")   "
   ]
  },
  {
   "cell_type": "code",
   "execution_count": 137,
   "metadata": {},
   "outputs": [
    {
     "name": "stdout",
     "output_type": "stream",
     "text": [
      "1A\n",
      "1B\n",
      "1C\n",
      "1D\n",
      "2A\n",
      "2B\n",
      "2C\n",
      "2D\n",
      "3A\n",
      "3B\n",
      "3C\n",
      "3D\n"
     ]
    }
   ],
   "source": [
    "# for loops\n",
    "\n",
    "ltrs = [\"A\", \"B\", \"C\", \"D\"]\n",
    "for num in range(1,len(ltrs)):\n",
    "    for ltr in ltrs:\n",
    "        print(str(num) + ltr)        "
   ]
  },
  {
   "cell_type": "code",
   "execution_count": 130,
   "metadata": {},
   "outputs": [
    {
     "name": "stdout",
     "output_type": "stream",
     "text": [
      "Value= 0\n",
      "Value= 3\n",
      "Value= 0\n",
      "Value= 0\n",
      "Value= 4\n",
      "Value= 0\n",
      "Value= 1\n",
      "Value= 2\n",
      "Value= 0\n",
      "Value= 1\n",
      "Value= 2\n"
     ]
    }
   ],
   "source": [
    "# while loop\n",
    "\n",
    "import random\n",
    "a = 0\n",
    "while a != 5:\n",
    "    print(\"Value=\", str(a))\n",
    "    a = random.randint(0, 5)"
   ]
  }
 ],
 "metadata": {
  "kernelspec": {
   "display_name": "Python 3",
   "language": "python",
   "name": "python3"
  },
  "language_info": {
   "codemirror_mode": {
    "name": "ipython",
    "version": 3
   },
   "file_extension": ".py",
   "mimetype": "text/x-python",
   "name": "python",
   "nbconvert_exporter": "python",
   "pygments_lexer": "ipython3",
   "version": "3.7.4"
  }
 },
 "nbformat": 4,
 "nbformat_minor": 2
}
