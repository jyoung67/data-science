{
 "cells": [
  {
   "cell_type": "markdown",
   "metadata": {},
   "source": [
    "# Interactive Plotting\n",
    "\n",
    "To get started, please install `ipywidgets`. You can do so using:\n",
    "\n",
    "```\n",
    "conda install ipywidgets\n",
    "```\n"
   ]
  },
  {
   "cell_type": "markdown",
   "metadata": {},
   "source": [
    "## Getting Started\n",
    "\n",
    "Let's import the usual suspects: `pandas`, `matplotlib`, `numpy`, and `ipywidgets`.\n",
    "\n",
    "Gensim is a very powerful module for performing all sorts of natural language processing. It has become the default for word embedding (word vector) models like word2vec and doc2vec. Because `gensim` is very large, we won't import the whole thing. We'll only import the parts that we're going to need.\n",
    "\n",
    "For many problems, you may want to refer to the Gensim documentation. This page will be particularly helpful: https://radimrehurek.com/gensim/models/ldamodel.html"
   ]
  },
  {
   "cell_type": "code",
   "execution_count": 1,
   "metadata": {},
   "outputs": [],
   "source": [
    "import ipywidgets as widgets\n",
    "from ipywidgets import interact, interact_manual\n",
    "\n",
    "import pandas as pd\n",
    "import numpy as np\n",
    "import matplotlib.pyplot as plt\n"
   ]
  },
  {
   "cell_type": "markdown",
   "metadata": {},
   "source": [
    "## Example 1\n",
    "\n",
    "Let's first interact with a dataframe. We'll use the Twitter dataset for this. "
   ]
  },
  {
   "cell_type": "code",
   "execution_count": 2,
   "metadata": {},
   "outputs": [
    {
     "name": "stdout",
     "output_type": "stream",
     "text": [
      "   Topic Sentiment             TweetId                       TweetDate  \\\n",
      "0  apple  positive  126415614616154112  Tue Oct 18 21:53:25 +0000 2011   \n",
      "1  apple  positive  126404574230740992  Tue Oct 18 21:09:33 +0000 2011   \n",
      "2  apple  positive  126402758403305474  Tue Oct 18 21:02:20 +0000 2011   \n",
      "3  apple  positive  126397179614068736  Tue Oct 18 20:40:10 +0000 2011   \n",
      "4  apple  positive  126395626979196928  Tue Oct 18 20:34:00 +0000 2011   \n",
      "\n",
      "                                           TweetText  \n",
      "0  Now all @Apple has to do is get swype on the i...  \n",
      "1  @Apple will be adding more carrier support to ...  \n",
      "2  Hilarious @youtube video - guy does a duet wit...  \n",
      "3  @RIM you made it too easy for me to switch to ...  \n",
      "4  I just realized that the reason I got into twi...  \n",
      "<class 'pandas.core.frame.DataFrame'>\n",
      "RangeIndex: 5113 entries, 0 to 5112\n",
      "Data columns (total 5 columns):\n",
      "Topic        5113 non-null object\n",
      "Sentiment    5113 non-null object\n",
      "TweetId      5113 non-null int64\n",
      "TweetDate    5113 non-null object\n",
      "TweetText    5113 non-null object\n",
      "dtypes: int64(1), object(4)\n",
      "memory usage: 199.9+ KB\n",
      "None\n"
     ]
    }
   ],
   "source": [
    "docs = pd.read_csv(\"twitter.csv\")\n",
    "print(docs.head())\n",
    "print(docs.info())"
   ]
  },
  {
   "cell_type": "markdown",
   "metadata": {},
   "source": [
    "Let's make a function that randomly samples a tweet given the Topic and Sentiment."
   ]
  },
  {
   "cell_type": "code",
   "execution_count": 3,
   "metadata": {},
   "outputs": [
    {
     "name": "stdout",
     "output_type": "stream",
     "text": [
      "@apple iOS 5 upgrade done ...... Much better feature..... Few more feature required\n"
     ]
    }
   ],
   "source": [
    "def get_tweet(df, topic, sentiment):\n",
    "    ## Sample a row based on our conditions\n",
    "    row = df.loc[(df[\"Sentiment\"]==sentiment) & (df[\"Topic\"]==topic),\"TweetText\"].sample(n=1)\n",
    "    ## Get the tweet text out of the row we've returned\n",
    "    tweet = row.iloc[0]\n",
    "    ## Print the tweet\n",
    "    print(tweet)\n",
    "    \n",
    "get_tweet(docs, \"apple\",\"positive\")"
   ]
  },
  {
   "cell_type": "markdown",
   "metadata": {},
   "source": [
    "Now, let's make this function interactive! First, we need to know the possible options for sentiment and topic. We can get these from the dataframe itself."
   ]
  },
  {
   "cell_type": "code",
   "execution_count": 4,
   "metadata": {},
   "outputs": [
    {
     "name": "stdout",
     "output_type": "stream",
     "text": [
      "['apple' 'google' 'microsoft' 'twitter']\n"
     ]
    }
   ],
   "source": [
    "sentiment_options = docs[\"Sentiment\"].unique()\n",
    "topic_options = docs[\"Topic\"].unique()\n",
    "print(topic_options)"
   ]
  },
  {
   "cell_type": "markdown",
   "metadata": {},
   "source": [
    "Now, let's make a new function that is interactive and calls our `get_tweet()` function. The user should choose from a list for sentiment and also choose from a list for topic. The `@interact` command will help make this very easy. `@interact` is what we call \"syntactic sugar\" because it makes our code look sweet. It turns any function into an interactive function! A helpful guide can be found here: https://towardsdatascience.com/interactive-controls-for-jupyter-notebooks-f5c94829aee6\n",
    "\n",
    "Check out the example below. When you run this block of code, it should give you a set of interactive widgets below."
   ]
  },
  {
   "cell_type": "code",
   "execution_count": 5,
   "metadata": {
    "scrolled": true
   },
   "outputs": [
    {
     "data": {
      "application/vnd.jupyter.widget-view+json": {
       "model_id": "fbec849848864b40a10fee17326faa4a",
       "version_major": 2,
       "version_minor": 0
      },
      "text/plain": [
       "interactive(children=(Dropdown(description='chosen_sentiment', options=('positive', 'negative', 'neutral', 'ir…"
      ]
     },
     "metadata": {},
     "output_type": "display_data"
    }
   ],
   "source": [
    "@interact\n",
    "def sample_tweets(chosen_sentiment = sentiment_options,\n",
    "                  chosen_topic = topic_options):\n",
    "    get_tweet(docs, chosen_topic, chosen_sentiment)\n",
    "    "
   ]
  },
  {
   "cell_type": "markdown",
   "metadata": {},
   "source": [
    "Let's break down what is happening. The `@interact` is telling Python (ipywidgets) to interpret the function below as interactive. `@interact` magically knows that if an argument is given a list in your function definition, it should treat that list as set of options for the user (for example: `chosen_sentiment = sentiment_options` where `sentiment_options` is a list). Every time the user interacts with the function by changing an option, the function is run again with the new values that the user has selected.\n",
    "\n",
    "Once the user selects values for `chosen_sentiment` and `chosen_topic`, our function simply calls the `get_tweet()` function that we defined above. It passes the `docs` dataframe with our tweets in it and the chosen values for sentiment and topic. Then, `get_tweet()` handles the rest. "
   ]
  },
  {
   "cell_type": "markdown",
   "metadata": {},
   "source": [
    "## Example 2\n",
    "\n",
    "Sweet. Let's try it with plotting now. We can adjust all of the parameters of our plots this way. Let's try this with `iris.csv` since it makes life so easy."
   ]
  },
  {
   "cell_type": "code",
   "execution_count": 6,
   "metadata": {},
   "outputs": [],
   "source": [
    "iris = pd.read_csv(\"iris.csv\")"
   ]
  },
  {
   "cell_type": "code",
   "execution_count": 7,
   "metadata": {},
   "outputs": [
    {
     "data": {
      "image/png": "[encoded data removed]",
      "text/plain": [
       "<Figure size 432x288 with 1 Axes>"
      ]
     },
     "metadata": {
      "needs_background": "light"
     },
     "output_type": "display_data"
    }
   ],
   "source": [
    "def plot_iris(df, x, y, versicolor_color, virginica_color, setosa_color, xlim=None, ylim=None):\n",
    "    ## Start a new figure\n",
    "    fig, ax = plt.subplots()\n",
    "    ## Define a dictionary that maps species to the chosen color\n",
    "    colors = {'versicolor':versicolor_color, 'virginica':virginica_color, 'setosa':setosa_color}\n",
    "    ## Plot the scatterplot of x variable, y variable, and species by color\n",
    "    ax.scatter(df[x], df[y], c=df['Species'].apply(lambda x: colors[x]))\n",
    "    ## Set the X and Y axis limits\n",
    "    if xlim is not None:\n",
    "        plt.xlim(xlim[0],xlim[1])\n",
    "    if ylim is not None:\n",
    "        plt.ylim(ylim[0],ylim[1])\n",
    "    ## Show the plot\n",
    "    plt.show()\n",
    "    \n",
    "plot_iris(iris,\"SepalLength\",\"SepalWidth\",\"red\",\"green\",\"blue\",(0,10),(0,10))"
   ]
  },
  {
   "cell_type": "markdown",
   "metadata": {},
   "source": [
    "The function above, `plot_iris`, allows the user to specify which variables from the iris dataset will be plotted, the colors for each species, and the x and y limits for the axes. X and Y limits should be specified as tuples (xmin,xmax). Colors must be value colors in Python. Python includes several named colors.\n",
    "\n",
    "The below code should launch an interactive version of the function above."
   ]
  },
  {
   "cell_type": "code",
   "execution_count": 8,
   "metadata": {},
   "outputs": [
    {
     "data": {
      "application/vnd.jupyter.widget-view+json": {
       "model_id": "e6ca511d03c44aebacd0caac9ab2ac64",
       "version_major": 2,
       "version_minor": 0
      },
      "text/plain": [
       "interactive(children=(Dropdown(description='x', options=('SepalLength', 'SepalWidth', 'PetalLength', 'PetalWid…"
      ]
     },
     "metadata": {},
     "output_type": "display_data"
    }
   ],
   "source": [
    "xlim_slider = widgets.FloatRangeSlider(min=0,max=10,step=0.5)\n",
    "ylim_slider = widgets.FloatRangeSlider(min=0,max=10,step=0.5)\n",
    "\n",
    "@interact\n",
    "def interactive_iris(x=[\"SepalLength\",\"SepalWidth\",\"PetalLength\",\"PetalWidth\"],\n",
    "                     y=[\"SepalLength\",\"SepalWidth\",\"PetalLength\",\"PetalWidth\"],\n",
    "                     versicolor_color=[\"red\",\"green\",\"blue\",\"yellow\",\"orange\",\"purple\",\"black\"],\n",
    "                     virginica_color=[\"red\",\"green\",\"blue\",\"yellow\",\"orange\",\"purple\",\"black\"],\n",
    "                     setosa_color=[\"red\",\"green\",\"blue\",\"yellow\",\"orange\",\"purple\",\"black\"],\n",
    "                     xlim=xlim_slider,\n",
    "                     ylim=ylim_slider):\n",
    "    plot_iris(iris,x,y,versicolor_color,virginica_color,setosa_color,xlim,ylim)\n"
   ]
  },
  {
   "cell_type": "markdown",
   "metadata": {},
   "source": [
    "## Example 3\n",
    "\n",
    "It turns out, we can write interactive functions to control all sorts of things in Python, not just plots! So, let's write a function that uses Random Forests to classify irises. The user can select some model parameters and then see how the performance is affected.\n",
    "\n",
    "First, let's print the true classifications for reference."
   ]
  },
  {
   "cell_type": "code",
   "execution_count": 9,
   "metadata": {},
   "outputs": [
    {
     "data": {
      "image/png": "[encoded data removed]",
      "text/plain": [
       "<Figure size 432x288 with 1 Axes>"
      ]
     },
     "metadata": {
      "needs_background": "light"
     },
     "output_type": "display_data"
    }
   ],
   "source": [
    "iris_test = pd.read_csv(\"iris_test.csv\")\n",
    "\n",
    "plot_iris(iris_test,\"PetalWidth\",\"PetalLength\",\"red\",\"blue\",\"orange\",(0,3),(0,8))"
   ]
  },
  {
   "cell_type": "code",
   "execution_count": 10,
   "metadata": {},
   "outputs": [
    {
     "data": {
      "application/vnd.jupyter.widget-view+json": {
       "model_id": "cb4dbd7973664ddb9cdf10873cea04b9",
       "version_major": 2,
       "version_minor": 0
      },
      "text/plain": [
       "interactive(children=(SelectMultiple(description='Features', index=(0, 1), options=('PetalLength', 'PetalWidth…"
      ]
     },
     "metadata": {},
     "output_type": "display_data"
    }
   ],
   "source": [
    "from sklearn.ensemble import RandomForestClassifier\n",
    "from sklearn.model_selection import train_test_split\n",
    "\n",
    "features_selection = widgets.SelectMultiple(\n",
    "    options=['PetalLength',\"PetalWidth\",\"SepalLength\",\"SepalWidth\"],\n",
    "    value=['PetalLength',\"PetalWidth\"],\n",
    "    description='Features',\n",
    "    disabled=False\n",
    ")\n",
    "\n",
    "@interact\n",
    "def estimate_random_forest(features=features_selection,\n",
    "                           n_estimators=(1,10,1), \n",
    "                           max_depth=(1,10,1),  \n",
    "                           max_samples=(1,50,5), \n",
    "                           max_leaf_nodes=(2,10,1),\n",
    "                           xaxis=['PetalLength',\"PetalWidth\",\"SepalLength\",\"SepalWidth\"],\n",
    "                           yaxis=['PetalWidth',\"PetalLength\",\"SepalLength\",\"SepalWidth\"],\n",
    "                           show_true=False):\n",
    "    ## Initialize a model with our chosen hyperparameters\n",
    "    rf_model = RandomForestClassifier(n_estimators=n_estimators, \n",
    "                                      max_depth=max_depth, \n",
    "                                      max_samples=max_samples,\n",
    "                                      max_leaf_nodes=max_leaf_nodes,\n",
    "                                      random_state=1234, class_weight=\"balanced\")\n",
    "    ## Fit the model to the training data\n",
    "    rf_model.fit(iris[list(features)], iris[\"Species\"])\n",
    "    ## Make predictions for the test data\n",
    "    predictions = rf_model.predict(iris_test[list(features)])\n",
    "    ## Make a new test set copy\n",
    "    iris_predicted = iris_test.copy()\n",
    "    ## Should we replace the true values with our predictions?\n",
    "    if show_true is False:\n",
    "        iris_predicted[\"Species\"] = predictions\n",
    "    ## Plot the results\n",
    "    plot_iris(iris_predicted,xaxis,yaxis,\"red\",\"blue\",\"orange\",None,None)\n",
    "    \n"
   ]
  },
  {
   "cell_type": "markdown",
   "metadata": {},
   "source": [
    "Every time you adjust a slider, an entire new random forest model is being estimated. Because of some tricky programming from our `plot_iris` function, the x and y axis limits should adjust automatically based on the features you pick. You can select one or more features on which to run the random forest."
   ]
  },
  {
   "cell_type": "markdown",
   "metadata": {},
   "source": [
    "## Problem 1\n",
    "\n",
    "Alright. Your turn! Make a cool interactive plot or function. Exactly what this should look like is up to you. If you need some ideas, check out the following resources:\n",
    "\n",
    "* Basic tutorial for @interact: https://towardsdatascience.com/interactive-controls-for-jupyter-notebooks-f5c94829aee6\n",
    "* All available widget controls: https://ipywidgets.readthedocs.io/en/stable/examples/Widget%20List.html#Selection-widgets\n",
    "* Simple intro to ipywidgets: https://ipywidgets.readthedocs.io/en/stable/examples/Widget%20Basics.html\n",
    "* Examples of non-interactive plots (matplotlib) for inspiration: https://matplotlib.org/3.1.1/gallery/index.html"
   ]
  },
  {
   "cell_type": "code",
   "execution_count": 11,
   "metadata": {},
   "outputs": [
    {
     "name": "stdout",
     "output_type": "stream",
     "text": [
      "<class 'pandas.core.frame.DataFrame'>\n",
      "Index: 4631 entries, NC101_00003 to NC101_04685\n",
      "Data columns (total 11 columns):\n",
      "D2_01     4631 non-null int64\n",
      "D2_02     4631 non-null int64\n",
      "D2_03     4631 non-null int64\n",
      "W12_01    4631 non-null int64\n",
      "W12_02    4631 non-null int64\n",
      "W12_03    4631 non-null int64\n",
      "w20_01    4631 non-null int64\n",
      "w20_02    4631 non-null int64\n",
      "w20_03    4631 non-null int64\n",
      "w20_04    4631 non-null int64\n",
      "w20_05    4631 non-null int64\n",
      "dtypes: int64(11)\n",
      "memory usage: 434.2+ KB\n",
      "None\n",
      "             D2_01  D2_02  D2_03  W12_01  W12_02  W12_03  w20_01  w20_02  \\\n",
      "nc101_code                                                                 \n",
      "NC101_00003    329     29     40      97     423     141     469     342   \n",
      "NC101_00004     30      2      6       7      83      34      76      45   \n",
      "NC101_00005    145     53     23     122     271     128     102      57   \n",
      "NC101_00006    510     80     54     156     717     193     489     228   \n",
      "NC101_00007      5      3      0      13      25       1       9       2   \n",
      "\n",
      "             w20_03  w20_04  w20_05  \n",
      "nc101_code                           \n",
      "NC101_00003     884     713      52  \n",
      "NC101_00004     131     127      65  \n",
      "NC101_00005     134     112      13  \n",
      "NC101_00006     536     487      57  \n",
      "NC101_00007      30       9      11  \n",
      "Number of genes are  4631\n"
     ]
    }
   ],
   "source": [
    "# Retrieve RNA-Seq data\n",
    "RNA_Seq_Counts = pd.read_csv(\"nc101_scaff_dataCounts.txt.html\", sep=\"\\t\", index_col=0)\n",
    "\n",
    "# Print dataframe info\n",
    "print(RNA_Seq_Counts.info())\n",
    "\n",
    "# Display first five rows of dataframe\n",
    "print(RNA_Seq_Counts.head())\n",
    "\n",
    "# Store row name indexes within an array\n",
    "geneNameIndexes = np.array(RNA_Seq_Counts.index)\n",
    "print(\"Number of genes are \", geneNameIndexes.shape[0])"
   ]
  },
  {
   "cell_type": "markdown",
   "metadata": {},
   "source": [
    "## Interactive Boxplot for RNA-Seq Data\n",
    "Comparing samples from day 12, week 12 & week 20 for 4631 different genes"
   ]
  },
  {
   "cell_type": "code",
   "execution_count": 15,
   "metadata": {},
   "outputs": [
    {
     "data": {
      "application/vnd.jupyter.widget-view+json": {
       "model_id": "9f9cee190ffc46f1b2307d8ca5b29f2b",
       "version_major": 2,
       "version_minor": 0
      },
      "text/plain": [
       "interactive(children=(Dropdown(description='gene', options=('NC101_00003', 'NC101_00004', 'NC101_00005', 'NC10…"
      ]
     },
     "metadata": {},
     "output_type": "display_data"
    }
   ],
   "source": [
    "@interact\n",
    "def display_boxplots_for_gene_samples(gene=geneNameIndexes):\n",
    "    dataRow = np.array(RNA_Seq_Counts.loc[gene])\n",
    "    data_to_plot = [dataRow[1:3], dataRow[4:6], dataRow[7:11]]\n",
    "    fig = plt.figure(1, figsize=(9, 6))\n",
    "\n",
    "    # Create an axes instance\n",
    "    ax = fig.add_subplot(111)\n",
    "    ax.set_xticklabels(['Day 2', 'Week 12', 'Week 20'])\n",
    "    ax.set_title('Raw Gene Expression Counts for ' + gene)\n",
    "    ax.set_xlabel('Sample Period')\n",
    "    ax.set_ylabel('RNA-Seq Count')\n",
    "\n",
    "    # Create the boxplot\n",
    "    bp = ax.boxplot(data_to_plot)"
   ]
  }
 ],
 "metadata": {
  "kernelspec": {
   "display_name": "Python 3",
   "language": "python",
   "name": "python3"
  },
  "language_info": {
   "codemirror_mode": {
    "name": "ipython",
    "version": 3
   },
   "file_extension": ".py",
   "mimetype": "text/x-python",
   "name": "python",
   "nbconvert_exporter": "python",
   "pygments_lexer": "ipython3",
   "version": "3.7.4"
  }
 },
 "nbformat": 4,
 "nbformat_minor": 4
}
