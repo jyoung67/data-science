{
 "cells": [
  {
   "cell_type": "markdown",
   "metadata": {},
   "source": [
    "# Interactive Plotting\n",
    "\n",
    "To get started, please install `ipywidgets`. You can do so using:\n",
    "\n",
    "```\n",
    "conda install ipywidgets\n",
    "```\n"
   ]
  },
  {
   "cell_type": "markdown",
   "metadata": {},
   "source": [
    "## Getting Started\n",
    "\n",
    "Let's import the usual suspects: `pandas`, `matplotlib`, `numpy`, and `ipywidgets`.\n",
    "\n",
    "Gensim is a very powerful module for performing all sorts of natural language processing. It has become the default for word embedding (word vector) models like word2vec and doc2vec. Because `gensim` is very large, we won't import the whole thing. We'll only import the parts that we're going to need.\n",
    "\n",
    "For many problems, you may want to refer to the Gensim documentation. This page will be particularly helpful: https://radimrehurek.com/gensim/models/ldamodel.html"
   ]
  },
  {
   "cell_type": "code",
   "execution_count": null,
   "metadata": {},
   "outputs": [],
   "source": [
    "import ipywidgets as widgets\n",
    "from ipywidgets import interact, interact_manual\n",
    "\n",
    "import pandas as pd\n",
    "import numpy as np\n",
    "import matplotlib.pyplot as plt\n"
   ]
  },
  {
   "cell_type": "markdown",
   "metadata": {},
   "source": [
    "## Example 1\n",
    "\n",
    "Let's first interact with a dataframe. We'll use the Twitter dataset for this. "
   ]
  },
  {
   "cell_type": "code",
   "execution_count": null,
   "metadata": {},
   "outputs": [],
   "source": [
    "docs = pd.read_csv(\"twitter.csv\")\n",
    "docs.head()\n"
   ]
  },
  {
   "cell_type": "markdown",
   "metadata": {},
   "source": [
    "Let's make a function that randomly samples a tweet given the Topic and Sentiment."
   ]
  },
  {
   "cell_type": "code",
   "execution_count": null,
   "metadata": {},
   "outputs": [],
   "source": [
    "def get_tweet(df, topic, sentiment):\n",
    "    ## Sample a row based on our conditions\n",
    "    row = df.loc[(df[\"Sentiment\"]==sentiment) & (df[\"Topic\"]==topic),\"TweetText\"].sample(n=1)\n",
    "    ## Get the tweet text out of the row we've returned\n",
    "    tweet = row.iloc[0]\n",
    "    ## Print the tweet\n",
    "    print(tweet)\n",
    "    \n",
    "get_tweet(docs, \"apple\",\"positive\")"
   ]
  },
  {
   "cell_type": "markdown",
   "metadata": {},
   "source": [
    "Now, let's make this function interactive! First, we need to know the possible options for sentiment and topic. We can get these from the dataframe itself."
   ]
  },
  {
   "cell_type": "code",
   "execution_count": null,
   "metadata": {},
   "outputs": [],
   "source": [
    "sentiment_options = docs[\"Sentiment\"].unique()\n",
    "topic_options = docs[\"Topic\"].unique()"
   ]
  },
  {
   "cell_type": "markdown",
   "metadata": {},
   "source": [
    "Now, let's make a new function that is interactive and calls our `get_tweet()` function. The user should choose from a list for sentiment and also choose from a list for topic. The `@interact` command will help make this very easy. `@interact` is what we call \"syntactic sugar\" because it makes our code look sweet. It turns any function into an interactive function! A helpful guide can be found here: https://towardsdatascience.com/interactive-controls-for-jupyter-notebooks-f5c94829aee6\n",
    "\n",
    "Check out the example below. When you run this block of code, it should give you a set of interactive widgets below."
   ]
  },
  {
   "cell_type": "code",
   "execution_count": null,
   "metadata": {
    "scrolled": true
   },
   "outputs": [],
   "source": [
    "@interact\n",
    "def sample_tweets(chosen_sentiment = sentiment_options,\n",
    "                  chosen_topic = topic_options):\n",
    "    get_tweet(docs, chosen_topic, chosen_sentiment)\n",
    "    "
   ]
  },
  {
   "cell_type": "markdown",
   "metadata": {},
   "source": [
    "Let's break down what is happening. The `@interact` is telling Python (ipywidgets) to interpret the function below as interactive. `@interact` magically knows that if an argument is given a list in your function definition, it should treat that list as set of options for the user (for example: `chosen_sentiment = sentiment_options` where `sentiment_options` is a list). Every time the user interacts with the function by changing an option, the function is run again with the new values that the user has selected.\n",
    "\n",
    "Once the user selects values for `chosen_sentiment` and `chosen_topic`, our function simply calls the `get_tweet()` function that we defined above. It passes the `docs` dataframe with our tweets in it and the chosen values for sentiment and topic. Then, `get_tweet()` handles the rest. "
   ]
  },
  {
   "cell_type": "markdown",
   "metadata": {},
   "source": [
    "## Example 2\n",
    "\n",
    "Sweet. Let's try it with plotting now. We can adjust all of the parameters of our plots this way. Let's try this with `iris.csv` since it makes life so easy."
   ]
  },
  {
   "cell_type": "code",
   "execution_count": null,
   "metadata": {},
   "outputs": [],
   "source": [
    "iris = pd.read_csv(\"iris.csv\")"
   ]
  },
  {
   "cell_type": "code",
   "execution_count": null,
   "metadata": {},
   "outputs": [],
   "source": [
    "def plot_iris(df, x, y, versicolor_color, virginica_color, setosa_color, xlim=None, ylim=None):\n",
    "    ## Start a new figure\n",
    "    fig, ax = plt.subplots()\n",
    "    ## Define a dictionary that maps species to the chosen color\n",
    "    colors = {'versicolor':versicolor_color, 'virginica':virginica_color, 'setosa':setosa_color}\n",
    "    ## Plot the scatterplot of x variable, y variable, and species by color\n",
    "    ax.scatter(df[x], df[y], c=df['Species'].apply(lambda x: colors[x]))\n",
    "    ## Set the X and Y axis limits\n",
    "    if xlim is not None:\n",
    "        plt.xlim(xlim[0],xlim[1])\n",
    "    if ylim is not None:\n",
    "        plt.ylim(ylim[0],ylim[1])\n",
    "    ## Show the plot\n",
    "    plt.show()\n",
    "    \n",
    "plot_iris(iris,\"SepalLength\",\"SepalWidth\",\"red\",\"green\",\"blue\",(0,10),(0,10))"
   ]
  },
  {
   "cell_type": "markdown",
   "metadata": {},
   "source": [
    "The function above, `plot_iris`, allows the user to specify which variables from the iris dataset will be plotted, the colors for each species, and the x and y limits for the axes. X and Y limits should be specified as tuples (xmin,xmax). Colors must be value colors in Python. Python includes several named colors.\n",
    "\n",
    "The below code should launch an interactive version of the function above."
   ]
  },
  {
   "cell_type": "code",
   "execution_count": null,
   "metadata": {},
   "outputs": [],
   "source": [
    "xlim_slider = widgets.FloatRangeSlider(min=0,max=10,step=0.5)\n",
    "ylim_slider = widgets.FloatRangeSlider(min=0,max=10,step=0.5)\n",
    "\n",
    "@interact\n",
    "def interactive_iris(x=[\"SepalLength\",\"SepalWidth\",\"PetalLength\",\"PetalWidth\"],\n",
    "                     y=[\"SepalLength\",\"SepalWidth\",\"PetalLength\",\"PetalWidth\"],\n",
    "                     versicolor_color=[\"red\",\"green\",\"blue\",\"yellow\",\"orange\",\"purple\",\"black\"],\n",
    "                     virginica_color=[\"red\",\"green\",\"blue\",\"yellow\",\"orange\",\"purple\",\"black\"],\n",
    "                     setosa_color=[\"red\",\"green\",\"blue\",\"yellow\",\"orange\",\"purple\",\"black\"],\n",
    "                     xlim=xlim_slider,\n",
    "                     ylim=ylim_slider):\n",
    "    plot_iris(iris,x,y,versicolor_color,virginica_color,setosa_color,xlim,ylim)\n"
   ]
  },
  {
   "cell_type": "markdown",
   "metadata": {},
   "source": [
    "## Example 3\n",
    "\n",
    "It turns out, we can write interactive functions to control all sorts of things in Python, not just plots! So, let's write a function that uses Random Forests to classify irises. The user can select some model parameters and then see how the performance is affected.\n",
    "\n",
    "First, let's print the true classifications for reference."
   ]
  },
  {
   "cell_type": "code",
   "execution_count": null,
   "metadata": {},
   "outputs": [],
   "source": [
    "iris_test = pd.read_csv(\"iris_test.csv\")\n",
    "\n",
    "plot_iris(iris_test,\"PetalWidth\",\"PetalLength\",\"red\",\"blue\",\"orange\",(0,3),(0,8))"
   ]
  },
  {
   "cell_type": "code",
   "execution_count": null,
   "metadata": {},
   "outputs": [],
   "source": [
    "from sklearn.ensemble import RandomForestClassifier\n",
    "from sklearn.model_selection import train_test_split\n",
    "\n",
    "features_selection = widgets.SelectMultiple(\n",
    "    options=['PetalLength',\"PetalWidth\",\"SepalLength\",\"SepalWidth\"],\n",
    "    value=['PetalLength',\"PetalWidth\"],\n",
    "    description='Features',\n",
    "    disabled=False\n",
    ")\n",
    "\n",
    "@interact\n",
    "def estimate_random_forest(features=features_selection,\n",
    "                           n_estimators=(1,10,1), \n",
    "                           max_depth=(1,10,1),  \n",
    "                           max_samples=(1,50,5), \n",
    "                           max_leaf_nodes=(2,10,1),\n",
    "                           xaxis=['PetalLength',\"PetalWidth\",\"SepalLength\",\"SepalWidth\"],\n",
    "                           yaxis=['PetalWidth',\"PetalLength\",\"SepalLength\",\"SepalWidth\"],\n",
    "                           show_true=False):\n",
    "    ## Initialize a model with our chosen hyperparameters\n",
    "    rf_model = RandomForestClassifier(n_estimators=n_estimators, \n",
    "                                      max_depth=max_depth, \n",
    "                                      max_samples=max_samples,\n",
    "                                      max_leaf_nodes=max_leaf_nodes,\n",
    "                                      random_state=1234, class_weight=\"balanced\")\n",
    "    ## Fit the model to the training data\n",
    "    rf_model.fit(iris[list(features)], iris[\"Species\"])\n",
    "    ## Make predictions for the test data\n",
    "    predictions = rf_model.predict(iris_test[list(features)])\n",
    "    ## Make a new test set copy\n",
    "    iris_predicted = iris_test.copy()\n",
    "    ## Should we replace the true values with our predictions?\n",
    "    if show_true is False:\n",
    "        iris_predicted[\"Species\"] = predictions\n",
    "    ## Plot the results\n",
    "    plot_iris(iris_predicted,xaxis,yaxis,\"red\",\"blue\",\"orange\",None,None)\n",
    "    \n"
   ]
  },
  {
   "cell_type": "markdown",
   "metadata": {},
   "source": [
    "Every time you adjust a slider, an entire new random forest model is being estimated. Because of some tricky programming from our `plot_iris` function, the x and y axis limits should adjust automatically based on the features you pick. You can select one or more features on which to run the random forest."
   ]
  },
  {
   "cell_type": "markdown",
   "metadata": {},
   "source": [
    "## Problem 1\n",
    "\n",
    "Alright. Your turn! Make a cool interactive plot or function. Exactly what this should look like is up to you. If you need some ideas, check out the following resources:\n",
    "\n",
    "* Basic tutorial for @interact: https://towardsdatascience.com/interactive-controls-for-jupyter-notebooks-f5c94829aee6\n",
    "* All available widget controls: https://ipywidgets.readthedocs.io/en/stable/examples/Widget%20List.html#Selection-widgets\n",
    "* Simple intro to ipywidgets: https://ipywidgets.readthedocs.io/en/stable/examples/Widget%20Basics.html\n",
    "* Examples of non-interactive plots (matplotlib) for inspiration: https://matplotlib.org/3.1.1/gallery/index.html"
   ]
  },
  {
   "cell_type": "code",
   "execution_count": null,
   "metadata": {},
   "outputs": [],
   "source": []
  }
 ],
 "metadata": {
  "kernelspec": {
   "display_name": "Python [conda env:grad6009]",
   "language": "python",
   "name": "conda-env-grad6009-py"
  },
  "language_info": {
   "codemirror_mode": {
    "name": "ipython",
    "version": 3
   },
   "file_extension": ".py",
   "mimetype": "text/x-python",
   "name": "python",
   "nbconvert_exporter": "python",
   "pygments_lexer": "ipython3",
   "version": "3.6.10"
  }
 },
 "nbformat": 4,
 "nbformat_minor": 4
}
