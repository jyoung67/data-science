{
 "cells": [
  {
   "cell_type": "markdown",
   "metadata": {},
   "source": [
    "# KNN - A Real Simple Algorithm\n",
    "\n",
    "KNN stands for \"K Nearest Neighbors\" algorithm. It is a very simple, intuitive, and powerful method for both classification and regression. Classification is the task of assigning data points to discrete categories. Regression is the task of estimating a numerical value for a data point given a set of predictors.\n",
    "\n",
    "Today, we will use KNN to classify iris species using the length and width of their sepals.\n",
    "\n",
    "<img src=\"http://suruchifialoke.com/img/ML/iris.png\"></img>"
   ]
  },
  {
   "cell_type": "markdown",
   "metadata": {},
   "source": [
    "-------\n",
    "\n",
    "## Problem 1\n",
    "\n",
    "Import our libraries. We are going to need collections, pandas (pd), matplotlib (plt), and numpy (np)."
   ]
  },
  {
   "cell_type": "code",
   "execution_count": 175,
   "metadata": {},
   "outputs": [],
   "source": [
    "import pandas as pd\n",
    "import numpy as np\n",
    "import matplotlib as plt"
   ]
  },
  {
   "cell_type": "markdown",
   "metadata": {},
   "source": [
    "## Problem 2\n",
    "\n",
    "Load the provided `iris.csv` file into a dataframes. For consistency, call it `irisDF`. "
   ]
  },
  {
   "cell_type": "code",
   "execution_count": 176,
   "metadata": {},
   "outputs": [],
   "source": [
    "irisDF = pd.read_csv(\"./iris/iris.csv\") "
   ]
  },
  {
   "cell_type": "markdown",
   "metadata": {},
   "source": [
    "## Problem 3\n",
    "\n",
    "Use the `head()` method to print the first five rows of the dataframe. Now that we're starting to use modules, it will be helpful to distinguish functions from methods. A function is a command that stands on it's own. For example, `print(\"text\")` is a function. So is `sum([1,2,3])`. A method is a function that is tied to a specific object. For example, we cannot write `head(irisDF)` because Python does not know what the function `head()` is. However, we can write `irisDF.head()` because there is a `head()` method built-in to Pandas data frame objects."
   ]
  },
  {
   "cell_type": "code",
   "execution_count": 177,
   "metadata": {},
   "outputs": [
    {
     "data": {
      "text/html": [
       "<div>\n",
       "<style scoped>\n",
       "    .dataframe tbody tr th:only-of-type {\n",
       "        vertical-align: middle;\n",
       "    }\n",
       "\n",
       "    .dataframe tbody tr th {\n",
       "        vertical-align: top;\n",
       "    }\n",
       "\n",
       "    .dataframe thead th {\n",
       "        text-align: right;\n",
       "    }\n",
       "</style>\n",
       "<table border=\"1\" class=\"dataframe\">\n",
       "  <thead>\n",
       "    <tr style=\"text-align: right;\">\n",
       "      <th></th>\n",
       "      <th>SepalLength</th>\n",
       "      <th>SepalWidth</th>\n",
       "      <th>PetalLength</th>\n",
       "      <th>PetalWidth</th>\n",
       "      <th>Species</th>\n",
       "    </tr>\n",
       "  </thead>\n",
       "  <tbody>\n",
       "    <tr>\n",
       "      <td>0</td>\n",
       "      <td>4.4</td>\n",
       "      <td>2.9</td>\n",
       "      <td>1.4</td>\n",
       "      <td>0.2</td>\n",
       "      <td>setosa</td>\n",
       "    </tr>\n",
       "    <tr>\n",
       "      <td>1</td>\n",
       "      <td>5.5</td>\n",
       "      <td>2.5</td>\n",
       "      <td>4.0</td>\n",
       "      <td>1.3</td>\n",
       "      <td>versicolor</td>\n",
       "    </tr>\n",
       "    <tr>\n",
       "      <td>2</td>\n",
       "      <td>5.7</td>\n",
       "      <td>2.9</td>\n",
       "      <td>4.2</td>\n",
       "      <td>1.3</td>\n",
       "      <td>versicolor</td>\n",
       "    </tr>\n",
       "    <tr>\n",
       "      <td>3</td>\n",
       "      <td>6.9</td>\n",
       "      <td>3.1</td>\n",
       "      <td>4.9</td>\n",
       "      <td>1.5</td>\n",
       "      <td>versicolor</td>\n",
       "    </tr>\n",
       "    <tr>\n",
       "      <td>4</td>\n",
       "      <td>6.5</td>\n",
       "      <td>2.8</td>\n",
       "      <td>4.6</td>\n",
       "      <td>1.5</td>\n",
       "      <td>versicolor</td>\n",
       "    </tr>\n",
       "  </tbody>\n",
       "</table>\n",
       "</div>"
      ],
      "text/plain": [
       "   SepalLength  SepalWidth  PetalLength  PetalWidth     Species\n",
       "0          4.4         2.9          1.4         0.2      setosa\n",
       "1          5.5         2.5          4.0         1.3  versicolor\n",
       "2          5.7         2.9          4.2         1.3  versicolor\n",
       "3          6.9         3.1          4.9         1.5  versicolor\n",
       "4          6.5         2.8          4.6         1.5  versicolor"
      ]
     },
     "execution_count": 177,
     "metadata": {},
     "output_type": "execute_result"
    }
   ],
   "source": [
    "## Call head() on irisDF here.\n",
    "irisDF.head()"
   ]
  },
  {
   "cell_type": "markdown",
   "metadata": {},
   "source": [
    "## Problem 4\n",
    "\n",
    "Let's plot our data. Following the example here: https://pandas.pydata.org/pandas-docs/stable/reference/api/pandas.DataFrame.plot.scatter.html, plot the sepal length (x) and the sepal width (y)."
   ]
  },
  {
   "cell_type": "code",
   "execution_count": 195,
   "metadata": {},
   "outputs": [
    {
     "data": {
      "image/png": "[encoded data removed]",
      "text/plain": [
       "<Figure size 432x288 with 1 Axes>"
      ]
     },
     "metadata": {
      "needs_background": "light"
     },
     "output_type": "display_data"
    }
   ],
   "source": [
    "## STEP 1: Get the Species column from irisDF in a list.\n",
    "species = irisDF.Species\n",
    "\n",
    "## STEP 2: Use the set() function to get the unique species names.\n",
    "species = list(set(irisDF.Species))\n",
    "\n",
    "## STEP 3: Make a dictionary that maps species_name to colors \n",
    "## of your choice.\n",
    "## You can hand-code this dictionary if you like.\n",
    "colors = [\"red\", \"yellow\", \"blue\"]\n",
    "\n",
    "d = {}\n",
    "for idx, item in enumerate(species):\n",
    "    d.update({item:colors[idx]})\n",
    "\n",
    "## STEP 4: Make a new list as long as your dataframe\n",
    "## where every entry is the color the corresponds\n",
    "## to the iris species of that row.\n",
    "colorList = []\n",
    "for item in irisDF.Species:\n",
    "    colorList.append(d[item])\n",
    "\n",
    "\n",
    "## STEP 5: Plot PetalLength (x) and PetalWidth (y) where points are\n",
    "## colored by your color list\n",
    "r = irisDF.plot.scatter(x=\"SepalLength\", y=\"SepalWidth\", c=colorList)"
   ]
  },
  {
   "cell_type": "markdown",
   "metadata": {},
   "source": [
    "## Problem 5\n",
    "\n",
    "For KNN, we need a function that takes two numpy arrays and computes the Euclidean distance between them. Below, I've given you three tests. If your function computes the distance properly, all will return true."
   ]
  },
  {
   "cell_type": "code",
   "execution_count": 196,
   "metadata": {},
   "outputs": [],
   "source": [
    "def euclidean(x,y):\n",
    "    \"\"\"\n",
    "    Input\n",
    "        x: a 1-dimensional numpy array\n",
    "        y: a 1-dimensional numpy array\n",
    "    Output\n",
    "        A single number, the euclidean distance between x and y\n",
    "    \"\"\"\n",
    "    \n",
    "\n",
    "    return(np.sqrt(np.sum((x - y)**2)))\n"
   ]
  },
  {
   "cell_type": "code",
   "execution_count": 197,
   "metadata": {},
   "outputs": [
    {
     "name": "stdout",
     "output_type": "stream",
     "text": [
      "True\n",
      "True\n",
      "True\n"
     ]
    }
   ],
   "source": [
    "## The following should print True True True\n",
    "testX = np.array([0,0,0])\n",
    "testY = np.array([1,0,0])\n",
    "testZ = np.array([-10,0,0])\n",
    "print(euclidean(testX, testY) == 1)\n",
    "print(euclidean(testX, testZ) == 10)\n",
    "print(euclidean(testY, testZ) == 11)"
   ]
  },
  {
   "cell_type": "markdown",
   "metadata": {},
   "source": [
    "## Problem 6\n",
    "\n",
    "Now we need a function to compute a lot of distances. In particular, we want to input x, a single point, and Y, a 2 dimensional numpy array of many points (each point is a row). This next function should return a numpy array of the euclidean distance from x to each point in Y."
   ]
  },
  {
   "cell_type": "code",
   "execution_count": 198,
   "metadata": {},
   "outputs": [],
   "source": [
    "def many_distances(x,Y):\n",
    "    \n",
    "    \"\"\"\n",
    "    Input\n",
    "        x: a single point as a numpy array\n",
    "        Y: a 2-dimensional numpy array\n",
    "    Output\n",
    "        a numpy array of euclidean distances\n",
    "    \"\"\"\n",
    "    result = np.zeros(Y.shape[0])\n",
    "    for idx, pt in enumerate(Y):\n",
    "        dist = euclidean(x, pt)\n",
    "        result[idx] = dist\n",
    "    return(result)\n"
   ]
  },
  {
   "cell_type": "code",
   "execution_count": 199,
   "metadata": {},
   "outputs": [
    {
     "data": {
      "text/plain": [
       "array([ 0.,  1., 10.])"
      ]
     },
     "execution_count": 199,
     "metadata": {},
     "output_type": "execute_result"
    }
   ],
   "source": [
    "## The following line should return array([0., 1., 10.])\n",
    "testX = np.array([0,0,0])\n",
    "testY = np.array([1,0,0])\n",
    "testZ = np.array([-10,0,0])\n",
    "test_many_points = np.array([testX, testY, testZ])\n",
    "many_distances(testX, test_many_points)"
   ]
  },
  {
   "cell_type": "markdown",
   "metadata": {},
   "source": [
    "## Problem 7\n",
    "\n",
    "Now, we need to find the indices of the N smallest elements in a numpy array. In other words, we need a function that answers the question \"given a numpy array, what are the indices of the N smallest elements?\" We can use https://docs.scipy.org/doc/numpy/reference/generated/numpy.argsort.html to do this."
   ]
  },
  {
   "cell_type": "code",
   "execution_count": 200,
   "metadata": {},
   "outputs": [],
   "source": [
    "def closest_indices(dists, n):\n",
    "    \n",
    "    \"\"\"\n",
    "    Input\n",
    "        dists: a numpy array of distances (1 dimensional)\n",
    "        n: the number of lowest values to find\n",
    "    Output\n",
    "        a numpy array with the indexes in dists where the\n",
    "        n lowest values are located.\n",
    "    \"\"\"\n",
    "    arrIndexes = np.argsort(dists)    \n",
    "    return(arrIndexes[0:n])"
   ]
  },
  {
   "cell_type": "code",
   "execution_count": 201,
   "metadata": {},
   "outputs": [
    {
     "data": {
      "text/plain": [
       "array([0, 3])"
      ]
     },
     "execution_count": 201,
     "metadata": {},
     "output_type": "execute_result"
    }
   ],
   "source": [
    "## This should return array([0,3])\n",
    "test_dist = np.array([0,5,4,2,9])\n",
    "test_n = 2\n",
    "closest_indices(test_dist, test_n)"
   ]
  },
  {
   "cell_type": "markdown",
   "metadata": {},
   "source": [
    "## Problem 8\n",
    "\n",
    "Now, we need a function that takes a numpy array and a list and returns only the elements of the list whose index values are in the numpy array."
   ]
  },
  {
   "cell_type": "code",
   "execution_count": 202,
   "metadata": {},
   "outputs": [],
   "source": [
    "def get_values_by_index(indices, values):\n",
    "    \"\"\"\n",
    "    Input\n",
    "        indices: a numpy array of indices\n",
    "        values: a list of values\n",
    "    Output\n",
    "        a list of elements from values whose indexes\n",
    "        are the values in indices\n",
    "    \"\"\"\n",
    "    arr = np.array(values)\n",
    "    return(arr[indices])\n"
   ]
  },
  {
   "cell_type": "code",
   "execution_count": 203,
   "metadata": {},
   "outputs": [
    {
     "name": "stdout",
     "output_type": "stream",
     "text": [
      "['red' 'blue']\n"
     ]
    }
   ],
   "source": [
    "## This should return [\"red\",\"blue\"]\n",
    "test_indices = np.array([0,2])\n",
    "test_colors = [\"red\",\"green\",\"blue\",\"purple\",\"orange\"]\n",
    "print(get_values_by_index(test_indices, test_colors))"
   ]
  },
  {
   "cell_type": "markdown",
   "metadata": {},
   "source": [
    "## Problem 9\n",
    "\n",
    "Now we need a function that takes a list as input and returns that list's most common element. If there is a tie, it can return any of the most common values."
   ]
  },
  {
   "cell_type": "code",
   "execution_count": 204,
   "metadata": {},
   "outputs": [],
   "source": [
    "def get_mode(values):\n",
    "    \"\"\"\n",
    "    Input\n",
    "        values: a lists of values\n",
    "    Output\n",
    "        the most common value in the list.\n",
    "        If there's a tie, break it any way you want to.\n",
    "    \"\"\"\n",
    "    counts = np.unique(values, return_counts=True)\n",
    "    cnt = np.argsort(counts[1])   \n",
    "    colorIndex = cnt[len(cnt) -1]\n",
    "    label = counts[0][colorIndex]    \n",
    "    return(label)"
   ]
  },
  {
   "cell_type": "code",
   "execution_count": 205,
   "metadata": {},
   "outputs": [
    {
     "data": {
      "text/plain": [
       "'green'"
      ]
     },
     "execution_count": 205,
     "metadata": {},
     "output_type": "execute_result"
    }
   ],
   "source": [
    "## This should return \"green\"\n",
    "get_mode([\"green\",\"orange\",\"red\",\"green\"])"
   ]
  },
  {
   "cell_type": "markdown",
   "metadata": {},
   "source": [
    "## Problem 10\n",
    "\n",
    "Let's write our KNN function! This function will take in a set of unlabeled points for which we want to make predictions (the test set), a set of labeled points that we use to \"train\" the model, and a set of labels associated with the training data. Also, it will accept a value for K - how many nearest neighbors to use for estimating class membership.\n",
    "\n",
    "The steps should be the following:\n",
    "\n",
    "1. Initialize an empty list that we will fill with our predictions.\n",
    "2. Iterate over our tests set rows (points).\n",
    "3. Compute the distances between each test point and all training points.\n",
    "4. Find the indices of the k nearest points.\n",
    "5. Get the training labels (species) associated with each of the k index values.\n",
    "6. Find the most common label associated with the k values.\n",
    "7. Add the most common label to our prediction list.\n",
    "8. Return the list of predictions."
   ]
  },
  {
   "cell_type": "code",
   "execution_count": 206,
   "metadata": {},
   "outputs": [],
   "source": [
    "def knn(test, train, labels, k=1):\n",
    "    \"\"\"\n",
    "    Input\n",
    "        test: A 2-D numpy array of points (rows) and features (cols)\n",
    "        train: A 2-D numpy array of points (rows) and features (cols)\n",
    "        labels: A list of labels associated with train points\n",
    "    Output\n",
    "        A list of best guesses for the test labels\n",
    "    \"\"\"\n",
    "    output = []\n",
    "    for pt in test:\n",
    "        dists = many_distances(pt,train)\n",
    "        label_indices = closest_indices(dists, k)\n",
    "        labelSet = get_values_by_index(label_indices, labels)        \n",
    "        predictedLabel = get_mode(labelSet)\n",
    "        output.append(predictedLabel)     \n",
    "\n",
    "    return(output)\n",
    "        "
   ]
  },
  {
   "cell_type": "code",
   "execution_count": 207,
   "metadata": {},
   "outputs": [
    {
     "name": "stdout",
     "output_type": "stream",
     "text": [
      "['setosa', 'setosa', 'setosa', 'setosa', 'setosa', 'setosa', 'setosa', 'setosa', 'setosa', 'setosa', 'setosa', 'setosa', 'setosa', 'setosa', 'setosa', 'setosa', 'setosa', 'setosa', 'setosa', 'setosa', 'setosa', 'setosa', 'setosa', 'setosa', 'virginica', 'versicolor', 'versicolor', 'virginica', 'versicolor', 'virginica', 'versicolor', 'versicolor', 'versicolor', 'virginica', 'versicolor', 'virginica', 'virginica', 'versicolor', 'versicolor', 'versicolor', 'versicolor', 'virginica', 'virginica', 'virginica', 'virginica', 'versicolor', 'versicolor', 'virginica', 'virginica', 'virginica', 'versicolor', 'virginica', 'versicolor', 'virginica', 'virginica', 'versicolor', 'versicolor', 'virginica', 'virginica', 'virginica', 'virginica', 'virginica', 'virginica', 'virginica', 'virginica', 'virginica', 'versicolor', 'virginica', 'virginica', 'versicolor', 'versicolor', 'virginica', 'virginica', 'virginica', 'versicolor']\n"
     ]
    }
   ],
   "source": [
    "## If we did this right, then you should be able to run the following:\n",
    "\n",
    "## Load our test set\n",
    "irisTestDF = pd.read_csv(\"./iris/iris_test.csv\")\n",
    "\n",
    "## Turn our test set variables into a numpy array\n",
    "test_points = np.array(irisTestDF[[\"SepalLength\",\"SepalWidth\"]])\n",
    "\n",
    "## Turn our training set variables into a numpy array\n",
    "train_points = np.array(irisDF[[\"SepalLength\",\"SepalWidth\"]])\n",
    "\n",
    "## Compute the knn predictions for our test points\n",
    "results = knn(test_points, train_points, irisDF[\"Species\"], k=3)\n",
    "\n",
    "## Check out our sweet list of results\n",
    "print(results)"
   ]
  },
  {
   "cell_type": "markdown",
   "metadata": {},
   "source": [
    "## Problem 11\n",
    "\n",
    "Plot the predicted values and the true values. To do this, follow these steps:\n",
    "\n",
    "1. Make a new list called `predicted_colors` like we did in Problem 4 where we replace our `results` values from problem 10 with their associated colors.\n",
    "2. Make a list called `true_values` that contains the values from `irisTestDF.Species`.\n",
    "3. Make a new list called `true_colors` where we replace the `true_values` species names with their associated colors.\n",
    "4. Plot a scatterplot of `irisTestDF.SepalLength` and `irisTestDF.SepalWidth` colored by `true_colors`.\n",
    "5. Plot a scatterplot of `irisTestDF.SepalLength` and `irisTestDF.SepalWidth` colored by `predicted_colors`."
   ]
  },
  {
   "cell_type": "code",
   "execution_count": 208,
   "metadata": {},
   "outputs": [
    {
     "data": {
      "image/png": "[encoded data removed]",
      "text/plain": [
       "<Figure size 432x288 with 1 Axes>"
      ]
     },
     "metadata": {
      "needs_background": "light"
     },
     "output_type": "display_data"
    },
    {
     "data": {
      "image/png": "[encoded data removed]",
      "text/plain": [
       "<Figure size 432x288 with 1 Axes>"
      ]
     },
     "metadata": {
      "needs_background": "light"
     },
     "output_type": "display_data"
    }
   ],
   "source": [
    "predicted_colors = []\n",
    "for r in results:\n",
    "    predicted_colors.append(d[r])\n",
    "    \n",
    "true_values = []\n",
    "for r in irisTestDF.Species:\n",
    "    true_values.append(d[r])\n",
    "    \n",
    "r1 = irisTestDF.plot.scatter(x=\"SepalLength\", y=\"SepalWidth\", c=true_values, title=\"True Labels\")\n",
    "r2 = irisTestDF.plot.scatter(x=\"SepalLength\", y=\"SepalWidth\", c=predicted_colors, title=\"Predicted Labels (K=3)\")"
   ]
  },
  {
   "cell_type": "markdown",
   "metadata": {},
   "source": [
    "## Problem 12\n",
    "\n",
    "Write a function that computes multiclass accuracy. Multiclass accuracy is just the percentage of observations (rows) that are classified correctly."
   ]
  },
  {
   "cell_type": "code",
   "execution_count": 209,
   "metadata": {},
   "outputs": [],
   "source": [
    "def multiclass_accuracy(truth,predictions):\n",
    "    \"\"\"\n",
    "    Input\n",
    "        truth: a list of true labels\n",
    "        predictions: a list of predicted labels\n",
    "    Output\n",
    "        a single value - the multiclass accuracy\n",
    "    \"\"\"\n",
    "    cmp = np.array(truth) == np.array(predictions)\n",
    "    wrong = len(cmp[cmp == False])\n",
    "    right = len(cmp[cmp == True])\n",
    "    accuracy = right/(wrong + right)\n",
    "    return(accuracy)"
   ]
  },
  {
   "cell_type": "markdown",
   "metadata": {},
   "source": [
    "## Problem 13\n",
    "\n",
    "Use our KNN function to classify irisTestDF 10 times, once each for:\n",
    "\n",
    "* k = 1\n",
    "* k = 2\n",
    "* k = 3\n",
    "* k = 4\n",
    "* k = 5\n",
    "* k = 6\n",
    "* k = 7\n",
    "* k = 8\n",
    "* k = 9\n",
    "* k = 10\n",
    "\n",
    "Which one has the highest multiclass accuracy? \n",
    "<br>**K= 5 has the highest multiclass accuracy (78.7%).**"
   ]
  },
  {
   "cell_type": "code",
   "execution_count": 210,
   "metadata": {},
   "outputs": [],
   "source": [
    "results1 = knn(test_points, train_points, irisDF[\"Species\"], k=1)\n",
    "results2 = knn(test_points, train_points, irisDF[\"Species\"], k=2)\n",
    "results3 = knn(test_points, train_points, irisDF[\"Species\"], k=3)\n",
    "results4 = knn(test_points, train_points, irisDF[\"Species\"], k=4)\n",
    "results5 = knn(test_points, train_points, irisDF[\"Species\"], k=5)\n",
    "results6 = knn(test_points, train_points, irisDF[\"Species\"], k=6)\n",
    "results7 = knn(test_points, train_points, irisDF[\"Species\"], k=7)\n",
    "results8 = knn(test_points, train_points, irisDF[\"Species\"], k=8)\n",
    "results9 = knn(test_points, train_points, irisDF[\"Species\"], k=9)\n",
    "results10 = knn(test_points, train_points, irisDF[\"Species\"], k=10)"
   ]
  },
  {
   "cell_type": "code",
   "execution_count": 211,
   "metadata": {},
   "outputs": [
    {
     "name": "stdout",
     "output_type": "stream",
     "text": [
      "K=1: 72.0%\n",
      "K=2: 68.0%\n",
      "K=3: 73.3%\n",
      "K=4: 74.7%\n",
      "K=5: 78.7%\n",
      "K=6: 69.3%\n",
      "K=7: 72.0%\n",
      "K=8: 68.0%\n",
      "K=9: 74.7%\n",
      "K=10: 73.3%\n"
     ]
    }
   ],
   "source": [
    "print(\"K=1:\",'{:.1%}'.format(multiclass_accuracy(results1,irisTestDF[\"Species\"])))\n",
    "print(\"K=2:\",'{:.1%}'.format(multiclass_accuracy(results2,irisTestDF[\"Species\"])))\n",
    "print(\"K=3:\",'{:.1%}'.format(multiclass_accuracy(results3,irisTestDF[\"Species\"])))\n",
    "print(\"K=4:\",'{:.1%}'.format(multiclass_accuracy(results4,irisTestDF[\"Species\"])))\n",
    "print(\"K=5:\",'{:.1%}'.format(multiclass_accuracy(results5,irisTestDF[\"Species\"])))\n",
    "print(\"K=6:\",'{:.1%}'.format(multiclass_accuracy(results6,irisTestDF[\"Species\"])))\n",
    "print(\"K=7:\",'{:.1%}'.format(multiclass_accuracy(results7,irisTestDF[\"Species\"])))\n",
    "print(\"K=8:\",'{:.1%}'.format(multiclass_accuracy(results8,irisTestDF[\"Species\"])))\n",
    "print(\"K=9:\",'{:.1%}'.format(multiclass_accuracy(results9,irisTestDF[\"Species\"])))\n",
    "print(\"K=10:\",'{:.1%}'.format(multiclass_accuracy(results10,irisTestDF[\"Species\"])))"
   ]
  }
 ],
 "metadata": {
  "kernelspec": {
   "display_name": "Python 3",
   "language": "python",
   "name": "python3"
  },
  "language_info": {
   "codemirror_mode": {
    "name": "ipython",
    "version": 3
   },
   "file_extension": ".py",
   "mimetype": "text/x-python",
   "name": "python",
   "nbconvert_exporter": "python",
   "pygments_lexer": "ipython3",
   "version": "3.7.4"
  }
 },
 "nbformat": 4,
 "nbformat_minor": 2
}
